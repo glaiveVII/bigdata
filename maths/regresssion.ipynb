{
 "cells": [
  {
   "cell_type": "markdown",
   "metadata": {},
   "source": [
    "# Jupiter done by Julien Pelegri & Elouan Raymond"
   ]
  },
  {
   "cell_type": "markdown",
   "metadata": {},
   "source": [
    "# Multy linear regression"
   ]
  },
  {
   "cell_type": "code",
   "execution_count": 52,
   "metadata": {},
   "outputs": [
    {
     "name": "stdout",
     "output_type": "stream",
     "text": [
      "/Users/pel_btc_coding/code/PelDoingCode/bigdata/maths\r\n"
     ]
    }
   ],
   "source": [
    "!pwd"
   ]
  },
  {
   "cell_type": "code",
   "execution_count": 53,
   "metadata": {},
   "outputs": [
    {
     "name": "stdout",
     "output_type": "stream",
     "text": [
      "total 180544\r\n",
      "-rw-r--r--  1 pel_btc_coding  staff       276 May 13 09:16 Documentation_TP.md\r\n",
      "-rwxr-xr-x@ 1 pel_btc_coding  staff    146978 May 12 17:28 \u001b[31mMÇthodes MathÇmatiques pour la Grande Dimension.pdf\u001b[m\u001b[m*\r\n",
      "-rwxr-xr-x@ 1 pel_btc_coding  staff     23149 May 13 08:07 \u001b[31mNYT_words.dat\u001b[m\u001b[m*\r\n",
      "-rwxr-xr-x@ 1 pel_btc_coding  staff  50884728 May 13 08:07 \u001b[31mNYT_words_matrix.csv\u001b[m\u001b[m*\r\n",
      "-rw-r--r--  1 pel_btc_coding  staff     13399 May 31 17:35 Regression Lineaire & Multiple.ipynb\r\n",
      "-rw-r--r--  1 pel_btc_coding  staff    262195 May 13 12:15 TP - MMGD - ER.ipynb\r\n",
      "-rwxr-xr-x@ 1 pel_btc_coding  staff    352494 May 13 08:06 \u001b[31manime_names.csv\u001b[m\u001b[m*\r\n",
      "-rwxr-xr-x@ 1 pel_btc_coding  staff  39914789 May 13 08:07 \u001b[31manime_ratings_by_user.csv\u001b[m\u001b[m*\r\n",
      "-rwxr-xr-x@ 1 pel_btc_coding  staff       180 May 27 16:43 \u001b[31mdata_regression.txt\u001b[m\u001b[m*\r\n",
      "-rw-r--r--@ 1 pel_btc_coding  staff      9825 May 18 11:02 data_regression.xlsx\r\n",
      "-rw-r--r--  1 pel_btc_coding  staff    521173 May 31 17:59 pel-TP.ipynb\r\n",
      "-rw-r--r--  1 pel_btc_coding  staff    278281 May 31 18:32 regresssion.ipynb\r\n"
     ]
    }
   ],
   "source": [
    "ls -l"
   ]
  },
  {
   "cell_type": "markdown",
   "metadata": {},
   "source": [
    "## Load dataset "
   ]
  },
  {
   "cell_type": "code",
   "execution_count": 54,
   "metadata": {},
   "outputs": [
    {
     "name": "stdout",
     "output_type": "stream",
     "text": [
      "   X0    X1    X2     Y\n",
      "0   1  0.72  0.32  6.93\n",
      "1   1  0.75  0.12  5.99\n",
      "2   1  0.53  0.65  1.46\n",
      "3   1  0.27  0.82  1.44\n",
      "4   1  0.49  0.15  4.51\n",
      "5   1  0.02  0.19  1.25\n",
      "6   1  0.35  0.87  2.53\n",
      "7   1  0.99  0.71  6.88\n",
      "8   1  0.98  0.92  6.25\n",
      "9   1  0.73  0.19  6.36\n"
     ]
    }
   ],
   "source": [
    "import pandas as pd\n",
    "\n",
    "df = pd.read_excel (r'data_regression.xlsx')\n",
    "print (df)"
   ]
  },
  {
   "cell_type": "code",
   "execution_count": 55,
   "metadata": {},
   "outputs": [
    {
     "data": {
      "image/png": "[encoded data removed]",
      "text/plain": [
       "<Figure size 432x288 with 1 Axes>"
      ]
     },
     "metadata": {
      "needs_background": "light"
     },
     "output_type": "display_data"
    }
   ],
   "source": [
    "\n",
    "%matplotlib inline  \n",
    "\n",
    "boxplot = df.boxplot(column=['X0', 'X1','X2'])"
   ]
  },
  {
   "cell_type": "code",
   "execution_count": 56,
   "metadata": {},
   "outputs": [
    {
     "data": {
      "text/plain": [
       "<matplotlib.axes._subplots.AxesSubplot at 0x1402ebb38>"
      ]
     },
     "execution_count": 56,
     "metadata": {},
     "output_type": "execute_result"
    },
    {
     "data": {
      "image/png": "[encoded data removed]",
      "text/plain": [
       "<Figure size 432x288 with 1 Axes>"
      ]
     },
     "metadata": {
      "needs_background": "light"
     },
     "output_type": "display_data"
    }
   ],
   "source": [
    "df.X0.plot.hist(bins=15)"
   ]
  },
  {
   "cell_type": "code",
   "execution_count": 57,
   "metadata": {},
   "outputs": [
    {
     "data": {
      "text/plain": [
       "<matplotlib.axes._subplots.AxesSubplot at 0x1402eb940>"
      ]
     },
     "execution_count": 57,
     "metadata": {},
     "output_type": "execute_result"
    },
    {
     "data": {
      "image/png": "[encoded data removed]",
      "text/plain": [
       "<Figure size 432x288 with 1 Axes>"
      ]
     },
     "metadata": {
      "needs_background": "light"
     },
     "output_type": "display_data"
    }
   ],
   "source": [
    "df.X1.plot.hist(bins=15)"
   ]
  },
  {
   "cell_type": "code",
   "execution_count": 58,
   "metadata": {},
   "outputs": [
    {
     "data": {
      "text/plain": [
       "<matplotlib.axes._subplots.AxesSubplot at 0x1404cf320>"
      ]
     },
     "execution_count": 58,
     "metadata": {},
     "output_type": "execute_result"
    },
    {
     "data": {
      "image/png": "[encoded data removed]",
      "text/plain": [
       "<Figure size 432x288 with 1 Axes>"
      ]
     },
     "metadata": {
      "needs_background": "light"
     },
     "output_type": "display_data"
    }
   ],
   "source": [
    "df.X2.plot.hist(bins=15)"
   ]
  },
  {
   "cell_type": "markdown",
   "metadata": {},
   "source": [
    "#### According to the dataset using a scaler is useless"
   ]
  },
  {
   "cell_type": "code",
   "execution_count": 59,
   "metadata": {},
   "outputs": [
    {
     "name": "stdout",
     "output_type": "stream",
     "text": [
      "<class 'pandas.core.frame.DataFrame'>\n",
      "RangeIndex: 10 entries, 0 to 9\n",
      "Data columns (total 4 columns):\n",
      "X0    10 non-null int64\n",
      "X1    10 non-null float64\n",
      "X2    10 non-null float64\n",
      "Y     10 non-null float64\n",
      "dtypes: float64(3), int64(1)\n",
      "memory usage: 400.0 bytes\n"
     ]
    }
   ],
   "source": [
    "df.info()"
   ]
  },
  {
   "cell_type": "code",
   "execution_count": 60,
   "metadata": {},
   "outputs": [
    {
     "data": {
      "text/html": [
       "<div>\n",
       "<style scoped>\n",
       "    .dataframe tbody tr th:only-of-type {\n",
       "        vertical-align: middle;\n",
       "    }\n",
       "\n",
       "    .dataframe tbody tr th {\n",
       "        vertical-align: top;\n",
       "    }\n",
       "\n",
       "    .dataframe thead th {\n",
       "        text-align: right;\n",
       "    }\n",
       "</style>\n",
       "<table border=\"1\" class=\"dataframe\">\n",
       "  <thead>\n",
       "    <tr style=\"text-align: right;\">\n",
       "      <th></th>\n",
       "      <th>X0</th>\n",
       "      <th>X1</th>\n",
       "      <th>X2</th>\n",
       "      <th>Y</th>\n",
       "    </tr>\n",
       "  </thead>\n",
       "  <tbody>\n",
       "    <tr>\n",
       "      <th>count</th>\n",
       "      <td>10.0</td>\n",
       "      <td>10.000000</td>\n",
       "      <td>10.000000</td>\n",
       "      <td>10.000000</td>\n",
       "    </tr>\n",
       "    <tr>\n",
       "      <th>mean</th>\n",
       "      <td>1.0</td>\n",
       "      <td>0.583000</td>\n",
       "      <td>0.494000</td>\n",
       "      <td>4.360000</td>\n",
       "    </tr>\n",
       "    <tr>\n",
       "      <th>std</th>\n",
       "      <td>0.0</td>\n",
       "      <td>0.311307</td>\n",
       "      <td>0.328877</td>\n",
       "      <td>2.430459</td>\n",
       "    </tr>\n",
       "    <tr>\n",
       "      <th>min</th>\n",
       "      <td>1.0</td>\n",
       "      <td>0.020000</td>\n",
       "      <td>0.120000</td>\n",
       "      <td>1.250000</td>\n",
       "    </tr>\n",
       "    <tr>\n",
       "      <th>25%</th>\n",
       "      <td>1.0</td>\n",
       "      <td>0.385000</td>\n",
       "      <td>0.190000</td>\n",
       "      <td>1.727500</td>\n",
       "    </tr>\n",
       "    <tr>\n",
       "      <th>50%</th>\n",
       "      <td>1.0</td>\n",
       "      <td>0.625000</td>\n",
       "      <td>0.485000</td>\n",
       "      <td>5.250000</td>\n",
       "    </tr>\n",
       "    <tr>\n",
       "      <th>75%</th>\n",
       "      <td>1.0</td>\n",
       "      <td>0.745000</td>\n",
       "      <td>0.792500</td>\n",
       "      <td>6.332500</td>\n",
       "    </tr>\n",
       "    <tr>\n",
       "      <th>max</th>\n",
       "      <td>1.0</td>\n",
       "      <td>0.990000</td>\n",
       "      <td>0.920000</td>\n",
       "      <td>6.930000</td>\n",
       "    </tr>\n",
       "  </tbody>\n",
       "</table>\n",
       "</div>"
      ],
      "text/plain": [
       "         X0         X1         X2          Y\n",
       "count  10.0  10.000000  10.000000  10.000000\n",
       "mean    1.0   0.583000   0.494000   4.360000\n",
       "std     0.0   0.311307   0.328877   2.430459\n",
       "min     1.0   0.020000   0.120000   1.250000\n",
       "25%     1.0   0.385000   0.190000   1.727500\n",
       "50%     1.0   0.625000   0.485000   5.250000\n",
       "75%     1.0   0.745000   0.792500   6.332500\n",
       "max     1.0   0.990000   0.920000   6.930000"
      ]
     },
     "execution_count": 60,
     "metadata": {},
     "output_type": "execute_result"
    }
   ],
   "source": [
    "df.describe()"
   ]
  },
  {
   "cell_type": "code",
   "execution_count": 61,
   "metadata": {},
   "outputs": [
    {
     "data": {
      "text/plain": [
       "(10, 4)"
      ]
     },
     "execution_count": 61,
     "metadata": {},
     "output_type": "execute_result"
    }
   ],
   "source": [
    "df.shape"
   ]
  },
  {
   "cell_type": "code",
   "execution_count": 62,
   "metadata": {},
   "outputs": [
    {
     "data": {
      "text/html": [
       "<div>\n",
       "<style scoped>\n",
       "    .dataframe tbody tr th:only-of-type {\n",
       "        vertical-align: middle;\n",
       "    }\n",
       "\n",
       "    .dataframe tbody tr th {\n",
       "        vertical-align: top;\n",
       "    }\n",
       "\n",
       "    .dataframe thead th {\n",
       "        text-align: right;\n",
       "    }\n",
       "</style>\n",
       "<table border=\"1\" class=\"dataframe\">\n",
       "  <thead>\n",
       "    <tr style=\"text-align: right;\">\n",
       "      <th></th>\n",
       "      <th>X0</th>\n",
       "      <th>X1</th>\n",
       "      <th>X2</th>\n",
       "      <th>Y</th>\n",
       "    </tr>\n",
       "  </thead>\n",
       "  <tbody>\n",
       "    <tr>\n",
       "      <th>0</th>\n",
       "      <td>1</td>\n",
       "      <td>0.72</td>\n",
       "      <td>0.32</td>\n",
       "      <td>6.93</td>\n",
       "    </tr>\n",
       "    <tr>\n",
       "      <th>1</th>\n",
       "      <td>1</td>\n",
       "      <td>0.75</td>\n",
       "      <td>0.12</td>\n",
       "      <td>5.99</td>\n",
       "    </tr>\n",
       "    <tr>\n",
       "      <th>2</th>\n",
       "      <td>1</td>\n",
       "      <td>0.53</td>\n",
       "      <td>0.65</td>\n",
       "      <td>1.46</td>\n",
       "    </tr>\n",
       "    <tr>\n",
       "      <th>3</th>\n",
       "      <td>1</td>\n",
       "      <td>0.27</td>\n",
       "      <td>0.82</td>\n",
       "      <td>1.44</td>\n",
       "    </tr>\n",
       "    <tr>\n",
       "      <th>4</th>\n",
       "      <td>1</td>\n",
       "      <td>0.49</td>\n",
       "      <td>0.15</td>\n",
       "      <td>4.51</td>\n",
       "    </tr>\n",
       "  </tbody>\n",
       "</table>\n",
       "</div>"
      ],
      "text/plain": [
       "   X0    X1    X2     Y\n",
       "0   1  0.72  0.32  6.93\n",
       "1   1  0.75  0.12  5.99\n",
       "2   1  0.53  0.65  1.46\n",
       "3   1  0.27  0.82  1.44\n",
       "4   1  0.49  0.15  4.51"
      ]
     },
     "execution_count": 62,
     "metadata": {},
     "output_type": "execute_result"
    }
   ],
   "source": [
    "df.head()"
   ]
  },
  {
   "cell_type": "code",
   "execution_count": 63,
   "metadata": {},
   "outputs": [],
   "source": [
    "import numpy as np\n",
    "import matplotlib.pyplot as plt\n",
    "import seaborn as sns\n",
    "%matplotlib inline"
   ]
  },
  {
   "cell_type": "markdown",
   "metadata": {},
   "source": [
    "# Looking at the data"
   ]
  },
  {
   "cell_type": "code",
   "execution_count": 64,
   "metadata": {},
   "outputs": [
    {
     "data": {
      "image/png": "[encoded data removed]",
      "text/plain": [
       "<Figure size 504x360 with 1 Axes>"
      ]
     },
     "metadata": {
      "needs_background": "light"
     },
     "output_type": "display_data"
    }
   ],
   "source": [
    "fig = plt.figure(figsize=(7, 5))\n",
    "fig.suptitle('Y output for X1 input', fontsize=16)\n",
    "plt.scatter(df['X1'], df['Y'])\n",
    "plt.xlabel('X1', fontsize=14)\n",
    "plt.ylabel('Y', fontsize=14)\n",
    "plt.show()"
   ]
  },
  {
   "cell_type": "code",
   "execution_count": 65,
   "metadata": {},
   "outputs": [
    {
     "data": {
      "text/html": [
       "<div>\n",
       "<style scoped>\n",
       "    .dataframe tbody tr th:only-of-type {\n",
       "        vertical-align: middle;\n",
       "    }\n",
       "\n",
       "    .dataframe tbody tr th {\n",
       "        vertical-align: top;\n",
       "    }\n",
       "\n",
       "    .dataframe thead th {\n",
       "        text-align: right;\n",
       "    }\n",
       "</style>\n",
       "<table border=\"1\" class=\"dataframe\">\n",
       "  <thead>\n",
       "    <tr style=\"text-align: right;\">\n",
       "      <th></th>\n",
       "      <th>X0</th>\n",
       "      <th>X1</th>\n",
       "      <th>X2</th>\n",
       "      <th>Y</th>\n",
       "    </tr>\n",
       "  </thead>\n",
       "  <tbody>\n",
       "    <tr>\n",
       "      <th>X0</th>\n",
       "      <td>NaN</td>\n",
       "      <td>NaN</td>\n",
       "      <td>NaN</td>\n",
       "      <td>NaN</td>\n",
       "    </tr>\n",
       "    <tr>\n",
       "      <th>X1</th>\n",
       "      <td>NaN</td>\n",
       "      <td>1.000000</td>\n",
       "      <td>0.142473</td>\n",
       "      <td>0.870142</td>\n",
       "    </tr>\n",
       "    <tr>\n",
       "      <th>X2</th>\n",
       "      <td>NaN</td>\n",
       "      <td>0.142473</td>\n",
       "      <td>1.000000</td>\n",
       "      <td>-0.210442</td>\n",
       "    </tr>\n",
       "    <tr>\n",
       "      <th>Y</th>\n",
       "      <td>NaN</td>\n",
       "      <td>0.870142</td>\n",
       "      <td>-0.210442</td>\n",
       "      <td>1.000000</td>\n",
       "    </tr>\n",
       "  </tbody>\n",
       "</table>\n",
       "</div>"
      ],
      "text/plain": [
       "    X0        X1        X2         Y\n",
       "X0 NaN       NaN       NaN       NaN\n",
       "X1 NaN  1.000000  0.142473  0.870142\n",
       "X2 NaN  0.142473  1.000000 -0.210442\n",
       "Y  NaN  0.870142 -0.210442  1.000000"
      ]
     },
     "execution_count": 65,
     "metadata": {},
     "output_type": "execute_result"
    }
   ],
   "source": [
    "df.corr()"
   ]
  },
  {
   "cell_type": "code",
   "execution_count": 66,
   "metadata": {},
   "outputs": [
    {
     "name": "stderr",
     "output_type": "stream",
     "text": [
      "/Users/pel_btc_coding/.local/lib/python3.7/site-packages/matplotlib/colors.py:527: RuntimeWarning: invalid value encountered in less\n",
      "  xa[xa < 0] = -1\n"
     ]
    },
    {
     "data": {
      "text/html": [
       "<style  type=\"text/css\" >\n",
       "    #T_6191bc00_a35c_11ea_804a_3af9d3845c2brow0_col0 {\n",
       "            background-color:  #3b4cc0;\n",
       "            color:  #f1f1f1;\n",
       "        }    #T_6191bc00_a35c_11ea_804a_3af9d3845c2brow0_col1 {\n",
       "            background-color:  #3b4cc0;\n",
       "            color:  #f1f1f1;\n",
       "        }    #T_6191bc00_a35c_11ea_804a_3af9d3845c2brow0_col2 {\n",
       "            background-color:  #3b4cc0;\n",
       "            color:  #f1f1f1;\n",
       "        }    #T_6191bc00_a35c_11ea_804a_3af9d3845c2brow0_col3 {\n",
       "            background-color:  #3b4cc0;\n",
       "            color:  #f1f1f1;\n",
       "        }    #T_6191bc00_a35c_11ea_804a_3af9d3845c2brow1_col0 {\n",
       "            background-color:  #3b4cc0;\n",
       "            color:  #f1f1f1;\n",
       "        }    #T_6191bc00_a35c_11ea_804a_3af9d3845c2brow1_col1 {\n",
       "            background-color:  #3b4cc0;\n",
       "            color:  #f1f1f1;\n",
       "        }    #T_6191bc00_a35c_11ea_804a_3af9d3845c2brow1_col2 {\n",
       "            background-color:  #3b4cc0;\n",
       "            color:  #f1f1f1;\n",
       "        }    #T_6191bc00_a35c_11ea_804a_3af9d3845c2brow1_col3 {\n",
       "            background-color:  #3b4cc0;\n",
       "            color:  #f1f1f1;\n",
       "        }    #T_6191bc00_a35c_11ea_804a_3af9d3845c2brow2_col0 {\n",
       "            background-color:  #3b4cc0;\n",
       "            color:  #f1f1f1;\n",
       "        }    #T_6191bc00_a35c_11ea_804a_3af9d3845c2brow2_col1 {\n",
       "            background-color:  #3b4cc0;\n",
       "            color:  #f1f1f1;\n",
       "        }    #T_6191bc00_a35c_11ea_804a_3af9d3845c2brow2_col2 {\n",
       "            background-color:  #3b4cc0;\n",
       "            color:  #f1f1f1;\n",
       "        }    #T_6191bc00_a35c_11ea_804a_3af9d3845c2brow2_col3 {\n",
       "            background-color:  #3b4cc0;\n",
       "            color:  #f1f1f1;\n",
       "        }    #T_6191bc00_a35c_11ea_804a_3af9d3845c2brow3_col0 {\n",
       "            background-color:  #3b4cc0;\n",
       "            color:  #f1f1f1;\n",
       "        }    #T_6191bc00_a35c_11ea_804a_3af9d3845c2brow3_col1 {\n",
       "            background-color:  #3b4cc0;\n",
       "            color:  #f1f1f1;\n",
       "        }    #T_6191bc00_a35c_11ea_804a_3af9d3845c2brow3_col2 {\n",
       "            background-color:  #3b4cc0;\n",
       "            color:  #f1f1f1;\n",
       "        }    #T_6191bc00_a35c_11ea_804a_3af9d3845c2brow3_col3 {\n",
       "            background-color:  #3b4cc0;\n",
       "            color:  #f1f1f1;\n",
       "        }</style><table id=\"T_6191bc00_a35c_11ea_804a_3af9d3845c2b\" ><thead>    <tr>        <th class=\"blank level0\" ></th>        <th class=\"col_heading level0 col0\" >X0</th>        <th class=\"col_heading level0 col1\" >X1</th>        <th class=\"col_heading level0 col2\" >X2</th>        <th class=\"col_heading level0 col3\" >Y</th>    </tr></thead><tbody>\n",
       "                <tr>\n",
       "                        <th id=\"T_6191bc00_a35c_11ea_804a_3af9d3845c2blevel0_row0\" class=\"row_heading level0 row0\" >X0</th>\n",
       "                        <td id=\"T_6191bc00_a35c_11ea_804a_3af9d3845c2brow0_col0\" class=\"data row0 col0\" >nan</td>\n",
       "                        <td id=\"T_6191bc00_a35c_11ea_804a_3af9d3845c2brow0_col1\" class=\"data row0 col1\" >nan</td>\n",
       "                        <td id=\"T_6191bc00_a35c_11ea_804a_3af9d3845c2brow0_col2\" class=\"data row0 col2\" >nan</td>\n",
       "                        <td id=\"T_6191bc00_a35c_11ea_804a_3af9d3845c2brow0_col3\" class=\"data row0 col3\" >nan</td>\n",
       "            </tr>\n",
       "            <tr>\n",
       "                        <th id=\"T_6191bc00_a35c_11ea_804a_3af9d3845c2blevel0_row1\" class=\"row_heading level0 row1\" >X1</th>\n",
       "                        <td id=\"T_6191bc00_a35c_11ea_804a_3af9d3845c2brow1_col0\" class=\"data row1 col0\" >nan</td>\n",
       "                        <td id=\"T_6191bc00_a35c_11ea_804a_3af9d3845c2brow1_col1\" class=\"data row1 col1\" >1</td>\n",
       "                        <td id=\"T_6191bc00_a35c_11ea_804a_3af9d3845c2brow1_col2\" class=\"data row1 col2\" >0.142473</td>\n",
       "                        <td id=\"T_6191bc00_a35c_11ea_804a_3af9d3845c2brow1_col3\" class=\"data row1 col3\" >0.870142</td>\n",
       "            </tr>\n",
       "            <tr>\n",
       "                        <th id=\"T_6191bc00_a35c_11ea_804a_3af9d3845c2blevel0_row2\" class=\"row_heading level0 row2\" >X2</th>\n",
       "                        <td id=\"T_6191bc00_a35c_11ea_804a_3af9d3845c2brow2_col0\" class=\"data row2 col0\" >nan</td>\n",
       "                        <td id=\"T_6191bc00_a35c_11ea_804a_3af9d3845c2brow2_col1\" class=\"data row2 col1\" >0.142473</td>\n",
       "                        <td id=\"T_6191bc00_a35c_11ea_804a_3af9d3845c2brow2_col2\" class=\"data row2 col2\" >1</td>\n",
       "                        <td id=\"T_6191bc00_a35c_11ea_804a_3af9d3845c2brow2_col3\" class=\"data row2 col3\" >-0.210442</td>\n",
       "            </tr>\n",
       "            <tr>\n",
       "                        <th id=\"T_6191bc00_a35c_11ea_804a_3af9d3845c2blevel0_row3\" class=\"row_heading level0 row3\" >Y</th>\n",
       "                        <td id=\"T_6191bc00_a35c_11ea_804a_3af9d3845c2brow3_col0\" class=\"data row3 col0\" >nan</td>\n",
       "                        <td id=\"T_6191bc00_a35c_11ea_804a_3af9d3845c2brow3_col1\" class=\"data row3 col1\" >0.870142</td>\n",
       "                        <td id=\"T_6191bc00_a35c_11ea_804a_3af9d3845c2brow3_col2\" class=\"data row3 col2\" >-0.210442</td>\n",
       "                        <td id=\"T_6191bc00_a35c_11ea_804a_3af9d3845c2brow3_col3\" class=\"data row3 col3\" >1</td>\n",
       "            </tr>\n",
       "    </tbody></table>"
      ],
      "text/plain": [
       "<pandas.io.formats.style.Styler at 0x1405cda90>"
      ]
     },
     "execution_count": 66,
     "metadata": {},
     "output_type": "execute_result"
    }
   ],
   "source": [
    "# Correlation matrix\n",
    "corr = df.corr()\n",
    "\n",
    "# color it\n",
    "corr.style.background_gradient(cmap='coolwarm')"
   ]
  },
  {
   "cell_type": "markdown",
   "metadata": {},
   "source": [
    "### X1 , X2 , X3 have a really low correlation "
   ]
  },
  {
   "cell_type": "markdown",
   "metadata": {},
   "source": [
    "### We can see that a Lasso would only consider X1 "
   ]
  },
  {
   "cell_type": "markdown",
   "metadata": {},
   "source": [
    "## Data vizualisation "
   ]
  },
  {
   "cell_type": "code",
   "execution_count": 67,
   "metadata": {},
   "outputs": [
    {
     "name": "stderr",
     "output_type": "stream",
     "text": [
      "/Users/pel_btc_coding/.local/lib/python3.7/site-packages/seaborn/distributions.py:288: UserWarning: Data must have variance to compute a kernel density estimate.\n",
      "  warnings.warn(msg, UserWarning)\n"
     ]
    },
    {
     "data": {
      "text/plain": [
       "<seaborn.axisgrid.JointGrid at 0x1405cde10>"
      ]
     },
     "execution_count": 67,
     "metadata": {},
     "output_type": "execute_result"
    },
    {
     "data": {
      "image/png": "[encoded data removed]",
      "text/plain": [
       "<Figure size 432x432 with 3 Axes>"
      ]
     },
     "metadata": {
      "needs_background": "light"
     },
     "output_type": "display_data"
    }
   ],
   "source": [
    "sns.jointplot(x=df['X0'], y=df['Y'], data=df, kind='reg')"
   ]
  },
  {
   "cell_type": "code",
   "execution_count": 68,
   "metadata": {},
   "outputs": [
    {
     "data": {
      "text/plain": [
       "<seaborn.axisgrid.JointGrid at 0x1408739e8>"
      ]
     },
     "execution_count": 68,
     "metadata": {},
     "output_type": "execute_result"
    },
    {
     "data": {
      "image/png": "[encoded data removed]",
      "text/plain": [
       "<Figure size 432x432 with 3 Axes>"
      ]
     },
     "metadata": {
      "needs_background": "light"
     },
     "output_type": "display_data"
    }
   ],
   "source": [
    "sns.jointplot(x=df['X1'], y=df['Y'], data=df, kind='reg')"
   ]
  },
  {
   "cell_type": "code",
   "execution_count": 69,
   "metadata": {},
   "outputs": [
    {
     "data": {
      "text/plain": [
       "<seaborn.axisgrid.JointGrid at 0x140bd95c0>"
      ]
     },
     "execution_count": 69,
     "metadata": {},
     "output_type": "execute_result"
    },
    {
     "data": {
      "image/png": "[encoded data removed]",
      "text/plain": [
       "<Figure size 432x432 with 3 Axes>"
      ]
     },
     "metadata": {
      "needs_background": "light"
     },
     "output_type": "display_data"
    }
   ],
   "source": [
    "sns.jointplot(x=df['X2'], y=df['Y'], data=df, kind='reg')"
   ]
  },
  {
   "cell_type": "code",
   "execution_count": 70,
   "metadata": {},
   "outputs": [
    {
     "data": {
      "text/plain": [
       "<matplotlib.axes._subplots.AxesSubplot at 0x140db30f0>"
      ]
     },
     "execution_count": 70,
     "metadata": {},
     "output_type": "execute_result"
    },
    {
     "data": {
      "image/png": "[encoded data removed]",
      "text/plain": [
       "<Figure size 432x288 with 1 Axes>"
      ]
     },
     "metadata": {
      "needs_background": "light"
     },
     "output_type": "display_data"
    }
   ],
   "source": [
    "import seaborn as sns\n",
    "\n",
    "sns.scatterplot('X1','X2', data=df)"
   ]
  },
  {
   "cell_type": "code",
   "execution_count": 71,
   "metadata": {},
   "outputs": [
    {
     "data": {
      "text/plain": [
       "<seaborn.axisgrid.PairGrid at 0x140f143c8>"
      ]
     },
     "execution_count": 71,
     "metadata": {},
     "output_type": "execute_result"
    },
    {
     "data": {
      "image/png": "[encoded data removed]",
      "text/plain": [
       "<Figure size 720x720 with 20 Axes>"
      ]
     },
     "metadata": {
      "needs_background": "light"
     },
     "output_type": "display_data"
    }
   ],
   "source": [
    "# Pair plots\n",
    "sns.pairplot(data=df)"
   ]
  },
  {
   "cell_type": "markdown",
   "metadata": {},
   "source": [
    "### tough to find a pattern cause I don't have enough data, but still can find some symetries"
   ]
  },
  {
   "cell_type": "markdown",
   "metadata": {},
   "source": [
    "## Multi linear regression "
   ]
  },
  {
   "cell_type": "markdown",
   "metadata": {},
   "source": [
    "Our regression equation, then, instead of looking like $\\hat{y} = mx + b$, will now look like:"
   ]
  },
  {
   "cell_type": "markdown",
   "metadata": {},
   "source": [
    "$$ \\hat y = \\hat\\beta_0 + \\hat\\beta_1 x_1 + \\hat\\beta_2 x_2 +\\ldots + \\hat\\beta_n x_n $$"
   ]
  },
  {
   "cell_type": "markdown",
   "metadata": {},
   "source": [
    "## Splitting Data into Training and Testing Sets"
   ]
  },
  {
   "cell_type": "code",
   "execution_count": 72,
   "metadata": {},
   "outputs": [
    {
     "data": {
      "text/plain": [
       "Index(['X0', 'X1', 'X2', 'Y'], dtype='object')"
      ]
     },
     "execution_count": 72,
     "metadata": {},
     "output_type": "execute_result"
    }
   ],
   "source": [
    "df.columns"
   ]
  },
  {
   "cell_type": "code",
   "execution_count": 73,
   "metadata": {},
   "outputs": [],
   "source": [
    "# Putting feature variable to X\n",
    "\n",
    "X = df[['X0', 'X1', 'X2']]"
   ]
  },
  {
   "cell_type": "code",
   "execution_count": 74,
   "metadata": {},
   "outputs": [],
   "source": [
    "# Putting response variable to y\n",
    "\n",
    "y = df['Y']"
   ]
  },
  {
   "cell_type": "code",
   "execution_count": 75,
   "metadata": {},
   "outputs": [],
   "source": [
    "#random_state is the seed used by the random number generator, it can be any integer.\n",
    "from sklearn.model_selection import train_test_split\n",
    "\n",
    "X_train, X_test, y_train, y_test = train_test_split(X, y, train_size=0.8 ,test_size = 0.2, random_state=100)"
   ]
  },
  {
   "cell_type": "code",
   "execution_count": 76,
   "metadata": {},
   "outputs": [
    {
     "name": "stderr",
     "output_type": "stream",
     "text": [
      "/Users/pel_btc_coding/.local/lib/python3.7/site-packages/numpy/core/fromnumeric.py:2542: FutureWarning: Method .ptp is deprecated and will be removed in a future version. Use numpy.ptp instead.\n",
      "  return ptp(axis=axis, out=out, **kwargs)\n"
     ]
    }
   ],
   "source": [
    "import statsmodels.api as sm          # Importing statsmodels\n",
    "X_train = sm.add_constant(X_train)    # Adding a constant column to our dataframe\n",
    "# create a first fitted model\n",
    "fitting = sm.OLS(y_train,X_train).fit()"
   ]
  },
  {
   "cell_type": "code",
   "execution_count": 77,
   "metadata": {},
   "outputs": [
    {
     "name": "stdout",
     "output_type": "stream",
     "text": [
      "                            OLS Regression Results                            \n",
      "==============================================================================\n",
      "Dep. Variable:                      Y   R-squared:                       0.866\n",
      "Model:                            OLS   Adj. R-squared:                  0.812\n",
      "Method:                 Least Squares   F-statistic:                     16.11\n",
      "Date:                Sun, 31 May 2020   Prob (F-statistic):            0.00661\n",
      "Time:                        18:33:03   Log-Likelihood:                -10.086\n",
      "No. Observations:                   8   AIC:                             26.17\n",
      "Df Residuals:                       5   BIC:                             26.41\n",
      "Df Model:                           2                                         \n",
      "Covariance Type:            nonrobust                                         \n",
      "==============================================================================\n",
      "                 coef    std err          t      P>|t|      [0.025      0.975]\n",
      "------------------------------------------------------------------------------\n",
      "X0             1.4007      0.936      1.497      0.195      -1.005       3.806\n",
      "X1             7.4396      1.361      5.467      0.003       3.942      10.938\n",
      "X2            -3.1012      1.273     -2.437      0.059      -6.372       0.170\n",
      "==============================================================================\n",
      "Omnibus:                        4.619   Durbin-Watson:                   2.406\n",
      "Prob(Omnibus):                  0.099   Jarque-Bera (JB):                1.332\n",
      "Skew:                          -0.982   Prob(JB):                        0.514\n",
      "Kurtosis:                       3.368   Cond. No.                         5.01\n",
      "==============================================================================\n",
      "\n",
      "Warnings:\n",
      "[1] Standard Errors assume that the covariance matrix of the errors is correctly specified.\n"
     ]
    },
    {
     "name": "stderr",
     "output_type": "stream",
     "text": [
      "/Users/pel_btc_coding/.local/lib/python3.7/site-packages/scipy/stats/stats.py:1416: UserWarning: kurtosistest only valid for n>=20 ... continuing anyway, n=8\n",
      "  \"anyway, n=%i\" % int(n))\n"
     ]
    }
   ],
   "source": [
    "#Let's see the summary of our first linear model\n",
    "print(fitting.summary())"
   ]
  },
  {
   "cell_type": "markdown",
   "metadata": {},
   "source": [
    "### Result are satisfying knowing the dataset and the correlation between variable "
   ]
  },
  {
   "cell_type": "code",
   "execution_count": 78,
   "metadata": {},
   "outputs": [
    {
     "data": {
      "text/plain": [
       "array([78.27170682])"
      ]
     },
     "execution_count": 78,
     "metadata": {},
     "output_type": "execute_result"
    }
   ],
   "source": [
    "# Prediction for fun\n",
    "fitting.predict([[1,12,4]])"
   ]
  },
  {
   "cell_type": "markdown",
   "metadata": {},
   "source": [
    "### We can not do MSE cause the data set is too samll (doesn't make a lot of sens)"
   ]
  },
  {
   "cell_type": "code",
   "execution_count": 79,
   "metadata": {},
   "outputs": [],
   "source": [
    "#from sklearn.metrics import mean_squared_error\n",
    "\n",
    "#y_true = ...\n",
    "#y_pred = ...\n",
    "\n",
    "#mean_squared_error(y_true, y_pred)"
   ]
  },
  {
   "cell_type": "markdown",
   "metadata": {},
   "source": [
    "## More classic linear regression "
   ]
  },
  {
   "cell_type": "code",
   "execution_count": 80,
   "metadata": {},
   "outputs": [
    {
     "data": {
      "text/plain": [
       "LinearRegression(copy_X=True, fit_intercept=True, n_jobs=None, normalize=False)"
      ]
     },
     "execution_count": 80,
     "metadata": {},
     "output_type": "execute_result"
    }
   ],
   "source": [
    "from sklearn.linear_model import LinearRegression\n",
    "\n",
    "# Instanciate Linear model\n",
    "model = LinearRegression()\n",
    "\n",
    "# Train Linear Model\n",
    "model.fit(df[['X0', \"X1\", \"X2\"]], df['Y'])"
   ]
  },
  {
   "cell_type": "code",
   "execution_count": 81,
   "metadata": {},
   "outputs": [
    {
     "name": "stdout",
     "output_type": "stream",
     "text": [
      "[ 0.          7.17311794 -2.52258683]\n",
      "1.4242301343712214\n"
     ]
    }
   ],
   "source": [
    "# Access the model's inner parameters slope(coef_) and intercept(intercept_)\n",
    "slope_a, intercept_b = model.coef_, model.intercept_ \n",
    "\n",
    "print(slope_a)\n",
    "print(intercept_b)"
   ]
  },
  {
   "cell_type": "markdown",
   "metadata": {},
   "source": [
    "## linear combination of initial dataset columns\n",
    "\n",
    "## 𝑌 = 𝛽 + 𝛽0𝑋0 + 𝛽1𝑋1 + 𝛽2𝑋2 , with the model above we can get all 𝛽i "
   ]
  },
  {
   "cell_type": "markdown",
   "metadata": {},
   "source": [
    "- 𝛽 = 1.42\n",
    "- 𝛽0 = 0\n",
    "- 𝛽1 = 7.17\n",
    "- 𝛽2 = -2.25\n",
    "\n",
    "- 𝛽0 is not taking into account, it is like an outilier for the model. Which is coherent when looking at the dataset"
   ]
  },
  {
   "cell_type": "markdown",
   "metadata": {},
   "source": [
    "### Another way to implement the multi linear regression "
   ]
  },
  {
   "cell_type": "code",
   "execution_count": 82,
   "metadata": {},
   "outputs": [
    {
     "data": {
      "text/plain": [
       "0.3400576593287171"
      ]
     },
     "execution_count": 82,
     "metadata": {},
     "output_type": "execute_result"
    }
   ],
   "source": [
    "# Prepare X and y\n",
    "X = df[['X0', \"X1\", \"X2\"]]\n",
    "y = df['Y']\n",
    "\n",
    "# Import train_test_split\n",
    "from sklearn.model_selection import train_test_split\n",
    "\n",
    "# Split into Train/Test\n",
    "X_train, X_test, y_train, y_test = train_test_split(X, y, test_size=0.3)\n",
    "\n",
    "# Import the model\n",
    "from sklearn.linear_model import LinearRegression\n",
    "\n",
    "# Instanciate the model\n",
    "model = LinearRegression()\n",
    "\n",
    "# Train the model on the Training data\n",
    "model.fit(X_train, y_train)\n",
    "\n",
    "# Score the model on the Testing data\n",
    "model.score(X_test,y_test)"
   ]
  },
  {
   "cell_type": "code",
   "execution_count": 83,
   "metadata": {},
   "outputs": [
    {
     "data": {
      "text/plain": [
       "0    1\n",
       "1    1\n",
       "2    1\n",
       "3    1\n",
       "4    1\n",
       "5    1\n",
       "6    1\n",
       "7    1\n",
       "8    1\n",
       "9    1\n",
       "Name: X0, dtype: int64"
      ]
     },
     "execution_count": 83,
     "metadata": {},
     "output_type": "execute_result"
    }
   ],
   "source": [
    "X.X0"
   ]
  },
  {
   "cell_type": "markdown",
   "metadata": {},
   "source": [
    "### Visualization for X1 (cause it is the more relevant input)"
   ]
  },
  {
   "cell_type": "code",
   "execution_count": 84,
   "metadata": {},
   "outputs": [
    {
     "data": {
      "image/png": "[encoded data removed]",
      "text/plain": [
       "<Figure size 432x288 with 1 Axes>"
      ]
     },
     "metadata": {
      "needs_background": "light"
     },
     "output_type": "display_data"
    }
   ],
   "source": [
    "# Access the model attributes w(coef_) and b(intercept_)\n",
    "w, b = model.coef_, model.intercept_ \n",
    "\n",
    "# Defining the line of best fit equation\n",
    "best_fit = w * X + b\n",
    "\n",
    "# Plot!\n",
    "import matplotlib.pyplot as plt\n",
    "plt.scatter(X.X1, y, alpha=0.9)\n",
    "plt.plot(X, best_fit, c=\"red\")\n",
    "plt.title('Scatter plot + Best Fit')\n",
    "plt.xlabel('X1')\n",
    "plt.ylabel('Y')\n",
    "plt.show()"
   ]
  },
  {
   "cell_type": "markdown",
   "metadata": {},
   "source": [
    "### Testing other types of regressions "
   ]
  },
  {
   "cell_type": "code",
   "execution_count": 85,
   "metadata": {},
   "outputs": [
    {
     "data": {
      "text/html": [
       "<div>\n",
       "<style scoped>\n",
       "    .dataframe tbody tr th:only-of-type {\n",
       "        vertical-align: middle;\n",
       "    }\n",
       "\n",
       "    .dataframe tbody tr th {\n",
       "        vertical-align: top;\n",
       "    }\n",
       "\n",
       "    .dataframe thead th {\n",
       "        text-align: right;\n",
       "    }\n",
       "</style>\n",
       "<table border=\"1\" class=\"dataframe\">\n",
       "  <thead>\n",
       "    <tr style=\"text-align: right;\">\n",
       "      <th></th>\n",
       "      <th>coef_linreg</th>\n",
       "      <th>coef_ridge</th>\n",
       "      <th>coef_lasso</th>\n",
       "    </tr>\n",
       "  </thead>\n",
       "  <tbody>\n",
       "    <tr>\n",
       "      <th>X0</th>\n",
       "      <td>0.000000</td>\n",
       "      <td>0.000000</td>\n",
       "      <td>0.0</td>\n",
       "    </tr>\n",
       "    <tr>\n",
       "      <th>X1</th>\n",
       "      <td>7.173118</td>\n",
       "      <td>0.058760</td>\n",
       "      <td>0.0</td>\n",
       "    </tr>\n",
       "    <tr>\n",
       "      <th>X2</th>\n",
       "      <td>-2.522587</td>\n",
       "      <td>-0.015069</td>\n",
       "      <td>-0.0</td>\n",
       "    </tr>\n",
       "  </tbody>\n",
       "</table>\n",
       "</div>"
      ],
      "text/plain": [
       "    coef_linreg  coef_ridge  coef_lasso\n",
       "X0     0.000000    0.000000         0.0\n",
       "X1     7.173118    0.058760         0.0\n",
       "X2    -2.522587   -0.015069        -0.0"
      ]
     },
     "execution_count": 85,
     "metadata": {},
     "output_type": "execute_result"
    }
   ],
   "source": [
    "from sklearn.linear_model import Ridge, Lasso, LinearRegression\n",
    "linreg = LinearRegression().fit(X, y)\n",
    "ridge = Ridge(alpha=100).fit(X, y)\n",
    "lasso = Lasso(alpha=100).fit(X, y)\n",
    "\n",
    "pd.DataFrame({\n",
    "    \"coef_linreg\": pd.Series(linreg.coef_, index = X.columns),\n",
    "    \"coef_ridge\": pd.Series(ridge.coef_, index = X.columns),\n",
    "    \"coef_lasso\": pd.Series(lasso.coef_, index= X.columns),\n",
    "})"
   ]
  },
  {
   "cell_type": "markdown",
   "metadata": {},
   "source": [
    "### Results are not commun due to the dataset distribution "
   ]
  },
  {
   "cell_type": "markdown",
   "metadata": {},
   "source": [
    "### I didn't have expected this kind of results"
   ]
  },
  {
   "cell_type": "markdown",
   "metadata": {},
   "source": [
    "### Lets look at the error of the model for different values of alpha"
   ]
  },
  {
   "cell_type": "code",
   "execution_count": 86,
   "metadata": {},
   "outputs": [
    {
     "data": {
      "text/plain": [
       "[-6771.200445546327,\n",
       " -6955.32443176729,\n",
       " -7697.6502614569035,\n",
       " -8611.905284380304,\n",
       " -14172.349597941768,\n",
       " -17871.61769218895,\n",
       " -25471.07200552626,\n",
       " -26569.236923659373]"
      ]
     },
     "execution_count": 86,
     "metadata": {},
     "output_type": "execute_result"
    }
   ],
   "source": [
    "from sklearn.model_selection import cross_validate\n",
    "\n",
    "alphas = [0, 0.01, 0.05, 0.1, 0.5, 1, 10, 50]\n",
    "r2_cv = []\n",
    "for alpha in alphas:\n",
    "    model = Ridge(alpha = alpha)\n",
    "    r2_cv.append(cross_validate(model, X, y, cv=5)['test_score'].mean())\n",
    "r2_cv"
   ]
  },
  {
   "cell_type": "code",
   "execution_count": 87,
   "metadata": {},
   "outputs": [
    {
     "name": "stderr",
     "output_type": "stream",
     "text": [
      "/Users/pel_btc_coding/.local/lib/python3.7/site-packages/sklearn/model_selection/_validation.py:515: UserWarning: With alpha=0, this algorithm does not converge well. You are advised to use the LinearRegression estimator\n",
      "  estimator.fit(X_train, y_train, **fit_params)\n",
      "/Users/pel_btc_coding/.local/lib/python3.7/site-packages/sklearn/linear_model/_coordinate_descent.py:476: UserWarning: Coordinate descent with no regularization may lead to unexpected results and is discouraged.\n",
      "  positive)\n",
      "/Users/pel_btc_coding/.local/lib/python3.7/site-packages/sklearn/linear_model/_coordinate_descent.py:476: ConvergenceWarning: Objective did not converge. You might want to increase the number of iterations. Duality gap: 2.5954136266453496, tolerance: 0.00416974\n",
      "  positive)\n",
      "/Users/pel_btc_coding/.local/lib/python3.7/site-packages/sklearn/model_selection/_validation.py:515: UserWarning: With alpha=0, this algorithm does not converge well. You are advised to use the LinearRegression estimator\n",
      "  estimator.fit(X_train, y_train, **fit_params)\n",
      "/Users/pel_btc_coding/.local/lib/python3.7/site-packages/sklearn/linear_model/_coordinate_descent.py:476: UserWarning: Coordinate descent with no regularization may lead to unexpected results and is discouraged.\n",
      "  positive)\n",
      "/Users/pel_btc_coding/.local/lib/python3.7/site-packages/sklearn/linear_model/_coordinate_descent.py:476: ConvergenceWarning: Objective did not converge. You might want to increase the number of iterations. Duality gap: 0.7435455917606322, tolerance: 0.003199375\n",
      "  positive)\n",
      "/Users/pel_btc_coding/.local/lib/python3.7/site-packages/sklearn/model_selection/_validation.py:515: UserWarning: With alpha=0, this algorithm does not converge well. You are advised to use the LinearRegression estimator\n",
      "  estimator.fit(X_train, y_train, **fit_params)\n",
      "/Users/pel_btc_coding/.local/lib/python3.7/site-packages/sklearn/linear_model/_coordinate_descent.py:476: UserWarning: Coordinate descent with no regularization may lead to unexpected results and is discouraged.\n",
      "  positive)\n",
      "/Users/pel_btc_coding/.local/lib/python3.7/site-packages/sklearn/linear_model/_coordinate_descent.py:476: ConvergenceWarning: Objective did not converge. You might want to increase the number of iterations. Duality gap: 3.3937518275007483, tolerance: 0.00423744\n",
      "  positive)\n",
      "/Users/pel_btc_coding/.local/lib/python3.7/site-packages/sklearn/model_selection/_validation.py:515: UserWarning: With alpha=0, this algorithm does not converge well. You are advised to use the LinearRegression estimator\n",
      "  estimator.fit(X_train, y_train, **fit_params)\n",
      "/Users/pel_btc_coding/.local/lib/python3.7/site-packages/sklearn/linear_model/_coordinate_descent.py:476: UserWarning: Coordinate descent with no regularization may lead to unexpected results and is discouraged.\n",
      "  positive)\n",
      "/Users/pel_btc_coding/.local/lib/python3.7/site-packages/sklearn/linear_model/_coordinate_descent.py:476: ConvergenceWarning: Objective did not converge. You might want to increase the number of iterations. Duality gap: 2.915088596816224, tolerance: 0.00434053875\n",
      "  positive)\n",
      "/Users/pel_btc_coding/.local/lib/python3.7/site-packages/sklearn/model_selection/_validation.py:515: UserWarning: With alpha=0, this algorithm does not converge well. You are advised to use the LinearRegression estimator\n",
      "  estimator.fit(X_train, y_train, **fit_params)\n",
      "/Users/pel_btc_coding/.local/lib/python3.7/site-packages/sklearn/linear_model/_coordinate_descent.py:476: UserWarning: Coordinate descent with no regularization may lead to unexpected results and is discouraged.\n",
      "  positive)\n",
      "/Users/pel_btc_coding/.local/lib/python3.7/site-packages/sklearn/linear_model/_coordinate_descent.py:476: ConvergenceWarning: Objective did not converge. You might want to increase the number of iterations. Duality gap: 3.3863731211724044, tolerance: 0.00437005875\n",
      "  positive)\n"
     ]
    },
    {
     "data": {
      "text/plain": [
       "[-6771.200445546315,\n",
       " -7147.110586736079,\n",
       " -8961.711810037708,\n",
       " -11929.308864092305,\n",
       " -24237.565273600736,\n",
       " -26860.1250441677,\n",
       " -26860.1250441677,\n",
       " -26860.1250441677]"
      ]
     },
     "execution_count": 87,
     "metadata": {},
     "output_type": "execute_result"
    }
   ],
   "source": [
    "from sklearn.model_selection import cross_validate\n",
    "\n",
    "alphas = [0, 0.01, 0.05, 0.1, 0.5, 1, 10, 50]\n",
    "r2_cv = []\n",
    "for alpha in alphas:\n",
    "    model = Lasso(alpha = alpha)\n",
    "    r2_cv.append(cross_validate(model, X, y, cv=5)['test_score'].mean())\n",
    "r2_cv"
   ]
  },
  {
   "cell_type": "markdown",
   "metadata": {},
   "source": [
    "### Lasso and Ridge are not working well for this kind of problem"
   ]
  },
  {
   "cell_type": "markdown",
   "metadata": {},
   "source": [
    "---------------------------------------------"
   ]
  },
  {
   "cell_type": "markdown",
   "metadata": {},
   "source": [
    "# Gradient & Computation"
   ]
  },
  {
   "cell_type": "markdown",
   "metadata": {},
   "source": [
    "### Now that we have play around with some linear prediction using various models lets rebuild some gradient calculus"
   ]
  },
  {
   "cell_type": "markdown",
   "metadata": {},
   "source": [
    "----------------------------------------------"
   ]
  },
  {
   "cell_type": "markdown",
   "metadata": {},
   "source": [
    "# Rebuilding a basic gradient descent :"
   ]
  },
  {
   "cell_type": "markdown",
   "metadata": {},
   "source": [
    "### Gradient descent epoch "
   ]
  },
  {
   "cell_type": "markdown",
   "metadata": {},
   "source": [
    "$$\n",
    "\\hat{y} =  a x + b\n",
    "$$\n",
    "\n"
   ]
  },
  {
   "cell_type": "code",
   "execution_count": 88,
   "metadata": {},
   "outputs": [],
   "source": [
    "def hypothesis(x,a,b):\n",
    "    y_pred = a*x + b\n",
    "    return y_pred"
   ]
  },
  {
   "cell_type": "code",
   "execution_count": 89,
   "metadata": {},
   "outputs": [],
   "source": [
    "import numpy as np\n",
    "\n",
    "def loss(x,y,a,b):\n",
    "    y_pred = hypothesis(x,a,b)\n",
    "    loss = np.sum((y-y_pred) ** 2)\n",
    "    return loss"
   ]
  },
  {
   "cell_type": "markdown",
   "metadata": {},
   "source": [
    "### Derivatives"
   ]
  },
  {
   "cell_type": "markdown",
   "metadata": {},
   "source": [
    "$$\n",
    "\\frac{d\\ SSR}{d\\ slope}= \\sum_{i=0}^n -2(y^{(i)} - \\hat{y}^{(i)} )\\times x\n",
    "$$\n",
    "\n",
    "$$\n",
    "\\frac{d\\ SSR}{d\\ intercept}= \\sum_{i=0}^n -2(y^{(i)} - \\hat{y}^{(i)} ) \n",
    "$$\n"
   ]
  },
  {
   "cell_type": "code",
   "execution_count": 90,
   "metadata": {},
   "outputs": [],
   "source": [
    "def derivatives(x,y,a,b):\n",
    "    y_pred = hypothesis(x,a,b)\n",
    "    derivative_a = np.sum(-2*(y-y_pred)*x)\n",
    "    derivative_b = np.sum(-2*(y-y_pred))\n",
    "    return derivative_a, derivative_b"
   ]
  },
  {
   "cell_type": "markdown",
   "metadata": {},
   "source": [
    "$$\n",
    "step\\ size = derivative \\times learning\\ rate\n",
    "$$"
   ]
  },
  {
   "cell_type": "code",
   "execution_count": 91,
   "metadata": {},
   "outputs": [],
   "source": [
    "def steps(derivative_a,derivative_b,learning_rate = 0.01):\n",
    "    step_a = derivative_a*learning_rate\n",
    "    step_b = derivative_b*learning_rate\n",
    "    return step_a, step_b"
   ]
  },
  {
   "cell_type": "code",
   "execution_count": 92,
   "metadata": {},
   "outputs": [],
   "source": [
    "def parameter_update(a, step_a, b, step_b):\n",
    "    updated_a = a - step_a\n",
    "    updated_b = b - step_b\n",
    "    return updated_a , updated_b"
   ]
  },
  {
   "cell_type": "markdown",
   "metadata": {},
   "source": [
    "### Consider convergence to be 150 epochs"
   ]
  },
  {
   "cell_type": "code",
   "execution_count": 93,
   "metadata": {},
   "outputs": [],
   "source": [
    "x = df['X1']\n",
    "y = df['Y']"
   ]
  },
  {
   "cell_type": "code",
   "execution_count": 94,
   "metadata": {},
   "outputs": [],
   "source": [
    "# Initialize a and b\n",
    "a = 1\n",
    "b = 0\n",
    "loss_history = []\n",
    "\n",
    "# Loop through steps to perform Gradient Descent\n",
    "for epoch in range(150):\n",
    "    \n",
    "    # Compute Loss at each Epoch and append to loss_history\n",
    "    loss_epoch = loss(x,y,a,b)\n",
    "    loss_history.append(loss_epoch)\n",
    "    \n",
    "    # Compute the Derivates \n",
    "    derivative_a, derivative_b = derivatives(x,y,a,b)\n",
    "    \n",
    "    # Compute Steps\n",
    "    step_a, step_b = steps(derivative_a,derivative_b,learning_rate = 0.01)\n",
    "    \n",
    "    # Compute updated parameters\n",
    "    updated_a, updated_b = parameter_update(a,step_a,b,step_b)\n",
    "    \n",
    "    # Set updated parameters for new epoch\n",
    "    a = updated_a\n",
    "    b = updated_b"
   ]
  },
  {
   "cell_type": "code",
   "execution_count": 95,
   "metadata": {},
   "outputs": [
    {
     "data": {
      "text/plain": [
       "Text(0, 0.5, 'Loss')"
      ]
     },
     "execution_count": 95,
     "metadata": {},
     "output_type": "execute_result"
    },
    {
     "data": {
      "image/png": "[encoded data removed]",
      "text/plain": [
       "<Figure size 432x288 with 1 Axes>"
      ]
     },
     "metadata": {
      "needs_background": "light"
     },
     "output_type": "display_data"
    }
   ],
   "source": [
    "import matplotlib.pyplot as plt\n",
    "plt.plot(loss_history)\n",
    "plt.title(\"Loss History\")\n",
    "plt.xlabel(\"Epochs\")\n",
    "plt.ylabel(\"Loss\")"
   ]
  },
  {
   "cell_type": "markdown",
   "metadata": {},
   "source": [
    "### We have a nice convergence after 15 epochs"
   ]
  },
  {
   "cell_type": "code",
   "execution_count": 96,
   "metadata": {},
   "outputs": [],
   "source": [
    "# Importer les librairies nécessaires\n",
    "import numpy as np\n",
    "import random \n",
    "from random import sample \n",
    "from numpy.random import randint\n",
    "from numpy.random import shuffle\n",
    "import time\n",
    "\n",
    "data = np.loadtxt('data_regression.txt')"
   ]
  },
  {
   "cell_type": "markdown",
   "metadata": {},
   "source": [
    "# Basic gradient :"
   ]
  },
  {
   "cell_type": "code",
   "execution_count": 97,
   "metadata": {},
   "outputs": [
    {
     "name": "stdout",
     "output_type": "stream",
     "text": [
      "X:\n",
      "[[1.   0.72 0.32]\n",
      " [1.   0.75 0.12]\n",
      " [1.   0.53 0.65]\n",
      " [1.   0.27 0.82]\n",
      " [1.   0.49 0.15]\n",
      " [1.   0.02 0.19]\n",
      " [1.   0.35 0.87]\n",
      " [1.   0.99 0.71]\n",
      " [1.   0.98 0.92]\n",
      " [1.   0.73 0.19]]\n",
      "Y:\n",
      "[6.93 5.99 1.46 1.44 4.51 1.25 2.53 6.88 6.25 6.36]\n",
      "Iteration finale: 500000\n",
      "MSE par descente du gradient: 0.6842418135796929\n",
      "MSE par méthode analytique: 0.6842380067197877\n"
     ]
    },
    {
     "data": {
      "image/png": "[encoded data removed]",
      "text/plain": [
       "<Figure size 648x432 with 1 Axes>"
      ]
     },
     "metadata": {
      "needs_background": "light"
     },
     "output_type": "display_data"
    },
    {
     "name": "stdout",
     "output_type": "stream",
     "text": [
      "Iteration finale: 500000\n",
      "MSE par déscente du gradient numérique: 0.6842397028467406\n"
     ]
    },
    {
     "data": {
      "image/png": "[encoded data removed]",
      "text/plain": [
       "<Figure size 648x432 with 1 Axes>"
      ]
     },
     "metadata": {
      "needs_background": "light"
     },
     "output_type": "display_data"
    }
   ],
   "source": [
    "n = len(data)\n",
    "n_var = len(data[0])-1\n",
    "\n",
    "# Définition des tableaux\n",
    "X = data[:,0:3]\n",
    "print(\"X:\")\n",
    "print(X)\n",
    "Y = data[:,3]\n",
    "print(\"Y:\")\n",
    "print(Y)\n",
    "\n",
    "\n",
    "\n",
    "# Hyperparamètres\n",
    "ALPHA = 0.0001  #  taux d'apprentissage\n",
    "EPOCHS = 500000  #  number of iterations to perform gradient descent\n",
    "EPS = 0.4  #  Epsilon\n",
    "beta_hat = np.zeros(n_var) # parametres initiaux\n",
    "\n",
    "MSE = np.zeros(EPOCHS+1)\n",
    "MSE[0] = (np.sum((Y - sum(np.transpose(X*beta_hat)))**2))/n\n",
    "\n",
    "\n",
    "# Descente du gradient\n",
    "i = 0\n",
    "while MSE[i] > EPS and i < EPOCHS:\n",
    "    i += 1\n",
    "    # prédiction de Y\n",
    "    Y_pred = sum(np.transpose(X*beta_hat))\n",
    "\n",
    "    for j in range(0,n_var):\n",
    "        beta_hat[j] = beta_hat[j] + ALPHA * (2*np.sum((Y-Y_pred)*X[:,j]))/n\n",
    "\n",
    "    MSE[i] = (np.sum((Y - Y_pred)**2))/n\n",
    "\n",
    "print(\"Iteration finale:\",i)\n",
    "print(\"MSE par descente du gradient:\",MSE[i])\n",
    "\n",
    "beta_hat = np.dot(np.linalg.inv(np.dot(X.T,X)+0.00001*np.random.rand(n_var, n_var)),np.dot(X.T,Y))\n",
    "\n",
    "MSE2 = sum((Y - sum(np.transpose(X*beta_hat)))**2)/n\n",
    "print(\"MSE par méthode analytique:\",MSE2)\n",
    "\n",
    "# Configuration du plot\n",
    "x_axis = np.arange(0, i)\n",
    "plt.figure(figsize=(9,6))\n",
    "plt.plot(x_axis,MSE[0:i])\n",
    "plt.title(\"MSE en fonction du nombre d'itération (gradient analytique)\")\n",
    "plt.xlabel(\"Nombre d'itération\")\n",
    "plt.ylabel(\"MSE\")\n",
    "plt.show()\n",
    "\n",
    "\n",
    "\n",
    "# Partie Gradient numérique\n",
    "# Hyperparamètres\n",
    "D_ALPHA = 0.001\n",
    "beta_hat = np.zeros(n_var) # parametres initiaux\n",
    "\n",
    "MSE = np.zeros(EPOCHS+1)\n",
    "MSE[0] = (np.sum((Y - sum(np.transpose(X*beta_hat)))**2))/n\n",
    "\n",
    "\n",
    "# Descente du gradient\n",
    "i = 0\n",
    "while MSE[i] > EPS and i < EPOCHS:\n",
    "    i += 1\n",
    "    # prédiction de Y\n",
    "    Y_pred = sum(np.transpose(X*beta_hat))\n",
    "\n",
    "    for j in range(0,n_var):\n",
    "        mse1 = (np.sum((Y - Y_pred)**2))/n\n",
    "        beta_hat_temp = beta_hat.copy()\n",
    "        beta_hat_temp[j] += D_ALPHA\n",
    "        Y_pred_temp = sum(np.transpose(X*beta_hat_temp))\n",
    "        mse2 = (np.sum((Y - Y_pred_temp)**2))/n\n",
    "\n",
    "\n",
    "        beta_hat[j] = beta_hat[j] - ALPHA * (mse2-mse1)/D_ALPHA\n",
    "\n",
    "    MSE[i] = (np.sum((Y - Y_pred)**2))/n\n",
    "\n",
    "print(\"Iteration finale:\",i)\n",
    "print(\"MSE par déscente du gradient numérique:\",MSE[i])\n",
    "\n",
    "# Configuration du plot\n",
    "x_axis = np.arange(0, i)\n",
    "plt.figure(figsize=(9,6))\n",
    "plt.plot(x_axis,MSE[0:i])\n",
    "plt.title(\"MSE en fonction du nombre d'itération (gradient numérique)\")\n",
    "plt.xlabel(\"Nombre d'itération\")\n",
    "plt.ylabel(\"MSE\")\n",
    "plt.show()\n"
   ]
  },
  {
   "cell_type": "markdown",
   "metadata": {},
   "source": [
    "# Gradient stochastic : "
   ]
  },
  {
   "cell_type": "code",
   "execution_count": 98,
   "metadata": {},
   "outputs": [
    {
     "name": "stdout",
     "output_type": "stream",
     "text": [
      "X:\n",
      "[[1.   0.72 0.32]\n",
      " [1.   0.75 0.12]\n",
      " [1.   0.53 0.65]\n",
      " [1.   0.27 0.82]\n",
      " [1.   0.49 0.15]\n",
      " [1.   0.02 0.19]\n",
      " [1.   0.35 0.87]\n",
      " [1.   0.99 0.71]\n",
      " [1.   0.98 0.92]\n",
      " [1.   0.73 0.19]]\n",
      "Y:\n",
      "[6.93 5.99 1.46 1.44 4.51 1.25 2.53 6.88 6.25 6.36]\n",
      "Iteration finale: 500000\n",
      "MSE par descente du gradient: 0.6845200875111235\n",
      "MSE par méthode analytique: 0.684238006590988\n"
     ]
    },
    {
     "data": {
      "image/png": "[encoded data removed]",
      "text/plain": [
       "<Figure size 648x432 with 1 Axes>"
      ]
     },
     "metadata": {
      "needs_background": "light"
     },
     "output_type": "display_data"
    },
    {
     "name": "stdout",
     "output_type": "stream",
     "text": [
      "Iteration finale: 500000\n",
      "MSE par descente du gradient numérique: 0.6844542638504858\n"
     ]
    },
    {
     "data": {
      "image/png": "[encoded data removed]",
      "text/plain": [
       "<Figure size 648x432 with 1 Axes>"
      ]
     },
     "metadata": {
      "needs_background": "light"
     },
     "output_type": "display_data"
    }
   ],
   "source": [
    "n = len(data)\n",
    "n_var = len(data[0])-1\n",
    "\n",
    "# Définition des tableaux\n",
    "X = data[:,0:3]\n",
    "print(\"X:\")\n",
    "print(X)\n",
    "Y = data[:,3]\n",
    "print(\"Y:\")\n",
    "print(Y)\n",
    "\n",
    "# Hyperparamètres\n",
    "R = 2 # Nombre de variables à considérer pour le gradient stochastique\n",
    "ALPHA = 0.0001  #  taux d'apprentissage\n",
    "EPOCHS = 500000  #  number of iterations to perform gradient descent\n",
    "EPS = 0.5  #  Epsilon\n",
    "beta_hat = np.zeros(n_var) # parametres initiaux\n",
    "\n",
    "MSE = np.zeros(EPOCHS+1)\n",
    "MSE[0] = (np.sum((Y - sum(np.transpose(X*beta_hat)))**2))/n\n",
    "\n",
    "\n",
    "# Descente du gradient\n",
    "i = 0\n",
    "while MSE[i] > EPS and i < EPOCHS:\n",
    "    i += 1\n",
    "    # prédiction de Y\n",
    "    liste = random.sample(list(np.arange(0, n_var)),R)\n",
    "    Y_pred = sum(np.transpose(X*beta_hat))\n",
    "\n",
    "    for j in liste:\n",
    "        beta_hat[j] = beta_hat[j] + ALPHA * (2*np.sum((Y-Y_pred)*X[:,j]))/n\n",
    "\n",
    "    MSE[i] = (np.sum((Y - Y_pred)**2))/n\n",
    "\n",
    "print(\"Iteration finale:\",i)\n",
    "print(\"MSE par descente du gradient:\",MSE[i])\n",
    "\n",
    "beta_hat = np.dot(np.linalg.inv(np.dot(X.T,X)+0.00001*np.random.rand(n_var, n_var)),np.dot(X.T,Y))\n",
    "\n",
    "MSE2 = sum((Y - sum(np.transpose(X*beta_hat)))**2)/n\n",
    "print(\"MSE par méthode analytique:\",MSE2)\n",
    "\n",
    "# Configuration du plot\n",
    "x_axis = np.arange(0, i)\n",
    "plt.figure(figsize=(9,6))\n",
    "plt.plot(x_axis,MSE[0:i])\n",
    "plt.title(\"MSE en fonction du nombre d'itération (gradient analytique)\")\n",
    "plt.xlabel(\"Nombre d'itération\")\n",
    "plt.ylabel(\"MSE\")\n",
    "plt.show()\n",
    "\n",
    "\n",
    "\n",
    "# Partie Gradient numérique\n",
    "# Hyperparamètres\n",
    "D_ALPHA = 0.01\n",
    "beta_hat = np.zeros(n_var) # parametres initiaux\n",
    "\n",
    "MSE = np.zeros(EPOCHS+1)\n",
    "MSE[0] = (np.sum((Y - sum(np.transpose(X*beta_hat)))**2))/n\n",
    "\n",
    "\n",
    "# Descente du gradient\n",
    "i = 0\n",
    "while MSE[i] > EPS and i < EPOCHS:\n",
    "    i += 1\n",
    "    # prédiction de Y\n",
    "    liste = random.sample(list(np.arange(0, n_var)),R)\n",
    "    Y_pred = sum(np.transpose(X*beta_hat))\n",
    "\n",
    "    for j in liste:\n",
    "        mse1 = (np.sum((Y - Y_pred)**2))/n\n",
    "        beta_hat_temp = beta_hat.copy()\n",
    "        beta_hat_temp[j] += D_ALPHA\n",
    "        Y_pred_temp = sum(np.transpose(X*beta_hat_temp))\n",
    "        mse2 = (np.sum((Y - Y_pred_temp)**2))/n\n",
    "\n",
    "\n",
    "        beta_hat[j] = beta_hat[j] - ALPHA * (mse2-mse1)/D_ALPHA\n",
    "\n",
    "    MSE[i] = (np.sum((Y - Y_pred)**2))/n\n",
    "\n",
    "print(\"Iteration finale:\",i)\n",
    "print(\"MSE par descente du gradient numérique:\",MSE[i])\n",
    "\n",
    "# Configuration du plot\n",
    "x_axis = np.arange(0, i)\n",
    "plt.figure(figsize=(9,6))\n",
    "plt.plot(x_axis,MSE[0:i])\n",
    "plt.title(\"MSE en fonction du nombre d'itération (gradient numérique)\")\n",
    "plt.xlabel(\"Nombre d'itération\")\n",
    "plt.ylabel(\"MSE\")\n",
    "plt.show()\n"
   ]
  },
  {
   "cell_type": "markdown",
   "metadata": {},
   "source": [
    "## END OF JUPITER"
   ]
  }
 ],
 "metadata": {
  "kernelspec": {
   "display_name": "Python 3",
   "language": "python",
   "name": "python3"
  },
  "language_info": {
   "codemirror_mode": {
    "name": "ipython",
    "version": 3
   },
   "file_extension": ".py",
   "mimetype": "text/x-python",
   "name": "python",
   "nbconvert_exporter": "python",
   "pygments_lexer": "ipython3",
   "version": "3.7.3"
  }
 },
 "nbformat": 4,
 "nbformat_minor": 2
}
