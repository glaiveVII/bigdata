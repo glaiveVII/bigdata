{
 "cells": [
  {
   "cell_type": "markdown",
   "metadata": {},
   "source": [
    "# TP 1 - Julien PELEGRI & Elouan RAYMOND "
   ]
  },
  {
   "cell_type": "markdown",
   "metadata": {},
   "source": [
    "## Charger les données \n"
   ]
  },
  {
   "cell_type": "code",
   "execution_count": 1,
   "metadata": {},
   "outputs": [
    {
     "name": "stdout",
     "output_type": "stream",
     "text": [
      "   X0    X1    X2     Y\n",
      "0   1  0.72  0.32  6.93\n",
      "1   1  0.75  0.12  5.99\n",
      "2   1  0.53  0.65  1.46\n",
      "3   1  0.27  0.82  1.44\n",
      "4   1  0.49  0.15  4.51\n",
      "5   1  0.02  0.19  1.25\n",
      "6   1  0.35  0.87  2.53\n",
      "7   1  0.99  0.71  6.88\n",
      "8   1  0.98  0.92  6.25\n",
      "9   1  0.73  0.19  6.36\n"
     ]
    }
   ],
   "source": [
    "import pandas as pd\n",
    "\n",
    "df = pd.read_excel (r'data_regression.xlsx')\n",
    "print (df)"
   ]
  },
  {
   "cell_type": "markdown",
   "metadata": {},
   "source": [
    "## 1. Résolution analytique de la regression linéaire multiple\n",
    "> On rappelle l'estimateur : $$ \\hat{a} = (X'X)^{-1}X'Y$$\n",
    "### 1.1 Sur le fichier de données "
   ]
  },
  {
   "cell_type": "code",
   "execution_count": 2,
   "metadata": {},
   "outputs": [],
   "source": [
    "import numpy as np\n",
    "import numpy.linalg as la\n",
    "X = df[['X0','X1','X2']]\n",
    "Y = df['Y']"
   ]
  },
  {
   "cell_type": "code",
   "execution_count": 3,
   "metadata": {},
   "outputs": [
    {
     "name": "stdout",
     "output_type": "stream",
     "text": [
      "[ 1.42423013  7.17311794 -2.52258683]\n"
     ]
    }
   ],
   "source": [
    "A = la.inv(np.dot(X.transpose(),X))\n",
    "B = np.dot(X.transpose(),Y)\n",
    "a_hat = np.dot(A,B)\n",
    "print(a_hat)"
   ]
  },
  {
   "cell_type": "code",
   "execution_count": 4,
   "metadata": {},
   "outputs": [
    {
     "name": "stdout",
     "output_type": "stream",
     "text": [
      "        Y_pred\n",
      "Y             \n",
      "6.93  5.781647\n",
      "5.99  6.501358\n",
      "1.46  3.586301\n",
      "1.44  1.292451\n",
      "4.51  4.560670\n",
      "1.25  1.088401\n",
      "2.53  1.740171\n",
      "6.88  6.734580\n",
      "6.25  6.133106\n",
      "6.36  6.181315\n",
      "MSE= 0.6842380065507273\n"
     ]
    }
   ],
   "source": [
    "Y_pred1 = np.dot(a_hat,X.transpose())\n",
    "Y2 = pd.DataFrame(Y_pred1,Y)\n",
    "Y2.columns = ['Y_pred']\n",
    "print(Y2)\n",
    "delta1 = Y-Y_pred1\n",
    "delta3 = np.power(delta1,2)\n",
    "n_donnees = len(Y)\n",
    "MSE = 1/n_donnees*sum(delta3)\n",
    "print('MSE=',MSE)"
   ]
  },
  {
   "cell_type": "markdown",
   "metadata": {},
   "source": [
    "### 1.2 - Sur un échantillon de données aléatoires"
   ]
  },
  {
   "cell_type": "code",
   "execution_count": 5,
   "metadata": {},
   "outputs": [],
   "source": [
    "from sklearn.datasets import make_regression\n",
    "import time\n",
    "import matplotlib.pyplot as plt"
   ]
  },
  {
   "cell_type": "code",
   "execution_count": 6,
   "metadata": {},
   "outputs": [],
   "source": [
    "n = 1000\n",
    "p = 5\n",
    "# Generate fetures, outputs, and true coefficient of 100 samples,\n",
    "features, output, coef = make_regression(n_samples = n,\n",
    "                                         # three features\n",
    "                                         n_features = p,\n",
    "                                         # where only two features are useful,\n",
    "                                         n_informative = 2,\n",
    "                                         # a single target value per observation\n",
    "                                         n_targets = 1,\n",
    "                                         # 0.5 standard deviation of the guassian noise\n",
    "                                         noise = 0.5,\n",
    "                                         # show the true coefficient used to generated the data\n",
    "                                         coef = True)"
   ]
  },
  {
   "cell_type": "code",
   "execution_count": 7,
   "metadata": {},
   "outputs": [
    {
     "data": {
      "text/html": [
       "<div>\n",
       "<style scoped>\n",
       "    .dataframe tbody tr th:only-of-type {\n",
       "        vertical-align: middle;\n",
       "    }\n",
       "\n",
       "    .dataframe tbody tr th {\n",
       "        vertical-align: top;\n",
       "    }\n",
       "\n",
       "    .dataframe thead th {\n",
       "        text-align: right;\n",
       "    }\n",
       "</style>\n",
       "<table border=\"1\" class=\"dataframe\">\n",
       "  <thead>\n",
       "    <tr style=\"text-align: right;\">\n",
       "      <th></th>\n",
       "      <th>0</th>\n",
       "      <th>1</th>\n",
       "      <th>2</th>\n",
       "      <th>3</th>\n",
       "      <th>4</th>\n",
       "    </tr>\n",
       "  </thead>\n",
       "  <tbody>\n",
       "    <tr>\n",
       "      <th>0</th>\n",
       "      <td>0.155524</td>\n",
       "      <td>-0.511533</td>\n",
       "      <td>1.340568</td>\n",
       "      <td>1.754101</td>\n",
       "      <td>0.537641</td>\n",
       "    </tr>\n",
       "    <tr>\n",
       "      <th>1</th>\n",
       "      <td>0.668723</td>\n",
       "      <td>-0.218872</td>\n",
       "      <td>-0.487563</td>\n",
       "      <td>0.402023</td>\n",
       "      <td>0.467923</td>\n",
       "    </tr>\n",
       "    <tr>\n",
       "      <th>2</th>\n",
       "      <td>-2.824832</td>\n",
       "      <td>2.240360</td>\n",
       "      <td>-0.778836</td>\n",
       "      <td>1.007999</td>\n",
       "      <td>-1.342631</td>\n",
       "    </tr>\n",
       "    <tr>\n",
       "      <th>3</th>\n",
       "      <td>-1.035132</td>\n",
       "      <td>0.437655</td>\n",
       "      <td>1.596698</td>\n",
       "      <td>-0.386701</td>\n",
       "      <td>-0.915440</td>\n",
       "    </tr>\n",
       "    <tr>\n",
       "      <th>4</th>\n",
       "      <td>-0.248899</td>\n",
       "      <td>0.112366</td>\n",
       "      <td>-0.084652</td>\n",
       "      <td>0.782016</td>\n",
       "      <td>-1.803724</td>\n",
       "    </tr>\n",
       "  </tbody>\n",
       "</table>\n",
       "</div>"
      ],
      "text/plain": [
       "          0         1         2         3         4\n",
       "0  0.155524 -0.511533  1.340568  1.754101  0.537641\n",
       "1  0.668723 -0.218872 -0.487563  0.402023  0.467923\n",
       "2 -2.824832  2.240360 -0.778836  1.007999 -1.342631\n",
       "3 -1.035132  0.437655  1.596698 -0.386701 -0.915440\n",
       "4 -0.248899  0.112366 -0.084652  0.782016 -1.803724"
      ]
     },
     "execution_count": 7,
     "metadata": {},
     "output_type": "execute_result"
    }
   ],
   "source": [
    "pd.DataFrame(features).head()"
   ]
  },
  {
   "cell_type": "code",
   "execution_count": 8,
   "metadata": {},
   "outputs": [
    {
     "data": {
      "text/html": [
       "<div>\n",
       "<style scoped>\n",
       "    .dataframe tbody tr th:only-of-type {\n",
       "        vertical-align: middle;\n",
       "    }\n",
       "\n",
       "    .dataframe tbody tr th {\n",
       "        vertical-align: top;\n",
       "    }\n",
       "\n",
       "    .dataframe thead th {\n",
       "        text-align: right;\n",
       "    }\n",
       "</style>\n",
       "<table border=\"1\" class=\"dataframe\">\n",
       "  <thead>\n",
       "    <tr style=\"text-align: right;\">\n",
       "      <th></th>\n",
       "      <th>0</th>\n",
       "    </tr>\n",
       "  </thead>\n",
       "  <tbody>\n",
       "    <tr>\n",
       "      <th>0</th>\n",
       "      <td>23.102686</td>\n",
       "    </tr>\n",
       "    <tr>\n",
       "      <th>1</th>\n",
       "      <td>25.918958</td>\n",
       "    </tr>\n",
       "    <tr>\n",
       "      <th>2</th>\n",
       "      <td>-28.284491</td>\n",
       "    </tr>\n",
       "    <tr>\n",
       "      <th>3</th>\n",
       "      <td>-51.641242</td>\n",
       "    </tr>\n",
       "    <tr>\n",
       "      <th>4</th>\n",
       "      <td>-124.045416</td>\n",
       "    </tr>\n",
       "  </tbody>\n",
       "</table>\n",
       "</div>"
      ],
      "text/plain": [
       "            0\n",
       "0   23.102686\n",
       "1   25.918958\n",
       "2  -28.284491\n",
       "3  -51.641242\n",
       "4 -124.045416"
      ]
     },
     "execution_count": 8,
     "metadata": {},
     "output_type": "execute_result"
    }
   ],
   "source": [
    "# View the output of the first five rows\n",
    "pd.DataFrame(output).head()"
   ]
  },
  {
   "cell_type": "code",
   "execution_count": 9,
   "metadata": {},
   "outputs": [
    {
     "data": {
      "text/html": [
       "<div>\n",
       "<style scoped>\n",
       "    .dataframe tbody tr th:only-of-type {\n",
       "        vertical-align: middle;\n",
       "    }\n",
       "\n",
       "    .dataframe tbody tr th {\n",
       "        vertical-align: top;\n",
       "    }\n",
       "\n",
       "    .dataframe thead th {\n",
       "        text-align: right;\n",
       "    }\n",
       "</style>\n",
       "<table border=\"1\" class=\"dataframe\">\n",
       "  <thead>\n",
       "    <tr style=\"text-align: right;\">\n",
       "      <th></th>\n",
       "      <th>True Coefficient Values</th>\n",
       "    </tr>\n",
       "  </thead>\n",
       "  <tbody>\n",
       "    <tr>\n",
       "      <th>0</th>\n",
       "      <td>0.000000</td>\n",
       "    </tr>\n",
       "    <tr>\n",
       "      <th>1</th>\n",
       "      <td>29.365995</td>\n",
       "    </tr>\n",
       "    <tr>\n",
       "      <th>2</th>\n",
       "      <td>0.000000</td>\n",
       "    </tr>\n",
       "    <tr>\n",
       "      <th>3</th>\n",
       "      <td>0.000000</td>\n",
       "    </tr>\n",
       "    <tr>\n",
       "      <th>4</th>\n",
       "      <td>70.385848</td>\n",
       "    </tr>\n",
       "  </tbody>\n",
       "</table>\n",
       "</div>"
      ],
      "text/plain": [
       "   True Coefficient Values\n",
       "0                 0.000000\n",
       "1                29.365995\n",
       "2                 0.000000\n",
       "3                 0.000000\n",
       "4                70.385848"
      ]
     },
     "execution_count": 9,
     "metadata": {},
     "output_type": "execute_result"
    }
   ],
   "source": [
    "pd.DataFrame(coef, columns=['True Coefficient Values'])"
   ]
  },
  {
   "cell_type": "code",
   "execution_count": 10,
   "metadata": {},
   "outputs": [
    {
     "name": "stdout",
     "output_type": "stream",
     "text": [
      "   Estimated Coefficient Values\n",
      "0                      0.012164\n",
      "1                     29.362293\n",
      "2                      0.018208\n",
      "3                     -0.027338\n",
      "4                     70.367856\n",
      "  \n",
      "--- 0.005556344985961914 seconds ---\n"
     ]
    }
   ],
   "source": [
    "start_time = time.time()\n",
    "A1 = la.inv(np.dot(features.transpose(),features))\n",
    "B1 = np.dot(features.transpose(),output)\n",
    "a_hat1 = np.dot(A1,B1)\n",
    "print(pd.DataFrame(a_hat1,columns=['Estimated Coefficient Values']))\n",
    "print(\"  \")\n",
    "print(\"--- %s seconds ---\" % (time.time() - start_time))"
   ]
  },
  {
   "cell_type": "markdown",
   "metadata": {},
   "source": [
    "### Complexité de : $$(X.X')^{-1}$$\n",
    "> La complexité est : $n^2.p$"
   ]
  },
  {
   "cell_type": "code",
   "execution_count": 11,
   "metadata": {},
   "outputs": [
    {
     "name": "stdout",
     "output_type": "stream",
     "text": [
      "complexity 5000000\n"
     ]
    }
   ],
   "source": [
    "print(\"complexity\",n*n*p)"
   ]
  },
  {
   "cell_type": "markdown",
   "metadata": {},
   "source": [
    "## 2. Algorithme de descente du gradient - explicite\n",
    "### 2.1. Sur le jeu de données"
   ]
  },
  {
   "cell_type": "code",
   "execution_count": 12,
   "metadata": {},
   "outputs": [],
   "source": [
    "import matplotlib.pyplot as plt\n",
    "X = df[['X0','X1','X2']]\n",
    "Y = df['Y']\n",
    "n = df.shape[1]\n",
    "n_var = df.shape[1]-1\n",
    "X = X.to_numpy()\n",
    "Y = Y.to_numpy() # Conversion pour les opérations à venir "
   ]
  },
  {
   "cell_type": "code",
   "execution_count": 13,
   "metadata": {},
   "outputs": [
    {
     "name": "stdout",
     "output_type": "stream",
     "text": [
      "Iteration finale: 500000\n",
      "MSE par descente du gradient: 1.7105950163768813\n",
      "MSE par méthode analytique: 1.7105950164615547\n"
     ]
    },
    {
     "data": {
      "image/png": "[encoded data removed]",
      "text/plain": [
       "<Figure size 648x432 with 1 Axes>"
      ]
     },
     "metadata": {
      "needs_background": "light"
     },
     "output_type": "display_data"
    },
    {
     "name": "stdout",
     "output_type": "stream",
     "text": [
      "  \n",
      "--- 0.00019097328186035156 seconds ---\n"
     ]
    }
   ],
   "source": [
    "# Hyperparamètres\n",
    "start_time = time.time()\n",
    "\n",
    "\n",
    "ALPHA = 0.0001  #  taux d'apprentissage\n",
    "EPOCHS = 500000  #  number of iterations to perform gradient descent\n",
    "EPS = 0.4  #  Epsilon\n",
    "beta_hat = np.zeros(n_var) # parametres initiaux\n",
    "\n",
    "MSE = np.zeros(EPOCHS+1)\n",
    "MSE[0] = (np.sum((Y - sum(np.transpose(X*beta_hat)))**2))/n\n",
    "\n",
    "\n",
    "# Descente du gradient\n",
    "i = 0\n",
    "while MSE[i] > EPS and i < EPOCHS:\n",
    "    i += 1\n",
    "    # prédiction de Y\n",
    "    Y_pred = sum(np.transpose(X*beta_hat))\n",
    "\n",
    "    for j in range(0,n_var):\n",
    "        beta_hat[j] = beta_hat[j] + ALPHA * (2*np.sum((Y-Y_pred)*X[:,j]))/n\n",
    "\n",
    "    MSE[i] = (np.sum((Y - Y_pred)**2))/n\n",
    "\n",
    "print(\"Iteration finale:\",i)\n",
    "print(\"MSE par descente du gradient:\",MSE[i])\n",
    "\n",
    "beta_hat = np.dot(np.linalg.inv(np.dot(X.T,X)+0.00001*np.random.rand(n_var, n_var)),np.dot(X.T,Y))\n",
    "\n",
    "MSE2 = sum((Y - sum(np.transpose(X*beta_hat)))**2)/n\n",
    "print(\"MSE par méthode analytique:\",MSE2)\n",
    "\n",
    "# Configuration du plot\n",
    "x_axis = np.arange(0, i)\n",
    "plt.figure(figsize=(9,6))\n",
    "plt.plot(x_axis,MSE[0:i])\n",
    "plt.title(\"MSE en fonction du nombre d'itération (gradient analytique)\")\n",
    "plt.xlabel(\"Nombre d'itération\")\n",
    "plt.ylabel(\"MSE\")\n",
    "plt.show()\n",
    "start_time = time.time()\n",
    "\n",
    "print(\"  \")\n",
    "print(\"--- %s seconds ---\" % (time.time() - start_time))"
   ]
  },
  {
   "cell_type": "markdown",
   "metadata": {},
   "source": [
    "### 2.2. Sur les données aléatoires"
   ]
  },
  {
   "cell_type": "code",
   "execution_count": 14,
   "metadata": {},
   "outputs": [],
   "source": [
    "n = 1000\n",
    "p = 5\n",
    "# Generate fetures, outputs, and true coefficient of 100 samples,\n",
    "features, output, coef = make_regression(n_samples = n,\n",
    "                                         # three features\n",
    "                                         n_features = p,\n",
    "                                         # where only two features are useful,\n",
    "                                         n_informative = 2,\n",
    "                                         # a single target value per observation\n",
    "                                         n_targets = 1,\n",
    "                                         # 0.5 standard deviation of the guassian noise\n",
    "                                         noise = 0.5,\n",
    "                                         # show the true coefficient used to generated the data\n",
    "                                         coef = True)\n",
    "X = features\n",
    "Y = output\n",
    "n_var = p"
   ]
  },
  {
   "cell_type": "code",
   "execution_count": 15,
   "metadata": {},
   "outputs": [
    {
     "name": "stdout",
     "output_type": "stream",
     "text": [
      "Iteration finale: 28717\n",
      "MSE par descente du gradient: 0.3999899694476204\n",
      "MSE par méthode analytique: 0.2726204224909253\n"
     ]
    },
    {
     "data": {
      "image/png": "[encoded data removed]",
      "text/plain": [
       "<Figure size 648x432 with 1 Axes>"
      ]
     },
     "metadata": {
      "needs_background": "light"
     },
     "output_type": "display_data"
    },
    {
     "name": "stdout",
     "output_type": "stream",
     "text": [
      "  \n",
      "--- 2.928189992904663 seconds ---\n"
     ]
    }
   ],
   "source": [
    "# Hyperparamètres\n",
    "start_time = time.time()\n",
    "ALPHA = 0.0001  #  taux d'apprentissage\n",
    "EPOCHS = 500000  #  number of iterations to perform gradient descent\n",
    "EPS = 0.4  #  Epsilon\n",
    "beta_hat = np.zeros(n_var) # parametres initiaux\n",
    "\n",
    "MSE = np.zeros(EPOCHS+1)\n",
    "MSE[0] = (np.sum((Y - sum(np.transpose(X*beta_hat)))**2))/n\n",
    "\n",
    "\n",
    "# Descente du gradient\n",
    "i = 0\n",
    "while MSE[i] > EPS and i < EPOCHS:\n",
    "    i += 1\n",
    "    # prédiction de Y\n",
    "    Y_pred = sum(np.transpose(X*beta_hat))\n",
    "\n",
    "    for j in range(0,n_var):\n",
    "        beta_hat[j] = beta_hat[j] + ALPHA * (2*np.sum((Y-Y_pred)*X[:,j]))/n\n",
    "\n",
    "    MSE[i] = (np.sum((Y - Y_pred)**2))/n\n",
    "\n",
    "print(\"Iteration finale:\",i)\n",
    "print(\"MSE par descente du gradient:\",MSE[i])\n",
    "\n",
    "beta_hat = np.dot(np.linalg.inv(np.dot(X.T,X)+0.00001*np.random.rand(n_var, n_var)),np.dot(X.T,Y))\n",
    "\n",
    "MSE2 = sum((Y - sum(np.transpose(X*beta_hat)))**2)/n\n",
    "print(\"MSE par méthode analytique:\",MSE2)\n",
    "\n",
    "# Configuration du plot\n",
    "x_axis = np.arange(0, i)\n",
    "plt.figure(figsize=(9,6))\n",
    "plt.plot(x_axis,MSE[0:i])\n",
    "plt.title(\"MSE en fonction du nombre d'itération (gradient analytique)\")\n",
    "plt.xlabel(\"Nombre d'itération\")\n",
    "plt.ylabel(\"MSE\")\n",
    "plt.show()\n",
    "print(\"  \")\n",
    "print(\"--- %s seconds ---\" % (time.time() - start_time))"
   ]
  },
  {
   "cell_type": "markdown",
   "metadata": {},
   "source": [
    "## 3. Algorithme de descente du gradient - numérique\n",
    "### 3.1. Sur le jeu de données"
   ]
  },
  {
   "cell_type": "code",
   "execution_count": 16,
   "metadata": {},
   "outputs": [],
   "source": [
    "X = df[['X0','X1','X2']]\n",
    "Y = df['Y']\n",
    "n = df.shape[1]\n",
    "n_var = df.shape[1]-1\n",
    "X = X.to_numpy()\n",
    "Y = Y.to_numpy() # Conversion pour les opérations à venir "
   ]
  },
  {
   "cell_type": "code",
   "execution_count": 17,
   "metadata": {},
   "outputs": [
    {
     "name": "stdout",
     "output_type": "stream",
     "text": [
      "Iteration finale: 500000\n",
      "MSE par déscente du gradient numérique: 1.7105959246764684\n"
     ]
    },
    {
     "data": {
      "image/png": "[encoded data removed]",
      "text/plain": [
       "<Figure size 648x432 with 1 Axes>"
      ]
     },
     "metadata": {
      "needs_background": "light"
     },
     "output_type": "display_data"
    },
    {
     "name": "stdout",
     "output_type": "stream",
     "text": [
      "  \n",
      "--- 46.511213064193726 seconds ---\n"
     ]
    }
   ],
   "source": [
    "# Partie Gradient numérique\n",
    "# Hyperparamètres\n",
    "start_time = time.time()\n",
    "D_ALPHA = 0.001\n",
    "beta_hat = np.zeros(n_var) # parametres initiaux\n",
    "\n",
    "MSE = np.zeros(EPOCHS+1)\n",
    "MSE[0] = (np.sum((Y - sum(np.transpose(X*beta_hat)))**2))/n\n",
    "\n",
    "\n",
    "# Descente du gradient\n",
    "i = 0\n",
    "while MSE[i] > EPS and i < EPOCHS:\n",
    "    i += 1\n",
    "    # prédiction de Y\n",
    "    Y_pred = sum(np.transpose(X*beta_hat))\n",
    "\n",
    "    for j in range(0,n_var):\n",
    "        mse1 = (np.sum((Y - Y_pred)**2))/n\n",
    "        beta_hat_temp = beta_hat.copy()\n",
    "        beta_hat_temp[j] += D_ALPHA\n",
    "        Y_pred_temp = sum(np.transpose(X*beta_hat_temp))\n",
    "        mse2 = (np.sum((Y - Y_pred_temp)**2))/n\n",
    "\n",
    "\n",
    "        beta_hat[j] = beta_hat[j] - ALPHA * (mse2-mse1)/D_ALPHA\n",
    "\n",
    "    MSE[i] = (np.sum((Y - Y_pred)**2))/n\n",
    "\n",
    "print(\"Iteration finale:\",i)\n",
    "print(\"MSE par déscente du gradient numérique:\",MSE[i])\n",
    "\n",
    "# Configuration du plot\n",
    "x_axis = np.arange(0, i)\n",
    "plt.figure(figsize=(9,6))\n",
    "plt.plot(x_axis,MSE[0:i])\n",
    "plt.title(\"MSE en fonction du nombre d'itération (gradient numérique)\")\n",
    "plt.xlabel(\"Nombre d'itération\")\n",
    "plt.ylabel(\"MSE\")\n",
    "plt.show()\n",
    "print(\"  \")\n",
    "print(\"--- %s seconds ---\" % (time.time() - start_time))"
   ]
  },
  {
   "cell_type": "markdown",
   "metadata": {},
   "source": [
    "### 3.2. Sur les données aléatoires"
   ]
  },
  {
   "cell_type": "code",
   "execution_count": 18,
   "metadata": {},
   "outputs": [],
   "source": [
    "n = 1000\n",
    "p = 5\n",
    "# Generate fetures, outputs, and true coefficient of 100 samples,\n",
    "features, output, coef = make_regression(n_samples = n,\n",
    "                                         # three features\n",
    "                                         n_features = p,\n",
    "                                         # where only two features are useful,\n",
    "                                         n_informative = 2,\n",
    "                                         # a single target value per observation\n",
    "                                         n_targets = 1,\n",
    "                                         # 0.5 standard deviation of the guassian noise\n",
    "                                         noise = 0.5,\n",
    "                                         # show the true coefficient used to generated the data\n",
    "                                         coef = True)\n",
    "X = features\n",
    "Y = output\n",
    "n_var = p"
   ]
  },
  {
   "cell_type": "markdown",
   "metadata": {},
   "source": [
    "> L'exécution de cette partie est beaucoup trop longue et n'est donc pas précompilée par choix"
   ]
  },
  {
   "cell_type": "code",
   "execution_count": 19,
   "metadata": {},
   "outputs": [
    {
     "name": "stdout",
     "output_type": "stream",
     "text": [
      "Iteration finale: 27381\n",
      "MSE par déscente du gradient numérique: 0.3999723538186131\n"
     ]
    },
    {
     "data": {
      "image/png": "[encoded data removed]",
      "text/plain": [
       "<Figure size 648x432 with 1 Axes>"
      ]
     },
     "metadata": {
      "needs_background": "light"
     },
     "output_type": "display_data"
    },
    {
     "name": "stdout",
     "output_type": "stream",
     "text": [
      "  \n",
      "--- 8.086817026138306 seconds ---\n"
     ]
    }
   ],
   "source": [
    "# Partie Gradient numérique\n",
    "# Hyperparamètres\n",
    "start_time = time.time()\n",
    "D_ALPHA = 0.001\n",
    "beta_hat = np.zeros(n_var) # parametres initiaux\n",
    "\n",
    "MSE = np.zeros(EPOCHS+1)\n",
    "MSE[0] = (np.sum((Y - sum(np.transpose(X*beta_hat)))**2))/n\n",
    "\n",
    "\n",
    "# Descente du gradient\n",
    "i = 0\n",
    "while MSE[i] > EPS and i < EPOCHS:\n",
    "    i += 1\n",
    "    # prédiction de Y\n",
    "    Y_pred = sum(np.transpose(X*beta_hat))\n",
    "\n",
    "    for j in range(0,n_var):\n",
    "        mse1 = (np.sum((Y - Y_pred)**2))/n\n",
    "        beta_hat_temp = beta_hat.copy()\n",
    "        beta_hat_temp[j] += D_ALPHA\n",
    "        Y_pred_temp = sum(np.transpose(X*beta_hat_temp))\n",
    "        mse2 = (np.sum((Y - Y_pred_temp)**2))/n\n",
    "\n",
    "\n",
    "        beta_hat[j] = beta_hat[j] - ALPHA * (mse2-mse1)/D_ALPHA\n",
    "\n",
    "    MSE[i] = (np.sum((Y - Y_pred)**2))/n\n",
    "\n",
    "print(\"Iteration finale:\",i)\n",
    "print(\"MSE par déscente du gradient numérique:\",MSE[i])\n",
    "\n",
    "# Configuration du plot\n",
    "x_axis = np.arange(0, i)\n",
    "plt.figure(figsize=(9,6))\n",
    "plt.plot(x_axis,MSE[0:i])\n",
    "plt.title(\"MSE en fonction du nombre d'itération (gradient numérique)\")\n",
    "plt.xlabel(\"Nombre d'itération\")\n",
    "plt.ylabel(\"MSE\")\n",
    "plt.show()\n",
    "print(\"  \")\n",
    "print(\"--- %s seconds ---\" % (time.time() - start_time))"
   ]
  },
  {
   "cell_type": "markdown",
   "metadata": {},
   "source": [
    "## 4. Algorithme de descente du gradient - stochastique & explicite\n",
    "### 4.1. Sur le jeu de données"
   ]
  },
  {
   "cell_type": "code",
   "execution_count": 20,
   "metadata": {},
   "outputs": [],
   "source": [
    "X = df[['X0','X1','X2']]\n",
    "Y = df['Y']\n",
    "n = df.shape[1]\n",
    "n_var = df.shape[1]-1\n",
    "X = X.to_numpy()\n",
    "Y = Y.to_numpy() # Conversion pour les opérations à venir \n",
    "import random"
   ]
  },
  {
   "cell_type": "code",
   "execution_count": 21,
   "metadata": {},
   "outputs": [
    {
     "name": "stdout",
     "output_type": "stream",
     "text": [
      "Iteration finale: 500000\n",
      "MSE par descente du gradient: 1.710595018537896\n",
      "MSE par méthode analytique: 1.710595016522531\n"
     ]
    },
    {
     "data": {
      "image/png": "[encoded data removed]",
      "text/plain": [
       "<Figure size 648x432 with 1 Axes>"
      ]
     },
     "metadata": {
      "needs_background": "light"
     },
     "output_type": "display_data"
    }
   ],
   "source": [
    "# Hyperparamètres\n",
    "R = 2 # Nombre de variables à considérer pour le gradient stochastique\n",
    "ALPHA = 0.0001  #  taux d'apprentissage\n",
    "EPOCHS = 500000  #  number of iterations to perform gradient descent\n",
    "EPS = 0.5  #  Epsilon\n",
    "beta_hat = np.zeros(n_var) # parametres initiaux\n",
    "\n",
    "MSE = np.zeros(EPOCHS+1)\n",
    "MSE[0] = (np.sum((Y - sum(np.transpose(X*beta_hat)))**2))/n\n",
    "\n",
    "\n",
    "# Descente du gradient\n",
    "i = 0\n",
    "while MSE[i] > EPS and i < EPOCHS:\n",
    "    i += 1\n",
    "    # prédiction de Y\n",
    "    liste = random.sample(list(np.arange(0, n_var)),R)\n",
    "    Y_pred = sum(np.transpose(X*beta_hat))\n",
    "\n",
    "    for j in liste:\n",
    "        beta_hat[j] = beta_hat[j] + ALPHA * (2*np.sum((Y-Y_pred)*X[:,j]))/n\n",
    "\n",
    "    MSE[i] = (np.sum((Y - Y_pred)**2))/n\n",
    "\n",
    "print(\"Iteration finale:\",i)\n",
    "print(\"MSE par descente du gradient:\",MSE[i])\n",
    "\n",
    "beta_hat = np.dot(np.linalg.inv(np.dot(X.T,X)+0.00001*np.random.rand(n_var, n_var)),np.dot(X.T,Y))\n",
    "\n",
    "MSE2 = sum((Y - sum(np.transpose(X*beta_hat)))**2)/n\n",
    "print(\"MSE par méthode analytique:\",MSE2)\n",
    "\n",
    "# Configuration du plot\n",
    "x_axis = np.arange(0, i)\n",
    "plt.figure(figsize=(9,6))\n",
    "plt.plot(x_axis,MSE[0:i])\n",
    "plt.title(\"MSE en fonction du nombre d'itération (gradient analytique)\")\n",
    "plt.xlabel(\"Nombre d'itération\")\n",
    "plt.ylabel(\"MSE\")\n",
    "plt.show()"
   ]
  },
  {
   "cell_type": "markdown",
   "metadata": {},
   "source": [
    "### 4.2. Sur les données aléatoires"
   ]
  },
  {
   "cell_type": "code",
   "execution_count": 22,
   "metadata": {},
   "outputs": [],
   "source": [
    "n = 1000\n",
    "p = 5\n",
    "# Generate fetures, outputs, and true coefficient of 100 samples,\n",
    "features, output, coef = make_regression(n_samples = n,\n",
    "                                         # three features\n",
    "                                         n_features = p,\n",
    "                                         # where only two features are useful,\n",
    "                                         n_informative = 2,\n",
    "                                         # a single target value per observation\n",
    "                                         n_targets = 1,\n",
    "                                         # 0.5 standard deviation of the guassian noise\n",
    "                                         noise = 0.5,\n",
    "                                         # show the true coefficient used to generated the data\n",
    "                                         coef = True)\n",
    "X = features\n",
    "Y = output\n",
    "n_var = p\n",
    "import random"
   ]
  },
  {
   "cell_type": "code",
   "execution_count": 23,
   "metadata": {},
   "outputs": [
    {
     "name": "stdout",
     "output_type": "stream",
     "text": [
      "Iteration finale: 70009\n",
      "MSE par descente du gradient: 0.4999977834602639\n",
      "MSE par méthode analytique: 0.24787642837310908\n"
     ]
    },
    {
     "data": {
      "image/png": "[encoded data removed]",
      "text/plain": [
       "<Figure size 648x432 with 1 Axes>"
      ]
     },
     "metadata": {
      "needs_background": "light"
     },
     "output_type": "display_data"
    },
    {
     "name": "stdout",
     "output_type": "stream",
     "text": [
      "  \n",
      "--- 5.015644073486328 seconds ---\n"
     ]
    }
   ],
   "source": [
    "# Hyperparamètres\n",
    "start_time = time.time()\n",
    "R = 2 # Nombre de variables à considérer pour le gradient stochastique\n",
    "ALPHA = 0.0001  #  taux d'apprentissage\n",
    "EPOCHS = 500000  #  number of iterations to perform gradient descent\n",
    "EPS = 0.5  #  Epsilon\n",
    "beta_hat = np.zeros(n_var) # parametres initiaux\n",
    "\n",
    "MSE = np.zeros(EPOCHS+1)\n",
    "MSE[0] = (np.sum((Y - sum(np.transpose(X*beta_hat)))**2))/n\n",
    "\n",
    "\n",
    "# Descente du gradient\n",
    "i = 0\n",
    "while MSE[i] > EPS and i < EPOCHS:\n",
    "    i += 1\n",
    "    # prédiction de Y\n",
    "    liste = random.sample(list(np.arange(0, n_var)),R)\n",
    "    Y_pred = sum(np.transpose(X*beta_hat))\n",
    "\n",
    "    for j in liste:\n",
    "        beta_hat[j] = beta_hat[j] + ALPHA * (2*np.sum((Y-Y_pred)*X[:,j]))/n\n",
    "\n",
    "    MSE[i] = (np.sum((Y - Y_pred)**2))/n\n",
    "\n",
    "print(\"Iteration finale:\",i)\n",
    "print(\"MSE par descente du gradient:\",MSE[i])\n",
    "\n",
    "beta_hat = np.dot(np.linalg.inv(np.dot(X.T,X)+0.00001*np.random.rand(n_var, n_var)),np.dot(X.T,Y))\n",
    "\n",
    "MSE2 = sum((Y - sum(np.transpose(X*beta_hat)))**2)/n\n",
    "print(\"MSE par méthode analytique:\",MSE2)\n",
    "\n",
    "# Configuration du plot\n",
    "x_axis = np.arange(0, i)\n",
    "plt.figure(figsize=(9,6))\n",
    "plt.plot(x_axis,MSE[0:i])\n",
    "plt.title(\"MSE en fonction du nombre d'itération (gradient analytique)\")\n",
    "plt.xlabel(\"Nombre d'itération\")\n",
    "plt.ylabel(\"MSE\")\n",
    "plt.show()\n",
    "print(\"  \")\n",
    "print(\"--- %s seconds ---\" % (time.time() - start_time))"
   ]
  },
  {
   "cell_type": "markdown",
   "metadata": {},
   "source": [
    "## 5. Algorithme de descente du gradient - stochastique & numérique\n",
    "### 5.1. Sur le jeu de données"
   ]
  },
  {
   "cell_type": "code",
   "execution_count": 24,
   "metadata": {},
   "outputs": [],
   "source": [
    "X = df[['X0','X1','X2']]\n",
    "Y = df['Y']\n",
    "n = df.shape[1]\n",
    "n_var = df.shape[1]-1\n",
    "X = X.to_numpy()\n",
    "Y = Y.to_numpy() # Conversion pour les opérations à venir \n",
    "import random"
   ]
  },
  {
   "cell_type": "code",
   "execution_count": 25,
   "metadata": {},
   "outputs": [
    {
     "name": "stdout",
     "output_type": "stream",
     "text": [
      "Iteration finale: 500000\n",
      "MSE par descente du gradient numérique: 1.7106853046125494\n"
     ]
    },
    {
     "data": {
      "image/png": "[encoded data removed]",
      "text/plain": [
       "<Figure size 648x432 with 1 Axes>"
      ]
     },
     "metadata": {
      "needs_background": "light"
     },
     "output_type": "display_data"
    }
   ],
   "source": [
    "# Partie Gradient numérique\n",
    "# Hyperparamètres\n",
    "start_time = time.time()\n",
    "D_ALPHA = 0.01\n",
    "beta_hat = np.zeros(n_var) # parametres initiaux\n",
    "\n",
    "MSE = np.zeros(EPOCHS+1)\n",
    "MSE[0] = (np.sum((Y - sum(np.transpose(X*beta_hat)))**2))/n\n",
    "\n",
    "\n",
    "# Descente du gradient\n",
    "i = 0\n",
    "while MSE[i] > EPS and i < EPOCHS:\n",
    "    i += 1\n",
    "    # prédiction de Y\n",
    "    liste = random.sample(list(np.arange(0, n_var)),R)\n",
    "    Y_pred = sum(np.transpose(X*beta_hat))\n",
    "\n",
    "    for j in liste:\n",
    "        mse1 = (np.sum((Y - Y_pred)**2))/n\n",
    "        beta_hat_temp = beta_hat.copy()\n",
    "        beta_hat_temp[j] += D_ALPHA\n",
    "        Y_pred_temp = sum(np.transpose(X*beta_hat_temp))\n",
    "        mse2 = (np.sum((Y - Y_pred_temp)**2))/n\n",
    "\n",
    "\n",
    "        beta_hat[j] = beta_hat[j] - ALPHA * (mse2-mse1)/D_ALPHA\n",
    "\n",
    "    MSE[i] = (np.sum((Y - Y_pred)**2))/n\n",
    "\n",
    "print(\"Iteration finale:\",i)\n",
    "print(\"MSE par descente du gradient numérique:\",MSE[i])\n",
    "\n",
    "# Configuration du plot\n",
    "x_axis = np.arange(0, i)\n",
    "plt.figure(figsize=(9,6))\n",
    "plt.plot(x_axis,MSE[0:i])\n",
    "plt.title(\"MSE en fonction du nombre d'itération (gradient numérique)\")\n",
    "plt.xlabel(\"Nombre d'itération\")\n",
    "plt.ylabel(\"MSE\")\n",
    "plt.show()"
   ]
  },
  {
   "cell_type": "markdown",
   "metadata": {},
   "source": [
    "###  5.2. Sur le jeu de données aléatoires"
   ]
  },
  {
   "cell_type": "code",
   "execution_count": 26,
   "metadata": {},
   "outputs": [],
   "source": [
    "n = 1000\n",
    "p = 5\n",
    "# Generate fetures, outputs, and true coefficient of 100 samples,\n",
    "features, output, coef = make_regression(n_samples = n,\n",
    "                                         # three features\n",
    "                                         n_features = p,\n",
    "                                         # where only two features are useful,\n",
    "                                         n_informative = 2,\n",
    "                                         # a single target value per observation\n",
    "                                         n_targets = 1,\n",
    "                                         # 0.5 standard deviation of the guassian noise\n",
    "                                         noise = 0.5,\n",
    "                                         # show the true coefficient used to generated the data\n",
    "                                         coef = True)\n",
    "X = features\n",
    "Y = output\n",
    "n_var = p\n",
    "import random"
   ]
  },
  {
   "cell_type": "code",
   "execution_count": 27,
   "metadata": {},
   "outputs": [
    {
     "name": "stdout",
     "output_type": "stream",
     "text": [
      "Iteration finale: 62498\n",
      "MSE par descente du gradient numérique: 0.4999434652943112\n"
     ]
    },
    {
     "data": {
      "image/png": "[encoded data removed]",
      "text/plain": [
       "<Figure size 648x432 with 1 Axes>"
      ]
     },
     "metadata": {
      "needs_background": "light"
     },
     "output_type": "display_data"
    },
    {
     "name": "stdout",
     "output_type": "stream",
     "text": [
      "  \n",
      "--- 10.238268852233887 seconds ---\n"
     ]
    }
   ],
   "source": [
    "# Partie Gradient numérique\n",
    "# Hyperparamètres\n",
    "start_time = time.time()\n",
    "D_ALPHA = 0.01\n",
    "beta_hat = np.zeros(n_var) # parametres initiaux\n",
    "\n",
    "MSE = np.zeros(EPOCHS+1)\n",
    "MSE[0] = (np.sum((Y - sum(np.transpose(X*beta_hat)))**2))/n\n",
    "\n",
    "\n",
    "# Descente du gradient\n",
    "i = 0\n",
    "while MSE[i] > EPS and i < EPOCHS:\n",
    "    i += 1\n",
    "    # prédiction de Y\n",
    "    liste = random.sample(list(np.arange(0, n_var)),R)\n",
    "    Y_pred = sum(np.transpose(X*beta_hat))\n",
    "\n",
    "    for j in liste:\n",
    "        mse1 = (np.sum((Y - Y_pred)**2))/n\n",
    "        beta_hat_temp = beta_hat.copy()\n",
    "        beta_hat_temp[j] += D_ALPHA\n",
    "        Y_pred_temp = sum(np.transpose(X*beta_hat_temp))\n",
    "        mse2 = (np.sum((Y - Y_pred_temp)**2))/n\n",
    "\n",
    "\n",
    "        beta_hat[j] = beta_hat[j] - ALPHA * (mse2-mse1)/D_ALPHA\n",
    "\n",
    "    MSE[i] = (np.sum((Y - Y_pred)**2))/n\n",
    "\n",
    "print(\"Iteration finale:\",i)\n",
    "print(\"MSE par descente du gradient numérique:\",MSE[i])\n",
    "\n",
    "# Configuration du plot\n",
    "x_axis = np.arange(0, i)\n",
    "plt.figure(figsize=(9,6))\n",
    "plt.plot(x_axis,MSE[0:i])\n",
    "plt.title(\"MSE en fonction du nombre d'itération (gradient numérique)\")\n",
    "plt.xlabel(\"Nombre d'itération\")\n",
    "plt.ylabel(\"MSE\")\n",
    "plt.show()\n",
    "print(\"  \")\n",
    "print(\"--- %s seconds ---\" % (time.time() - start_time))"
   ]
  },
  {
   "cell_type": "markdown",
   "metadata": {},
   "source": [
    "---------------------------------------"
   ]
  },
  {
   "cell_type": "markdown",
   "metadata": {},
   "source": [
    "## Some random thoughts we found relevant on this problem : data insights, ideas, other types of calculus "
   ]
  },
  {
   "cell_type": "code",
   "execution_count": 28,
   "metadata": {},
   "outputs": [
    {
     "name": "stdout",
     "output_type": "stream",
     "text": [
      "   X0    X1    X2     Y\n",
      "0   1  0.72  0.32  6.93\n",
      "1   1  0.75  0.12  5.99\n",
      "2   1  0.53  0.65  1.46\n",
      "3   1  0.27  0.82  1.44\n",
      "4   1  0.49  0.15  4.51\n",
      "5   1  0.02  0.19  1.25\n",
      "6   1  0.35  0.87  2.53\n",
      "7   1  0.99  0.71  6.88\n",
      "8   1  0.98  0.92  6.25\n",
      "9   1  0.73  0.19  6.36\n"
     ]
    }
   ],
   "source": [
    "import pandas as pd\n",
    "\n",
    "df = pd.read_excel (r'data_regression.xlsx')\n",
    "print (df)"
   ]
  },
  {
   "cell_type": "code",
   "execution_count": 29,
   "metadata": {},
   "outputs": [
    {
     "data": {
      "image/png": "[encoded data removed]",
      "text/plain": [
       "<Figure size 432x288 with 1 Axes>"
      ]
     },
     "metadata": {
      "needs_background": "light"
     },
     "output_type": "display_data"
    }
   ],
   "source": [
    "%matplotlib inline  \n",
    "\n",
    "boxplot = df.boxplot(column=['X0', 'X1','X2'])"
   ]
  },
  {
   "cell_type": "code",
   "execution_count": 30,
   "metadata": {},
   "outputs": [
    {
     "data": {
      "text/plain": [
       "<matplotlib.axes._subplots.AxesSubplot at 0x12f4b00f0>"
      ]
     },
     "execution_count": 30,
     "metadata": {},
     "output_type": "execute_result"
    },
    {
     "data": {
      "image/png": "[encoded data removed]",
      "text/plain": [
       "<Figure size 432x288 with 1 Axes>"
      ]
     },
     "metadata": {
      "needs_background": "light"
     },
     "output_type": "display_data"
    }
   ],
   "source": [
    "df.X0.plot.hist(bins=15)"
   ]
  },
  {
   "cell_type": "code",
   "execution_count": 31,
   "metadata": {},
   "outputs": [
    {
     "data": {
      "text/plain": [
       "<matplotlib.axes._subplots.AxesSubplot at 0x1295956d8>"
      ]
     },
     "execution_count": 31,
     "metadata": {},
     "output_type": "execute_result"
    },
    {
     "data": {
      "image/png": "[encoded data removed]",
      "text/plain": [
       "<Figure size 432x288 with 1 Axes>"
      ]
     },
     "metadata": {
      "needs_background": "light"
     },
     "output_type": "display_data"
    }
   ],
   "source": [
    "df.X1.plot.hist(bins=15)"
   ]
  },
  {
   "cell_type": "code",
   "execution_count": 32,
   "metadata": {},
   "outputs": [
    {
     "data": {
      "text/plain": [
       "<matplotlib.axes._subplots.AxesSubplot at 0x131de0cf8>"
      ]
     },
     "execution_count": 32,
     "metadata": {},
     "output_type": "execute_result"
    },
    {
     "data": {
      "image/png": "[encoded data removed]",
      "text/plain": [
       "<Figure size 432x288 with 1 Axes>"
      ]
     },
     "metadata": {
      "needs_background": "light"
     },
     "output_type": "display_data"
    }
   ],
   "source": [
    "df.X2.plot.hist(bins=15)"
   ]
  },
  {
   "cell_type": "markdown",
   "metadata": {},
   "source": [
    "#### According to the dataset using a scaler is useless"
   ]
  },
  {
   "cell_type": "code",
   "execution_count": 33,
   "metadata": {},
   "outputs": [
    {
     "name": "stdout",
     "output_type": "stream",
     "text": [
      "<class 'pandas.core.frame.DataFrame'>\n",
      "RangeIndex: 10 entries, 0 to 9\n",
      "Data columns (total 4 columns):\n",
      "X0    10 non-null int64\n",
      "X1    10 non-null float64\n",
      "X2    10 non-null float64\n",
      "Y     10 non-null float64\n",
      "dtypes: float64(3), int64(1)\n",
      "memory usage: 400.0 bytes\n"
     ]
    }
   ],
   "source": [
    "df.info()"
   ]
  },
  {
   "cell_type": "code",
   "execution_count": 34,
   "metadata": {},
   "outputs": [
    {
     "data": {
      "text/html": [
       "<div>\n",
       "<style scoped>\n",
       "    .dataframe tbody tr th:only-of-type {\n",
       "        vertical-align: middle;\n",
       "    }\n",
       "\n",
       "    .dataframe tbody tr th {\n",
       "        vertical-align: top;\n",
       "    }\n",
       "\n",
       "    .dataframe thead th {\n",
       "        text-align: right;\n",
       "    }\n",
       "</style>\n",
       "<table border=\"1\" class=\"dataframe\">\n",
       "  <thead>\n",
       "    <tr style=\"text-align: right;\">\n",
       "      <th></th>\n",
       "      <th>X0</th>\n",
       "      <th>X1</th>\n",
       "      <th>X2</th>\n",
       "      <th>Y</th>\n",
       "    </tr>\n",
       "  </thead>\n",
       "  <tbody>\n",
       "    <tr>\n",
       "      <th>count</th>\n",
       "      <td>10.0</td>\n",
       "      <td>10.000000</td>\n",
       "      <td>10.000000</td>\n",
       "      <td>10.000000</td>\n",
       "    </tr>\n",
       "    <tr>\n",
       "      <th>mean</th>\n",
       "      <td>1.0</td>\n",
       "      <td>0.583000</td>\n",
       "      <td>0.494000</td>\n",
       "      <td>4.360000</td>\n",
       "    </tr>\n",
       "    <tr>\n",
       "      <th>std</th>\n",
       "      <td>0.0</td>\n",
       "      <td>0.311307</td>\n",
       "      <td>0.328877</td>\n",
       "      <td>2.430459</td>\n",
       "    </tr>\n",
       "    <tr>\n",
       "      <th>min</th>\n",
       "      <td>1.0</td>\n",
       "      <td>0.020000</td>\n",
       "      <td>0.120000</td>\n",
       "      <td>1.250000</td>\n",
       "    </tr>\n",
       "    <tr>\n",
       "      <th>25%</th>\n",
       "      <td>1.0</td>\n",
       "      <td>0.385000</td>\n",
       "      <td>0.190000</td>\n",
       "      <td>1.727500</td>\n",
       "    </tr>\n",
       "    <tr>\n",
       "      <th>50%</th>\n",
       "      <td>1.0</td>\n",
       "      <td>0.625000</td>\n",
       "      <td>0.485000</td>\n",
       "      <td>5.250000</td>\n",
       "    </tr>\n",
       "    <tr>\n",
       "      <th>75%</th>\n",
       "      <td>1.0</td>\n",
       "      <td>0.745000</td>\n",
       "      <td>0.792500</td>\n",
       "      <td>6.332500</td>\n",
       "    </tr>\n",
       "    <tr>\n",
       "      <th>max</th>\n",
       "      <td>1.0</td>\n",
       "      <td>0.990000</td>\n",
       "      <td>0.920000</td>\n",
       "      <td>6.930000</td>\n",
       "    </tr>\n",
       "  </tbody>\n",
       "</table>\n",
       "</div>"
      ],
      "text/plain": [
       "         X0         X1         X2          Y\n",
       "count  10.0  10.000000  10.000000  10.000000\n",
       "mean    1.0   0.583000   0.494000   4.360000\n",
       "std     0.0   0.311307   0.328877   2.430459\n",
       "min     1.0   0.020000   0.120000   1.250000\n",
       "25%     1.0   0.385000   0.190000   1.727500\n",
       "50%     1.0   0.625000   0.485000   5.250000\n",
       "75%     1.0   0.745000   0.792500   6.332500\n",
       "max     1.0   0.990000   0.920000   6.930000"
      ]
     },
     "execution_count": 34,
     "metadata": {},
     "output_type": "execute_result"
    }
   ],
   "source": [
    "df.describe()"
   ]
  },
  {
   "cell_type": "code",
   "execution_count": 35,
   "metadata": {},
   "outputs": [
    {
     "data": {
      "text/plain": [
       "(10, 4)"
      ]
     },
     "execution_count": 35,
     "metadata": {},
     "output_type": "execute_result"
    }
   ],
   "source": [
    "df.shape"
   ]
  },
  {
   "cell_type": "code",
   "execution_count": 36,
   "metadata": {},
   "outputs": [
    {
     "data": {
      "text/html": [
       "<div>\n",
       "<style scoped>\n",
       "    .dataframe tbody tr th:only-of-type {\n",
       "        vertical-align: middle;\n",
       "    }\n",
       "\n",
       "    .dataframe tbody tr th {\n",
       "        vertical-align: top;\n",
       "    }\n",
       "\n",
       "    .dataframe thead th {\n",
       "        text-align: right;\n",
       "    }\n",
       "</style>\n",
       "<table border=\"1\" class=\"dataframe\">\n",
       "  <thead>\n",
       "    <tr style=\"text-align: right;\">\n",
       "      <th></th>\n",
       "      <th>X0</th>\n",
       "      <th>X1</th>\n",
       "      <th>X2</th>\n",
       "      <th>Y</th>\n",
       "    </tr>\n",
       "  </thead>\n",
       "  <tbody>\n",
       "    <tr>\n",
       "      <th>0</th>\n",
       "      <td>1</td>\n",
       "      <td>0.72</td>\n",
       "      <td>0.32</td>\n",
       "      <td>6.93</td>\n",
       "    </tr>\n",
       "    <tr>\n",
       "      <th>1</th>\n",
       "      <td>1</td>\n",
       "      <td>0.75</td>\n",
       "      <td>0.12</td>\n",
       "      <td>5.99</td>\n",
       "    </tr>\n",
       "    <tr>\n",
       "      <th>2</th>\n",
       "      <td>1</td>\n",
       "      <td>0.53</td>\n",
       "      <td>0.65</td>\n",
       "      <td>1.46</td>\n",
       "    </tr>\n",
       "    <tr>\n",
       "      <th>3</th>\n",
       "      <td>1</td>\n",
       "      <td>0.27</td>\n",
       "      <td>0.82</td>\n",
       "      <td>1.44</td>\n",
       "    </tr>\n",
       "    <tr>\n",
       "      <th>4</th>\n",
       "      <td>1</td>\n",
       "      <td>0.49</td>\n",
       "      <td>0.15</td>\n",
       "      <td>4.51</td>\n",
       "    </tr>\n",
       "  </tbody>\n",
       "</table>\n",
       "</div>"
      ],
      "text/plain": [
       "   X0    X1    X2     Y\n",
       "0   1  0.72  0.32  6.93\n",
       "1   1  0.75  0.12  5.99\n",
       "2   1  0.53  0.65  1.46\n",
       "3   1  0.27  0.82  1.44\n",
       "4   1  0.49  0.15  4.51"
      ]
     },
     "execution_count": 36,
     "metadata": {},
     "output_type": "execute_result"
    }
   ],
   "source": [
    "df.head()"
   ]
  },
  {
   "cell_type": "code",
   "execution_count": 37,
   "metadata": {},
   "outputs": [],
   "source": [
    "import numpy as np\n",
    "import matplotlib.pyplot as plt\n",
    "import seaborn as sns\n",
    "%matplotlib inline"
   ]
  },
  {
   "cell_type": "markdown",
   "metadata": {},
   "source": [
    "### Looking at the data"
   ]
  },
  {
   "cell_type": "code",
   "execution_count": 38,
   "metadata": {},
   "outputs": [
    {
     "data": {
      "image/png": "[encoded data removed]",
      "text/plain": [
       "<Figure size 504x360 with 1 Axes>"
      ]
     },
     "metadata": {
      "needs_background": "light"
     },
     "output_type": "display_data"
    }
   ],
   "source": [
    "fig = plt.figure(figsize=(7, 5))\n",
    "fig.suptitle('Y output for X1 input', fontsize=16)\n",
    "plt.scatter(df['X1'], df['Y'])\n",
    "plt.xlabel('X1', fontsize=14)\n",
    "plt.ylabel('Y', fontsize=14)\n",
    "plt.show()"
   ]
  },
  {
   "cell_type": "code",
   "execution_count": 39,
   "metadata": {},
   "outputs": [
    {
     "data": {
      "text/html": [
       "<div>\n",
       "<style scoped>\n",
       "    .dataframe tbody tr th:only-of-type {\n",
       "        vertical-align: middle;\n",
       "    }\n",
       "\n",
       "    .dataframe tbody tr th {\n",
       "        vertical-align: top;\n",
       "    }\n",
       "\n",
       "    .dataframe thead th {\n",
       "        text-align: right;\n",
       "    }\n",
       "</style>\n",
       "<table border=\"1\" class=\"dataframe\">\n",
       "  <thead>\n",
       "    <tr style=\"text-align: right;\">\n",
       "      <th></th>\n",
       "      <th>X0</th>\n",
       "      <th>X1</th>\n",
       "      <th>X2</th>\n",
       "      <th>Y</th>\n",
       "    </tr>\n",
       "  </thead>\n",
       "  <tbody>\n",
       "    <tr>\n",
       "      <th>X0</th>\n",
       "      <td>NaN</td>\n",
       "      <td>NaN</td>\n",
       "      <td>NaN</td>\n",
       "      <td>NaN</td>\n",
       "    </tr>\n",
       "    <tr>\n",
       "      <th>X1</th>\n",
       "      <td>NaN</td>\n",
       "      <td>1.000000</td>\n",
       "      <td>0.142473</td>\n",
       "      <td>0.870142</td>\n",
       "    </tr>\n",
       "    <tr>\n",
       "      <th>X2</th>\n",
       "      <td>NaN</td>\n",
       "      <td>0.142473</td>\n",
       "      <td>1.000000</td>\n",
       "      <td>-0.210442</td>\n",
       "    </tr>\n",
       "    <tr>\n",
       "      <th>Y</th>\n",
       "      <td>NaN</td>\n",
       "      <td>0.870142</td>\n",
       "      <td>-0.210442</td>\n",
       "      <td>1.000000</td>\n",
       "    </tr>\n",
       "  </tbody>\n",
       "</table>\n",
       "</div>"
      ],
      "text/plain": [
       "    X0        X1        X2         Y\n",
       "X0 NaN       NaN       NaN       NaN\n",
       "X1 NaN  1.000000  0.142473  0.870142\n",
       "X2 NaN  0.142473  1.000000 -0.210442\n",
       "Y  NaN  0.870142 -0.210442  1.000000"
      ]
     },
     "execution_count": 39,
     "metadata": {},
     "output_type": "execute_result"
    }
   ],
   "source": [
    "df.corr()"
   ]
  },
  {
   "cell_type": "code",
   "execution_count": 40,
   "metadata": {},
   "outputs": [
    {
     "name": "stderr",
     "output_type": "stream",
     "text": [
      "/Users/pel_btc_coding/.local/lib/python3.7/site-packages/matplotlib/colors.py:527: RuntimeWarning: invalid value encountered in less\n",
      "  xa[xa < 0] = -1\n"
     ]
    },
    {
     "data": {
      "text/html": [
       "<style  type=\"text/css\" >\n",
       "    #T_ad9eef20_a521_11ea_8205_acde48001122row0_col0 {\n",
       "            background-color:  #3b4cc0;\n",
       "            color:  #f1f1f1;\n",
       "        }    #T_ad9eef20_a521_11ea_8205_acde48001122row0_col1 {\n",
       "            background-color:  #3b4cc0;\n",
       "            color:  #f1f1f1;\n",
       "        }    #T_ad9eef20_a521_11ea_8205_acde48001122row0_col2 {\n",
       "            background-color:  #3b4cc0;\n",
       "            color:  #f1f1f1;\n",
       "        }    #T_ad9eef20_a521_11ea_8205_acde48001122row0_col3 {\n",
       "            background-color:  #3b4cc0;\n",
       "            color:  #f1f1f1;\n",
       "        }    #T_ad9eef20_a521_11ea_8205_acde48001122row1_col0 {\n",
       "            background-color:  #3b4cc0;\n",
       "            color:  #f1f1f1;\n",
       "        }    #T_ad9eef20_a521_11ea_8205_acde48001122row1_col1 {\n",
       "            background-color:  #3b4cc0;\n",
       "            color:  #f1f1f1;\n",
       "        }    #T_ad9eef20_a521_11ea_8205_acde48001122row1_col2 {\n",
       "            background-color:  #3b4cc0;\n",
       "            color:  #f1f1f1;\n",
       "        }    #T_ad9eef20_a521_11ea_8205_acde48001122row1_col3 {\n",
       "            background-color:  #3b4cc0;\n",
       "            color:  #f1f1f1;\n",
       "        }    #T_ad9eef20_a521_11ea_8205_acde48001122row2_col0 {\n",
       "            background-color:  #3b4cc0;\n",
       "            color:  #f1f1f1;\n",
       "        }    #T_ad9eef20_a521_11ea_8205_acde48001122row2_col1 {\n",
       "            background-color:  #3b4cc0;\n",
       "            color:  #f1f1f1;\n",
       "        }    #T_ad9eef20_a521_11ea_8205_acde48001122row2_col2 {\n",
       "            background-color:  #3b4cc0;\n",
       "            color:  #f1f1f1;\n",
       "        }    #T_ad9eef20_a521_11ea_8205_acde48001122row2_col3 {\n",
       "            background-color:  #3b4cc0;\n",
       "            color:  #f1f1f1;\n",
       "        }    #T_ad9eef20_a521_11ea_8205_acde48001122row3_col0 {\n",
       "            background-color:  #3b4cc0;\n",
       "            color:  #f1f1f1;\n",
       "        }    #T_ad9eef20_a521_11ea_8205_acde48001122row3_col1 {\n",
       "            background-color:  #3b4cc0;\n",
       "            color:  #f1f1f1;\n",
       "        }    #T_ad9eef20_a521_11ea_8205_acde48001122row3_col2 {\n",
       "            background-color:  #3b4cc0;\n",
       "            color:  #f1f1f1;\n",
       "        }    #T_ad9eef20_a521_11ea_8205_acde48001122row3_col3 {\n",
       "            background-color:  #3b4cc0;\n",
       "            color:  #f1f1f1;\n",
       "        }</style><table id=\"T_ad9eef20_a521_11ea_8205_acde48001122\" ><thead>    <tr>        <th class=\"blank level0\" ></th>        <th class=\"col_heading level0 col0\" >X0</th>        <th class=\"col_heading level0 col1\" >X1</th>        <th class=\"col_heading level0 col2\" >X2</th>        <th class=\"col_heading level0 col3\" >Y</th>    </tr></thead><tbody>\n",
       "                <tr>\n",
       "                        <th id=\"T_ad9eef20_a521_11ea_8205_acde48001122level0_row0\" class=\"row_heading level0 row0\" >X0</th>\n",
       "                        <td id=\"T_ad9eef20_a521_11ea_8205_acde48001122row0_col0\" class=\"data row0 col0\" >nan</td>\n",
       "                        <td id=\"T_ad9eef20_a521_11ea_8205_acde48001122row0_col1\" class=\"data row0 col1\" >nan</td>\n",
       "                        <td id=\"T_ad9eef20_a521_11ea_8205_acde48001122row0_col2\" class=\"data row0 col2\" >nan</td>\n",
       "                        <td id=\"T_ad9eef20_a521_11ea_8205_acde48001122row0_col3\" class=\"data row0 col3\" >nan</td>\n",
       "            </tr>\n",
       "            <tr>\n",
       "                        <th id=\"T_ad9eef20_a521_11ea_8205_acde48001122level0_row1\" class=\"row_heading level0 row1\" >X1</th>\n",
       "                        <td id=\"T_ad9eef20_a521_11ea_8205_acde48001122row1_col0\" class=\"data row1 col0\" >nan</td>\n",
       "                        <td id=\"T_ad9eef20_a521_11ea_8205_acde48001122row1_col1\" class=\"data row1 col1\" >1</td>\n",
       "                        <td id=\"T_ad9eef20_a521_11ea_8205_acde48001122row1_col2\" class=\"data row1 col2\" >0.142473</td>\n",
       "                        <td id=\"T_ad9eef20_a521_11ea_8205_acde48001122row1_col3\" class=\"data row1 col3\" >0.870142</td>\n",
       "            </tr>\n",
       "            <tr>\n",
       "                        <th id=\"T_ad9eef20_a521_11ea_8205_acde48001122level0_row2\" class=\"row_heading level0 row2\" >X2</th>\n",
       "                        <td id=\"T_ad9eef20_a521_11ea_8205_acde48001122row2_col0\" class=\"data row2 col0\" >nan</td>\n",
       "                        <td id=\"T_ad9eef20_a521_11ea_8205_acde48001122row2_col1\" class=\"data row2 col1\" >0.142473</td>\n",
       "                        <td id=\"T_ad9eef20_a521_11ea_8205_acde48001122row2_col2\" class=\"data row2 col2\" >1</td>\n",
       "                        <td id=\"T_ad9eef20_a521_11ea_8205_acde48001122row2_col3\" class=\"data row2 col3\" >-0.210442</td>\n",
       "            </tr>\n",
       "            <tr>\n",
       "                        <th id=\"T_ad9eef20_a521_11ea_8205_acde48001122level0_row3\" class=\"row_heading level0 row3\" >Y</th>\n",
       "                        <td id=\"T_ad9eef20_a521_11ea_8205_acde48001122row3_col0\" class=\"data row3 col0\" >nan</td>\n",
       "                        <td id=\"T_ad9eef20_a521_11ea_8205_acde48001122row3_col1\" class=\"data row3 col1\" >0.870142</td>\n",
       "                        <td id=\"T_ad9eef20_a521_11ea_8205_acde48001122row3_col2\" class=\"data row3 col2\" >-0.210442</td>\n",
       "                        <td id=\"T_ad9eef20_a521_11ea_8205_acde48001122row3_col3\" class=\"data row3 col3\" >1</td>\n",
       "            </tr>\n",
       "    </tbody></table>"
      ],
      "text/plain": [
       "<pandas.io.formats.style.Styler at 0x127ca0c88>"
      ]
     },
     "execution_count": 40,
     "metadata": {},
     "output_type": "execute_result"
    }
   ],
   "source": [
    "# Correlation matrix\n",
    "corr = df.corr()\n",
    "\n",
    "# color it\n",
    "corr.style.background_gradient(cmap='coolwarm')"
   ]
  },
  {
   "cell_type": "markdown",
   "metadata": {},
   "source": [
    "### X1 , X2 , X3 have a really low correlation "
   ]
  },
  {
   "cell_type": "markdown",
   "metadata": {},
   "source": [
    "### We can see that a Lasso would only consider X1 "
   ]
  },
  {
   "cell_type": "markdown",
   "metadata": {},
   "source": [
    "## Data vizualisation "
   ]
  },
  {
   "cell_type": "code",
   "execution_count": 41,
   "metadata": {},
   "outputs": [
    {
     "name": "stderr",
     "output_type": "stream",
     "text": [
      "/Users/pel_btc_coding/.local/lib/python3.7/site-packages/seaborn/distributions.py:288: UserWarning: Data must have variance to compute a kernel density estimate.\n",
      "  warnings.warn(msg, UserWarning)\n"
     ]
    },
    {
     "data": {
      "text/plain": [
       "<seaborn.axisgrid.JointGrid at 0x127ca03c8>"
      ]
     },
     "execution_count": 41,
     "metadata": {},
     "output_type": "execute_result"
    },
    {
     "data": {
      "image/png": "[encoded data removed]",
      "text/plain": [
       "<Figure size 432x432 with 3 Axes>"
      ]
     },
     "metadata": {
      "needs_background": "light"
     },
     "output_type": "display_data"
    }
   ],
   "source": [
    "sns.jointplot(x=df['X0'], y=df['Y'], data=df, kind='reg')"
   ]
  },
  {
   "cell_type": "code",
   "execution_count": 42,
   "metadata": {},
   "outputs": [
    {
     "data": {
      "text/plain": [
       "<seaborn.axisgrid.JointGrid at 0x127fa2748>"
      ]
     },
     "execution_count": 42,
     "metadata": {},
     "output_type": "execute_result"
    },
    {
     "data": {
      "image/png": "[encoded data removed]",
      "text/plain": [
       "<Figure size 432x432 with 3 Axes>"
      ]
     },
     "metadata": {
      "needs_background": "light"
     },
     "output_type": "display_data"
    }
   ],
   "source": [
    "sns.jointplot(x=df['X1'], y=df['Y'], data=df, kind='reg')"
   ]
  },
  {
   "cell_type": "code",
   "execution_count": 43,
   "metadata": {},
   "outputs": [
    {
     "data": {
      "text/plain": [
       "<seaborn.axisgrid.JointGrid at 0x127f72b00>"
      ]
     },
     "execution_count": 43,
     "metadata": {},
     "output_type": "execute_result"
    },
    {
     "data": {
      "image/png": "[encoded data removed]",
      "text/plain": [
       "<Figure size 432x432 with 3 Axes>"
      ]
     },
     "metadata": {
      "needs_background": "light"
     },
     "output_type": "display_data"
    }
   ],
   "source": [
    "sns.jointplot(x=df['X2'], y=df['Y'], data=df, kind='reg')"
   ]
  },
  {
   "cell_type": "code",
   "execution_count": 44,
   "metadata": {},
   "outputs": [
    {
     "data": {
      "text/plain": [
       "<matplotlib.axes._subplots.AxesSubplot at 0x12846e630>"
      ]
     },
     "execution_count": 44,
     "metadata": {},
     "output_type": "execute_result"
    },
    {
     "data": {
      "image/png": "[encoded data removed]",
      "text/plain": [
       "<Figure size 432x288 with 1 Axes>"
      ]
     },
     "metadata": {
      "needs_background": "light"
     },
     "output_type": "display_data"
    }
   ],
   "source": [
    "import seaborn as sns\n",
    "\n",
    "sns.scatterplot('X1','X2', data=df)"
   ]
  },
  {
   "cell_type": "code",
   "execution_count": 45,
   "metadata": {},
   "outputs": [
    {
     "data": {
      "text/plain": [
       "<seaborn.axisgrid.PairGrid at 0x127f72e10>"
      ]
     },
     "execution_count": 45,
     "metadata": {},
     "output_type": "execute_result"
    },
    {
     "data": {
      "image/png": "[encoded data removed]",
      "text/plain": [
       "<Figure size 720x720 with 20 Axes>"
      ]
     },
     "metadata": {
      "needs_background": "light"
     },
     "output_type": "display_data"
    }
   ],
   "source": [
    "# Pair plots\n",
    "sns.pairplot(data=df)"
   ]
  },
  {
   "cell_type": "markdown",
   "metadata": {},
   "source": [
    "### tough to find a pattern cause I don't have enough data, but still can find some symetries"
   ]
  },
  {
   "cell_type": "markdown",
   "metadata": {},
   "source": [
    "## Multi linear regression "
   ]
  },
  {
   "cell_type": "markdown",
   "metadata": {},
   "source": [
    "Our regression equation, then, instead of looking like $\\hat{y} = mx + b$, will now look like:"
   ]
  },
  {
   "cell_type": "markdown",
   "metadata": {},
   "source": [
    "$$ \\hat y = \\hat\\beta_0 + \\hat\\beta_1 x_1 + \\hat\\beta_2 x_2 +\\ldots + \\hat\\beta_n x_n $$"
   ]
  },
  {
   "cell_type": "markdown",
   "metadata": {},
   "source": [
    "## Splitting Data into Training and Testing Sets"
   ]
  },
  {
   "cell_type": "code",
   "execution_count": 46,
   "metadata": {},
   "outputs": [
    {
     "data": {
      "text/plain": [
       "Index(['X0', 'X1', 'X2', 'Y'], dtype='object')"
      ]
     },
     "execution_count": 46,
     "metadata": {},
     "output_type": "execute_result"
    }
   ],
   "source": [
    "df.columns"
   ]
  },
  {
   "cell_type": "code",
   "execution_count": 47,
   "metadata": {},
   "outputs": [],
   "source": [
    "# Putting feature variable to X\n",
    "\n",
    "X = df[['X0', 'X1', 'X2']]"
   ]
  },
  {
   "cell_type": "code",
   "execution_count": 48,
   "metadata": {},
   "outputs": [],
   "source": [
    "# Putting response variable to y\n",
    "\n",
    "y = df['Y']"
   ]
  },
  {
   "cell_type": "code",
   "execution_count": 49,
   "metadata": {},
   "outputs": [],
   "source": [
    "#random_state is the seed used by the random number generator, it can be any integer.\n",
    "from sklearn.model_selection import train_test_split\n",
    "\n",
    "X_train, X_test, y_train, y_test = train_test_split(X, y, train_size=0.8 ,test_size = 0.2, random_state=100)"
   ]
  },
  {
   "cell_type": "code",
   "execution_count": 50,
   "metadata": {},
   "outputs": [
    {
     "name": "stderr",
     "output_type": "stream",
     "text": [
      "/Users/pel_btc_coding/.local/lib/python3.7/site-packages/numpy/core/fromnumeric.py:2542: FutureWarning: Method .ptp is deprecated and will be removed in a future version. Use numpy.ptp instead.\n",
      "  return ptp(axis=axis, out=out, **kwargs)\n"
     ]
    }
   ],
   "source": [
    "import statsmodels.api as sm          # Importing statsmodels\n",
    "X_train = sm.add_constant(X_train)    # Adding a constant column to our dataframe\n",
    "# create a first fitted model\n",
    "fitting = sm.OLS(y_train,X_train).fit()"
   ]
  },
  {
   "cell_type": "code",
   "execution_count": 51,
   "metadata": {},
   "outputs": [
    {
     "name": "stdout",
     "output_type": "stream",
     "text": [
      "                            OLS Regression Results                            \n",
      "==============================================================================\n",
      "Dep. Variable:                      Y   R-squared:                       0.866\n",
      "Model:                            OLS   Adj. R-squared:                  0.812\n",
      "Method:                 Least Squares   F-statistic:                     16.11\n",
      "Date:                Wed, 03 Jun 2020   Prob (F-statistic):            0.00661\n",
      "Time:                        00:37:51   Log-Likelihood:                -10.086\n",
      "No. Observations:                   8   AIC:                             26.17\n",
      "Df Residuals:                       5   BIC:                             26.41\n",
      "Df Model:                           2                                         \n",
      "Covariance Type:            nonrobust                                         \n",
      "==============================================================================\n",
      "                 coef    std err          t      P>|t|      [0.025      0.975]\n",
      "------------------------------------------------------------------------------\n",
      "X0             1.4007      0.936      1.497      0.195      -1.005       3.806\n",
      "X1             7.4396      1.361      5.467      0.003       3.942      10.938\n",
      "X2            -3.1012      1.273     -2.437      0.059      -6.372       0.170\n",
      "==============================================================================\n",
      "Omnibus:                        4.619   Durbin-Watson:                   2.406\n",
      "Prob(Omnibus):                  0.099   Jarque-Bera (JB):                1.332\n",
      "Skew:                          -0.982   Prob(JB):                        0.514\n",
      "Kurtosis:                       3.368   Cond. No.                         5.01\n",
      "==============================================================================\n",
      "\n",
      "Warnings:\n",
      "[1] Standard Errors assume that the covariance matrix of the errors is correctly specified.\n"
     ]
    },
    {
     "name": "stderr",
     "output_type": "stream",
     "text": [
      "/Users/pel_btc_coding/.local/lib/python3.7/site-packages/scipy/stats/stats.py:1416: UserWarning: kurtosistest only valid for n>=20 ... continuing anyway, n=8\n",
      "  \"anyway, n=%i\" % int(n))\n"
     ]
    }
   ],
   "source": [
    "#Let's see the summary of our first linear model\n",
    "print(fitting.summary())"
   ]
  },
  {
   "cell_type": "markdown",
   "metadata": {},
   "source": [
    "### Result are satisfying knowing the dataset and the correlation between variable "
   ]
  },
  {
   "cell_type": "code",
   "execution_count": 52,
   "metadata": {},
   "outputs": [
    {
     "data": {
      "text/plain": [
       "array([78.27170682])"
      ]
     },
     "execution_count": 52,
     "metadata": {},
     "output_type": "execute_result"
    }
   ],
   "source": [
    "# Prediction for fun\n",
    "fitting.predict([[1,12,4]])"
   ]
  },
  {
   "cell_type": "markdown",
   "metadata": {},
   "source": [
    "### We can not do MSE cause the data set is too samll (doesn't make a lot of sens)"
   ]
  },
  {
   "cell_type": "markdown",
   "metadata": {},
   "source": [
    "## More classic linear regression "
   ]
  },
  {
   "cell_type": "code",
   "execution_count": 53,
   "metadata": {},
   "outputs": [
    {
     "data": {
      "text/plain": [
       "LinearRegression(copy_X=True, fit_intercept=True, n_jobs=None, normalize=False)"
      ]
     },
     "execution_count": 53,
     "metadata": {},
     "output_type": "execute_result"
    }
   ],
   "source": [
    "from sklearn.linear_model import LinearRegression\n",
    "\n",
    "# Instanciate Linear model\n",
    "model = LinearRegression()\n",
    "\n",
    "# Train Linear Model\n",
    "model.fit(df[['X0', \"X1\", \"X2\"]], df['Y'])"
   ]
  },
  {
   "cell_type": "code",
   "execution_count": 54,
   "metadata": {},
   "outputs": [
    {
     "name": "stdout",
     "output_type": "stream",
     "text": [
      "[ 0.          7.17311794 -2.52258683]\n",
      "1.4242301343712214\n"
     ]
    }
   ],
   "source": [
    "# Access the model's inner parameters slope(coef_) and intercept(intercept_)\n",
    "slope_a, intercept_b = model.coef_, model.intercept_ \n",
    "\n",
    "print(slope_a)\n",
    "print(intercept_b)"
   ]
  },
  {
   "cell_type": "markdown",
   "metadata": {},
   "source": [
    "## linear combination of initial dataset columns\n",
    "\n",
    "## 𝑌 = 𝛽 + 𝛽0𝑋0 + 𝛽1𝑋1 + 𝛽2𝑋2 , with the model above we can get all 𝛽i "
   ]
  },
  {
   "cell_type": "markdown",
   "metadata": {},
   "source": [
    "- 𝛽 = 1.42\n",
    "- 𝛽0 = 0\n",
    "- 𝛽1 = 7.17\n",
    "- 𝛽2 = -2.25\n",
    "\n",
    "- 𝛽0 is not taking into account, it is like an outilier for the model. Which is coherent when looking at the dataset"
   ]
  },
  {
   "cell_type": "markdown",
   "metadata": {},
   "source": [
    "### Another way to implement the multi linear regression "
   ]
  },
  {
   "cell_type": "code",
   "execution_count": 55,
   "metadata": {},
   "outputs": [
    {
     "data": {
      "text/plain": [
       "0.6501092945146838"
      ]
     },
     "execution_count": 55,
     "metadata": {},
     "output_type": "execute_result"
    }
   ],
   "source": [
    "# Prepare X and y\n",
    "X = df[['X0', \"X1\", \"X2\"]]\n",
    "y = df['Y']\n",
    "\n",
    "# Import train_test_split\n",
    "from sklearn.model_selection import train_test_split\n",
    "\n",
    "# Split into Train/Test\n",
    "X_train, X_test, y_train, y_test = train_test_split(X, y, test_size=0.3)\n",
    "\n",
    "# Import the model\n",
    "from sklearn.linear_model import LinearRegression\n",
    "\n",
    "# Instanciate the model\n",
    "model = LinearRegression()\n",
    "\n",
    "# Train the model on the Training data\n",
    "model.fit(X_train, y_train)\n",
    "\n",
    "# Score the model on the Testing data\n",
    "model.score(X_test,y_test)"
   ]
  },
  {
   "cell_type": "markdown",
   "metadata": {},
   "source": [
    "### Visualization for X1 (cause it is the more relevant input)"
   ]
  },
  {
   "cell_type": "code",
   "execution_count": 56,
   "metadata": {},
   "outputs": [
    {
     "data": {
      "image/png": "[encoded data removed]",
      "text/plain": [
       "<Figure size 432x288 with 1 Axes>"
      ]
     },
     "metadata": {
      "needs_background": "light"
     },
     "output_type": "display_data"
    }
   ],
   "source": [
    "# Access the model attributes w(coef_) and b(intercept_)\n",
    "w, b = model.coef_, model.intercept_ \n",
    "\n",
    "# Defining the line of best fit equation\n",
    "best_fit = w * X + b\n",
    "\n",
    "# Plot!\n",
    "import matplotlib.pyplot as plt\n",
    "plt.scatter(X.X1, y, alpha=0.9)\n",
    "plt.plot(X, best_fit, c=\"red\")\n",
    "plt.title('Scatter plot + Best Fit')\n",
    "plt.xlabel('X1')\n",
    "plt.ylabel('Y')\n",
    "plt.show()"
   ]
  },
  {
   "cell_type": "markdown",
   "metadata": {},
   "source": [
    "### Testing other types of regressions "
   ]
  },
  {
   "cell_type": "code",
   "execution_count": 57,
   "metadata": {},
   "outputs": [
    {
     "data": {
      "text/html": [
       "<div>\n",
       "<style scoped>\n",
       "    .dataframe tbody tr th:only-of-type {\n",
       "        vertical-align: middle;\n",
       "    }\n",
       "\n",
       "    .dataframe tbody tr th {\n",
       "        vertical-align: top;\n",
       "    }\n",
       "\n",
       "    .dataframe thead th {\n",
       "        text-align: right;\n",
       "    }\n",
       "</style>\n",
       "<table border=\"1\" class=\"dataframe\">\n",
       "  <thead>\n",
       "    <tr style=\"text-align: right;\">\n",
       "      <th></th>\n",
       "      <th>coef_linreg</th>\n",
       "      <th>coef_ridge</th>\n",
       "      <th>coef_lasso</th>\n",
       "    </tr>\n",
       "  </thead>\n",
       "  <tbody>\n",
       "    <tr>\n",
       "      <th>X0</th>\n",
       "      <td>0.000000</td>\n",
       "      <td>0.000000</td>\n",
       "      <td>0.0</td>\n",
       "    </tr>\n",
       "    <tr>\n",
       "      <th>X1</th>\n",
       "      <td>7.173118</td>\n",
       "      <td>0.058760</td>\n",
       "      <td>0.0</td>\n",
       "    </tr>\n",
       "    <tr>\n",
       "      <th>X2</th>\n",
       "      <td>-2.522587</td>\n",
       "      <td>-0.015069</td>\n",
       "      <td>-0.0</td>\n",
       "    </tr>\n",
       "  </tbody>\n",
       "</table>\n",
       "</div>"
      ],
      "text/plain": [
       "    coef_linreg  coef_ridge  coef_lasso\n",
       "X0     0.000000    0.000000         0.0\n",
       "X1     7.173118    0.058760         0.0\n",
       "X2    -2.522587   -0.015069        -0.0"
      ]
     },
     "execution_count": 57,
     "metadata": {},
     "output_type": "execute_result"
    }
   ],
   "source": [
    "from sklearn.linear_model import Ridge, Lasso, LinearRegression\n",
    "linreg = LinearRegression().fit(X, y)\n",
    "ridge = Ridge(alpha=100).fit(X, y)\n",
    "lasso = Lasso(alpha=100).fit(X, y)\n",
    "\n",
    "pd.DataFrame({\n",
    "    \"coef_linreg\": pd.Series(linreg.coef_, index = X.columns),\n",
    "    \"coef_ridge\": pd.Series(ridge.coef_, index = X.columns),\n",
    "    \"coef_lasso\": pd.Series(lasso.coef_, index= X.columns),\n",
    "})"
   ]
  },
  {
   "cell_type": "markdown",
   "metadata": {},
   "source": [
    "### Results are not commun due to the dataset distribution, Lasso, Ridge or Elastic Net can not be used"
   ]
  },
  {
   "cell_type": "code",
   "execution_count": null,
   "metadata": {},
   "outputs": [],
   "source": []
  },
  {
   "cell_type": "code",
   "execution_count": null,
   "metadata": {},
   "outputs": [],
   "source": []
  },
  {
   "cell_type": "markdown",
   "metadata": {},
   "source": [
    "### End of Jupiter "
   ]
  }
 ],
 "metadata": {
  "kernelspec": {
   "display_name": "Python 3",
   "language": "python",
   "name": "python3"
  },
  "language_info": {
   "codemirror_mode": {
    "name": "ipython",
    "version": 3
   },
   "file_extension": ".py",
   "mimetype": "text/x-python",
   "name": "python",
   "nbconvert_exporter": "python",
   "pygments_lexer": "ipython3",
   "version": "3.7.3"
  }
 },
 "nbformat": 4,
 "nbformat_minor": 2
}
