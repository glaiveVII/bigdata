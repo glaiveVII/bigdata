{
 "cells": [
  {
   "cell_type": "markdown",
   "metadata": {},
   "source": [
    "# TP2 Julien Pelegri"
   ]
  },
  {
   "cell_type": "markdown",
   "metadata": {},
   "source": [
    "### Goal : Intersection de .txt file"
   ]
  },
  {
   "cell_type": "markdown",
   "metadata": {},
   "source": [
    "## Plan :\n",
    "- 1/ hash function\n",
    "- 2/ construction de la table de hashage et addressage ouvert (et comptage des colisions)\n",
    "- 3/ comptage des intersections\n",
    "- 4/ Conclusion "
   ]
  },
  {
   "cell_type": "markdown",
   "metadata": {},
   "source": [
    "---------------------------------------------------------------"
   ]
  },
  {
   "cell_type": "markdown",
   "metadata": {},
   "source": [
    "# Bitcoin & cryptocurrency hashing inspiration :"
   ]
  },
  {
   "cell_type": "markdown",
   "metadata": {},
   "source": [
    "Les fonction de hashage sont à la base de la blockchain et de la sécurité dans ce domaine, je voulais faire un petit test avec une fonciton de hashage basique deja dans python pour voir."
   ]
  },
  {
   "cell_type": "markdown",
   "metadata": {},
   "source": [
    "## Utilison SHA-256, la fonction de hashage du BTC (qui utilise du double hashing)"
   ]
  },
  {
   "cell_type": "code",
   "execution_count": 39,
   "metadata": {},
   "outputs": [],
   "source": [
    "import hashlib\n",
    "\n",
    "def get_sha_256_hash(input_value):\n",
    "    return hashlib.sha256(input_value).hexdigest()\n",
    "\n",
    "def bitcoin(file):\n",
    "    words = []\n",
    "    print('reading file and counting it :')\n",
    "    with open( file , \"r\") as f:\n",
    "        for word in f:\n",
    "            words.append(word)\n",
    "    #print('\\n')\n",
    "    #print(words[5:10])\n",
    "    #print('\\n')\n",
    "    #print('Now hashing it :')\n",
    "    #print('\\n')\n",
    "\n",
    "    n = len(words)\n",
    "    hash_btc = []\n",
    "    for i in range(n):\n",
    "        hash_btc.append(get_sha_256_hash(words[i].encode('utf-8')))\n",
    "\n",
    "    #print(hash_btc[5:10])\n",
    "    return(hash_btc)"
   ]
  },
  {
   "cell_type": "code",
   "execution_count": 40,
   "metadata": {},
   "outputs": [
    {
     "name": "stdout",
     "output_type": "stream",
     "text": [
      "reading file and counting it :\n",
      "\n",
      "\n",
      "Now hashing it\n"
     ]
    }
   ],
   "source": [
    "import hashlib\n",
    "\n",
    "\n",
    "def get_sha_256_hash(input_value):\n",
    "    return hashlib.sha256(input_value).hexdigest()\n",
    "\n",
    "def double_btc_hash(a):\n",
    "    first_hash = get_sha_256_hash(a)\n",
    "    second_hash = get_sha_256_hash(first_hash.encode('utf-8'))       \n",
    "    return(second_hash)\n",
    "    \n",
    "#print(\"To see the evolution of the hash by doubling the hash : \")\n",
    "#print('\\n')\n",
    "#print(double_btc_hash(\"hello\".encode('utf-8')))\n",
    "#print(get_sha_256_hash('hello'.encode('utf-8')))\n",
    "#print('\\n')\n",
    "#print(\"On voit deja la taille plus importante du hash\")\n",
    "#print('\\n')\n",
    "\n",
    "def bitcoin_2(file):\n",
    "    words = []\n",
    "    print('reading file and counting it :')\n",
    "    with open( file , \"r\") as f:\n",
    "        for word in f:\n",
    "            words.append(word)\n",
    "    #print(words[10:30])\n",
    "    print('\\n')\n",
    "    print('Now hashing it')\n",
    "    n = len(words)\n",
    "    hash_btc_2 = []\n",
    "    for i in range(n):\n",
    "        hash_btc_2.append(double_btc_hash(words[i].encode('utf-8')))\n",
    "\n",
    "    #print(hash_btc_2[10:30])\n",
    "    return(hash_btc_2)\n",
    "\n",
    "\n",
    "hash_bitcoin_2 = bitcoin_2('word.txt')\n",
    "\n",
    "#print(hash_bitcoin == hash_bitcoin_2)\n"
   ]
  },
  {
   "cell_type": "code",
   "execution_count": 41,
   "metadata": {},
   "outputs": [
    {
     "name": "stdout",
     "output_type": "stream",
     "text": [
      "The number of colisions using a hash function used in cryptocurrency : 3\n",
      "\n",
      "\n",
      "With the complex hash function we have : 0.6 % de colision, c'est tres faible.....\n"
     ]
    }
   ],
   "source": [
    "hash_bitcoin_2.sort()\n",
    "#print(\"\\n\")\n",
    "#print(len(hash_bitcoin_2))\n",
    "#print(\"\\n\")\n",
    "\n",
    "colision = 0\n",
    "for i in range(len(hash_bitcoin_2)-1):\n",
    "    if hash_bitcoin_2[i] == hash_bitcoin_2[i+1]:\n",
    "        colision+=1\n",
    "        \n",
    "print(\"The number of colisions using a hash function used in cryptocurrency :\", colision)\n",
    "print(\"\\n\")\n",
    "\n",
    "print(\"With the complex hash function we have :\", colision/len(hash_bitcoin_2)*100, \"% de colision, c'est tres faible.....\")\n"
   ]
  },
  {
   "cell_type": "markdown",
   "metadata": {},
   "source": [
    "---------------------------------------------------------------"
   ]
  },
  {
   "cell_type": "markdown",
   "metadata": {},
   "source": [
    "Rque : que l'on garde le \\n dans les mots ou pas ne change pas le problème, je peux donc les garder"
   ]
  },
  {
   "cell_type": "code",
   "execution_count": 42,
   "metadata": {},
   "outputs": [],
   "source": [
    "def from_txt_to_table(file):\n",
    "\n",
    "    # initialisation de mon dictionnaire\n",
    "    #dicts = []\n",
    "\n",
    "    words = []\n",
    "    #print('reading file and counting it :')\n",
    "    with open( file , \"r\") as f:\n",
    "        for word in f:\n",
    "            words.append(word)\n",
    "            \n",
    "   #print('Now hashing it :')\n",
    "    n = len(words)\n",
    "    hash_btc_1 = []\n",
    "    for i in range(n):\n",
    "        hash_btc_1.append(double_btc_hash(words[i].encode('utf-8')))\n",
    "\n",
    "    #print(len(hash_btc_1))\n",
    "\n",
    "    \n",
    "    print(\"\\n\")\n",
    "    print(\"Le ficher contient\", len(hash_btc_1), \"mots. Nous allons à présent le hasher et le placer dans une liste de liste\")\n",
    "    print(\"\\n\")\n",
    "\n",
    "#    for i in keys:\n",
    "#           dicts[words[i]] = hash_btc_1[i]\n",
    "\n",
    "    keys = []\n",
    "    values = []\n",
    "\n",
    "    for i in range(n):\n",
    "        keys.append([words[i]])\n",
    "        values.append(hash_btc_1[i])\n",
    "            \n",
    "\n",
    "    #print(len(dicts))\n",
    "    return(keys, values)"
   ]
  },
  {
   "cell_type": "code",
   "execution_count": 43,
   "metadata": {},
   "outputs": [
    {
     "name": "stdout",
     "output_type": "stream",
     "text": [
      "\n",
      "\n",
      "Le ficher contient 500 mots. Nous allons à présent le hasher et le placer dans une liste de liste\n",
      "\n",
      "\n"
     ]
    }
   ],
   "source": [
    "hashed_1 = from_txt_to_table('word.txt')"
   ]
  },
  {
   "cell_type": "markdown",
   "metadata": {},
   "source": [
    "## Comptage & etude des collisions dans le dictionnaire : "
   ]
  },
  {
   "cell_type": "code",
   "execution_count": 44,
   "metadata": {},
   "outputs": [],
   "source": [
    "def sort_file(keys, values):\n",
    "    #print(type(values))\n",
    "    #print(type(keys))\n",
    "    n = len(values)\n",
    "    #print(n)\n",
    "    \n",
    "    colision_keys = []\n",
    "    colision_values = []\n",
    "    index_colision = []\n",
    "    \n",
    "    for i in range(n):\n",
    "        for j in range(n):\n",
    "            if values[i] == values[j] and i != j and i < j:\n",
    "                #print(values[i])\n",
    "                colision_keys.append(keys[i])\n",
    "                colision_values.append([values[i]])\n",
    "                index_colision.append(i)\n",
    "    return(colision_keys, colision_values, index_colision)\n",
    "        "
   ]
  },
  {
   "cell_type": "code",
   "execution_count": 45,
   "metadata": {},
   "outputs": [],
   "source": [
    "colision = sort_file(hashed_1[0], hashed_1[1])"
   ]
  },
  {
   "cell_type": "markdown",
   "metadata": {},
   "source": [
    "### On a maintenant un des doublons issu des colisions, il faut maintenant modifier ces cles la pour ne plus avoir de colisions"
   ]
  },
  {
   "cell_type": "code",
   "execution_count": 46,
   "metadata": {},
   "outputs": [
    {
     "name": "stdout",
     "output_type": "stream",
     "text": [
      "[['a\\n'], ['abelite\\n'], ['abigail\\n']]\n"
     ]
    }
   ],
   "source": [
    "print(colision[0])"
   ]
  },
  {
   "cell_type": "code",
   "execution_count": 47,
   "metadata": {},
   "outputs": [
    {
     "name": "stdout",
     "output_type": "stream",
     "text": [
      "[['2bba5f0f6700c6659705ff58e54718641e893ab8fc36b920cccb556c5e157490'], ['9b97f45e6b2032e57694fed645b4b273c421256b72aae7db842ce79c4d3f1d69'], ['0e4d20a7cbd990650e5942dfa260dfdee668b0a5748dfdd59cf1041a2aac41b2']]\n"
     ]
    }
   ],
   "source": [
    "print(colision[1])"
   ]
  },
  {
   "cell_type": "markdown",
   "metadata": {},
   "source": [
    "### En python je ne peux pas utilsier un dictionnaire, par defiition unicité des cles -> value"
   ]
  },
  {
   "cell_type": "markdown",
   "metadata": {},
   "source": [
    "### addressage fermé "
   ]
  },
  {
   "cell_type": "markdown",
   "metadata": {},
   "source": [
    "#### Pour alvéoles deja occupé, recalculer la fonction de hashage sur les demi-paires de colisions suffi"
   ]
  },
  {
   "cell_type": "code",
   "execution_count": 52,
   "metadata": {},
   "outputs": [],
   "source": [
    "def empty_colision(hashage, index):\n",
    "    \n",
    "    for i in index:\n",
    "        addressage = True\n",
    "        while addressage:\n",
    "            #print(hashage[0][i][0])\n",
    "            #print(get_sha_256_hash(hashage[0][i][0].encode('utf-8')))\n",
    "            hashage[1][i] = get_sha_256_hash(hashage[0][i][0].encode('utf-8'))\n",
    "            #print(hashage[1][i] in hashage[1])\n",
    "            addressage = False\n",
    "    \n",
    "    return(hashage)"
   ]
  },
  {
   "cell_type": "code",
   "execution_count": 53,
   "metadata": {},
   "outputs": [],
   "source": [
    "y = empty_colision(hashed_1, colision[2])"
   ]
  },
  {
   "cell_type": "code",
   "execution_count": 54,
   "metadata": {},
   "outputs": [
    {
     "data": {
      "text/plain": [
       "'aardvark\\n'"
      ]
     },
     "execution_count": 54,
     "metadata": {},
     "output_type": "execute_result"
    }
   ],
   "source": [
    "hashed_1[0][7][0]"
   ]
  },
  {
   "cell_type": "code",
   "execution_count": 55,
   "metadata": {},
   "outputs": [
    {
     "data": {
      "text/plain": [
       "['aardvark\\n']"
      ]
     },
     "execution_count": 55,
     "metadata": {},
     "output_type": "execute_result"
    }
   ],
   "source": [
    "hashed_1[0][7]"
   ]
  },
  {
   "cell_type": "code",
   "execution_count": 56,
   "metadata": {},
   "outputs": [],
   "source": [
    "def buiding_dic(y):\n",
    "    dicts = {}\n",
    "    keys = y[0]\n",
    "    values = y[1]\n",
    "    for i in range(len(keys) - 1):\n",
    "            dicts[values[i]] = keys[i][0]\n",
    "    return(dicts)"
   ]
  },
  {
   "cell_type": "code",
   "execution_count": 57,
   "metadata": {},
   "outputs": [],
   "source": [
    "dictio = buiding_dic(y)"
   ]
  },
  {
   "cell_type": "code",
   "execution_count": 58,
   "metadata": {},
   "outputs": [
    {
     "data": {
      "text/plain": [
       "{'001c4a6bdb0d655cf678f87f76d3c597a1ab40190b1b2798f31ca56858af7e48': 'abaciscus\\n',\n",
       " '012413d790e757160cf716350824c6f2fa11e01d1b2de581d07af9eca0a3a95d': 'abler\\n',\n",
       " '0148d9fb174d3772f2064ee7689afeb55ab30c950bb2fb852598b0dff67541e9': 'abasement\\n',\n",
       " '0164e4338a66172ed626ab91c66afcab33c271164ed6ec32344e593d25815a5d': 'abater\\n',\n",
       " '01f13f338d6c9740d33a8678b30876c86bcd89eac580443ef499291bbfc3ce06': 'abolitionary\\n',\n",
       " '02360455af06402db6274e616e7719bb2849d28d417709f048d95c6ccff469ad': 'abbacomes\\n',\n",
       " '023804c959c2c1954a1b62c90f5a41ef4e2ec45040e388f3e717fafd9d42b1d3': 'abhorrently\\n',\n",
       " '034bd50b4912968b8f5e825025221c8596bf73b17cd8c6321afd23e95b8531b4': 'abjure\\n',\n",
       " '03ad9c3a4d90bd7e7ef671c7d549e6e1dc48ba789b71e24f0cf41fa0f9e716d2': 'abatua\\n',\n",
       " '03b91fcfc0c3b91f2a869e1616499e5b99e0d6aec8e2df0370fcc94f12235b0c': 'abasedly\\n',\n",
       " '03f9a9e4f82f27871280aca4d49d7a2c2814a09cc51604fa0f35c839955057ce': 'abbreviation\\n',\n",
       " '0404b10ee05993c9099f37f6e8239dfe53b97c32fab0724c06eba131138f8036': 'abducens\\n',\n",
       " '0525c3797ec3eb2f353249fcb50c4db44fc3e220e139535a7a7d77532207563a': 'abscessed\\n',\n",
       " '0585e7df2ea62aa40b062694e3c2dc660af2b95631ed0c8c2b669a46c52eaa65': 'abolitionist\\n',\n",
       " '06146415c4d2622e87c58b1110f8a1b2b0fe8e1fb8f0b6a5a609b83817b843db': 'abbassi\\n',\n",
       " '0622c2d9fc96b51ccc29752853b25c2d790d61af5d99f8aba7ffdfe24fb605f4': 'aboundingly\\n',\n",
       " '062f0e0f11207dde5efe68dcdf829cdc156255cfdd42cda777a7d1a9131f7b9d': 'abasia\\n',\n",
       " '069e871ef2c562bd75ef838fd4470c8bdc1f8e8c6295b642cd74a8b572bbf270': 'ablutionary\\n',\n",
       " '06e67f0c194133e49bf5ba578739f5f25e8d244d5a7e3d58a81d6627c2264a12': 'abjoint\\n',\n",
       " '06f8dacf74ceb33679a478b706e571f3fdab204e1f03dac2a47dc59e713bc349': 'abhorson\\n',\n",
       " '07a8f92aaae4b2163e142238d27e4409e5897b9baf860834faa7a3f7b9271f89': 'abdominal\\n',\n",
       " '07b4894470609b513737a453e02a4071e1714ba6ca85764a07e9587b0fa886a3': 'abac\\n',\n",
       " '07e7322b454e3cc66a7ef75a74ffb5108857531558df0cab6a08d051be67d5b1': 'abietineae\\n',\n",
       " '086e39d05716bb834fefbc6ad84a595fe37731cc1a22727de298b6fda83324da': 'abalienate\\n',\n",
       " '091297243ed064103939e543e999f0b7766d4067519419f8a18338b748471cfb': 'aboral\\n',\n",
       " '0b0f63ee8224b14aeea5ed668624aa5d693e3df7c8b3540e9de9c662b3b9a65c': 'abrasiometer\\n',\n",
       " '0baa5e4d8b9b0557fdfb20e388b720b62407d98c8c5052c8ab0f9328197c39dc': 'abbot\\n',\n",
       " '0bb48fa19e4a492df190fa2097b8666da39c5048890f0c818cb99705061917c0': 'abranchian\\n',\n",
       " '0c1a798cfe7a7cd0c09ae97d076a75891384e53e5d1b468e2d66010d9aa85f7e': 'ablaut\\n',\n",
       " '0cb7092d4b5b09f61dd352910a6aad5db324a334e1c8c311484656ff7ba723a6': 'abmho\\n',\n",
       " '0d3ffb053dd4c6011deb88520bcf631e28faee3a214626172b13557afbb7660d': 'abashless\\n',\n",
       " '0e27767257e2b0caf6b90c69f8a43b36ade9f8ac567b2a2772f7585f4c0b7009': 'abject\\n',\n",
       " '0e4d20a7cbd990650e5942dfa260dfdee668b0a5748dfdd59cf1041a2aac41b2': 'abigail\\n',\n",
       " '0eb48663d5d51eb445730518e7d94ca668f9fcb070aa39769a11a6e3b39bbd85': 'abruption\\n',\n",
       " '0f5c91df6e63ce9bf95047a961a49891ed422853045e5599948b2877e4f7d50d': 'abrus\\n',\n",
       " '0f88463df198fd5d58bf622e0b7c5b4811dd354bca57ce3179b8f3b499e6ed98': 'abandonable\\n',\n",
       " '0f952ab401fbb7e21d872e80935ffb74fd5d175ed3e7c04b4b8b32954ed19647': 'abama\\n',\n",
       " '0f9e43d43b79d13bc620a7b272700bdce8b534ba7bcf486b8469e4c4d784ed08': 'abrasax\\n',\n",
       " '107840f921c535643b586db548f3343b15949cc2411b7809dc35410a29c7faf8': 'abdominoscope\\n',\n",
       " '107f21bcfd73da308f524b32698f510cf5306e1c830d90a338e1f4938962f396': 'abassin\\n',\n",
       " '109ef1ce74ca52bba85b60781604633854d00349045225471f9117b6883910f1': 'aardvark\\n',\n",
       " '10e471c775ee915bd67137884f21a31b4d2b9a32d2999ca628cd9fbccca99967': 'abdicative\\n',\n",
       " '11f177a2e509f52e207fd5146457aa001276649999e641b70492d562d0c13b7f': 'abbotnullius\\n',\n",
       " '12ff4b2d9de4535ae7c775ccd6f087c3a3c8a08b5bc6d40b0acbd25a6c172c7d': 'aborigine\\n',\n",
       " '13374ff19ac26b31fe6c5702cea317974206829eeb1f1d9355786422f2f04bb6': 'abilao\\n',\n",
       " '13b4b28d6487926867a818601a6be092c8cfad33122b7c07f10452f4150327f3': 'about\\n',\n",
       " '13d8a2916cb2180413714e27dd8c402ce0a66a8ce06b6d62784793967bb9fac0': 'abnormality\\n',\n",
       " '13da02caf52b6104da76a0735dc320e0ca3d2a22030c95e42bef405d1375d9bf': 'abalone\\n',\n",
       " '1493bbc7cc3e7b1696ca4754529536493c6186570f2ee5dd408d1d5efc17b37c': 'ablatival\\n',\n",
       " '1506ae915565659f509839ea0ee6e08f6610be9e0124ffb88749953846b5faad': 'abacay\\n',\n",
       " '15aec61113067d5ec6de8ebfd465929f045c6e2e22cd1fdc2379057e967674d2': 'abidi\\n',\n",
       " '167436cfd2fcfa9a62f3f9e69e6735ce66dd1f48664feb08ef0c5d88d8c62696': 'ablation\\n',\n",
       " '171fa2b0523634494c3dc0558726438ae6782dc571e588f024a772a31065ab14': 'abbasside\\n',\n",
       " '172935acee051a49085c91268ac7f6d5963f8e64d80de09fadbb4693f42dc241': 'abrase\\n',\n",
       " '1808a4f8458ece20ed4f49f214c425c1f5c4c04c11d9643678db673abb7c1fc3': 'abrahamite\\n',\n",
       " '18ca216dae43036f316f057fd5e98915c90e2591d7f6d20f00274218aa86284a': 'abscess\\n',\n",
       " '1995aa8447a605db75529936b6cf91a66213e955b4df8068dc40982e6f81fdab': 'abrahamic\\n',\n",
       " '19e53b13a4d41ffc93a2b2547e07cfa7e08d69d2f5a7f2d152c023523e0c14c3': 'abjudicate\\n',\n",
       " '1a805b9327bc62e9a26af13f113b935b81b0e2cb1eb8fe2c08fc2fe3dc9d40a2': 'aberrational\\n',\n",
       " '1b519c231c4bcb5af8cf91305699db8ffd89574bfa00a99c8c4ebe25cbe7b25b': 'abbotship\\n',\n",
       " '1b66a95f4907cfa20baac73c07b9f0cf0f188920887aa4c4e26b9a49be7b3492': 'abroach\\n',\n",
       " '1bf8e14303e05a256b30d5acf24ae97d05df91936966b1b9acd0af02c67100a4': 'abenteric\\n',\n",
       " '1c17d78721b6ee7d7b212c6a9bba822fae656f673b8899a3b7a14701dd103c9a': 'abevacuation\\n',\n",
       " '1cb0c230e329348a2ee32758b2db223fbf222e74b396cd108c437fb82750833c': 'abasgi\\n',\n",
       " '1d6c4e02345c1fa80ebde2b444a3c7463ae201a94dabd2c0088abdc193ee421f': 'abacate\\n',\n",
       " '1d75dd7497cfa00f66341d2e047c01aecf78c00485a621fb93747755de985cbf': 'abrin\\n',\n",
       " '1db37c24f1f27e9de486a387cde2f7bd9519b786f419756c53ec015f1eaac5f3': 'ababdeh\\n',\n",
       " '1de8f724e4e44c8e3e9fcd1bedc0719f530a0d75afae2a732d9a4277688aae14': 'abrachia\\n',\n",
       " '1e34355db6d4887adfd9bbf02c893705ae2acf65a6e6212c4a128b882b7398ac': 'abolitionism\\n',\n",
       " '1e61be09deed3d00f64555b02eb13cc784e173b35c5890c87f943755b5929632': 'abovestairs\\n',\n",
       " '1e9413643d15ec69dac234776f72a5d6cead5eb36ecd5902788a0c5bcf32b99e': 'abrupt\\n',\n",
       " '1edd0109936009ca53bd5f2dcd8855f59d6b07c1482f7b5fc7b4b1b511a0bebf': 'abrenounce\\n',\n",
       " '1ef32e5f801e1fcc15773317ab6f2cba5d83ea46f1b99298e8e14ee326482d34': 'abolisher\\n',\n",
       " '1f26762f6ce87d0279bf63d8ee2262f782b64f228719ca0b23aaa602228d894b': 'abobra\\n',\n",
       " '1fc03710f46ad4a1abc850ab4b3bc1be5286f83011c4f27d46329ae24c349b13': 'abrader\\n',\n",
       " '1fc4c39fd268ec9457e0c1160aaf308860727387ca871b77b6dcce891c37a57c': 'abouts\\n',\n",
       " '2046d2d0371ddc5dfad2bbe57ee444d94f025422ad95e98dc7b02de334f7e26a': 'abiston\\n',\n",
       " '20f97ed1eea1cba19e60ffca139ef139c9d1a90fe249681eb7c97d23a1bb6bab': 'abettal\\n',\n",
       " '21268b1d0f9c00597fd72950f95b2fa21f8c4a480cf8a5427190bb3c58219599': 'abloom\\n',\n",
       " '2152a29fff0782e2e92f6060e0b4bf99ac4eb9b1a1a0dbb1d45ed9031f78236b': 'abdominohysterectomy\\n',\n",
       " '22d12e3eeef848134cadd91730f0a6eb2197520cd5bd478251763768f89f87af': 'abrogation\\n',\n",
       " '231b5efa7dfff26a7d6205d5d2758d6de5c4b4a3e3ac431f087ab3b79863fb44': 'abovedeck\\n',\n",
       " '235abe3b27b4498eefa32d5f3bae34c575fb89eeaa2f3fbdcb2dbcd50499fe16': 'abnormally\\n',\n",
       " '23a8d568d546c84c150467243a33bb2202139fab04cb8ec8b7746c7d48660b31': 'abortion\\n',\n",
       " '2411f3484523016d37682303994f4cac8d3a292f7c472130a71945de556ad53c': 'abatement\\n',\n",
       " '241ecfe063a95d1065e8fc6a596e8e6ebb6a87e573fb4922414ec2925a886987': 'abroma\\n',\n",
       " '252220919f1a6d6e09171f9c767efd34f3363ba51f806809fa3bf6721fa00ea0': 'abreact\\n',\n",
       " '25f3043c8bba3062168351d75e508ff294d6447ea9261b05041ddea33cf1ec2b': 'abdominovaginal\\n',\n",
       " '2608304a7b72fb21ea69d812e21cf2d960b38589596713dd0053ee36299e476d': 'abrahamidae\\n',\n",
       " '2671badd5f8b55ec7a24557636ccac40aafa50edd99e4d85d5342dea66bc8daf': 'abactor\\n',\n",
       " '26ad83215265ba0d2eb08464ceaac7fa8e4ae0b86d0469f55240faaf6c95e2a2': 'aberdevine\\n',\n",
       " '275c0145811b196e31b249d29c9b748d87229280e486de11ceb1811ad1460860': 'abolishment\\n',\n",
       " '278a9af45a0fd86f8b96b31d0158d348b0ea4d63bee7b08cc7fe097d075a4582': 'abbreviator\\n',\n",
       " '283bfec8d9d3b26c68f301d7b1799c5917938225b2c63a36d692aaa742d2adfb': 'ablactate\\n',\n",
       " '2879e0ed7775e7b4c5ba4df50e3063abb1355224e3adb7542d6bf2054897dca6': 'abdominalian\\n',\n",
       " '28cac72e87c75291b5223521c0b7f2d482939b38a2421ff85d844fc31608601c': 'ablaze\\n',\n",
       " '28cff615082c1a8ed2f9dbf2e68b48e2062b1e04a043ef29e8d906d03cb591fc': 'abranchiata\\n',\n",
       " '291a4ccdf9f0e39f3efafb542110ac7c6d1f17778aadd304672962c0190dc9a0': 'abidingly\\n',\n",
       " '2950d2ed96998c8d6f7d2b54911e5bbaa8f915f23e3bdc473fb2e049bdc5dad1': 'absconce\\n',\n",
       " '296ee850c51a9dec3c1b0102daad7238f06970b9a8542d49c2a0daffbe17b800': 'abilla\\n',\n",
       " '297dbd6e61f31faf443abbab7a54a6ae7e400ffacc29c289e8dd805802bd2994': 'abiogenesis\\n',\n",
       " '29eca2db72045dbcec66c4d4be985df931acfce828c8585b9561fd4a9b8f0518': 'abranchial\\n',\n",
       " '2a8f46e30aae9c773d9ec623213d3b5ea3d50b70e18bb6e60fa6c8fd9d24ae38': 'abiezer\\n',\n",
       " '2aa5dcb56fd04a996ccbc0c2a8c7b4b41cb038a2b4e6796801e175b32cfccda1': 'ableeze\\n',\n",
       " '2bba5f0f6700c6659705ff58e54718641e893ab8fc36b920cccb556c5e157490': 'a\\n',\n",
       " '2bbe57ad66a34dd80fe6a2108e9d10945e089ff0f67d3c5a5ca5543f5d000516': 'abadite\\n',\n",
       " '2bf501502c15b1da5698add7fceca093e79fdf03a77ba85fba46aa9de33ef388': 'abomination\\n',\n",
       " '2ca88745a0003037ceb6b46325f8dd0473a11cf90474bb8463611bd680c52279': 'ablepharous\\n',\n",
       " '2d0b64e58a7451465fd9047998c028724d1b0d65dc5151d7f049876079d41fe5': 'abet\\n',\n",
       " '2d202bee789e3ff72843849f67ebe3d7f8f4ec24349937cc947bed6fcaafc1e6': 'abaff\\n',\n",
       " '2e7021bbbc942aa9f692b4c9bf622f09a5f4e99281278e266f718740a0895555': 'absconded\\n',\n",
       " '2f122b179b6ff479c02ca496983bb73f212f59fd23d7f0ca714906f97b380c8e': 'ability\\n',\n",
       " '2f26cbe6d60e84eb59066e09ac1293cfc61f423d17259138338170cee9f6426a': 'abomasus\\n',\n",
       " '2f75b4e8e278c70ff01ac1075bb1a6e550cc95113feba34afa09c463c9801f63': 'absciss\\n',\n",
       " '320e8bf08279646f10d17ff96618130507c6d1a7531936b098ff6ad6c795d4fb': 'abkhasian\\n',\n",
       " '327e78301c2d196cc927efe1c984699211601810caac815812fb4e3391ea9e29': 'aal\\n',\n",
       " '32ce1e9e48f09721b435f95028c76ccce53f655cbca7830edbd2287421c40373': 'abortus\\n',\n",
       " '3370d88ed581545a98d906aaec090f5597fdb6af912feb315abc2116021eb98a': 'abraum\\n',\n",
       " '33e34e9e1e1260c1c05bfb7af97785d698642ace1f288a6ae25fcf7aeff8a743': 'abbreviate\\n',\n",
       " '34927ace500c71c6cc6aba5cae42ce96b327a10fd8d867a6bc857ea0d9d4f37b': 'abrasion\\n',\n",
       " '34d0b02d1500754f79b5e3e75ffe438fa1d2eeaaf165a42df1f5812ccf9497ab': 'abductor\\n',\n",
       " '34d6cdb17aee8abd30119092130c3095de5f40ddb08194cf84cb5503b51c0c4a': 'abiogenist\\n',\n",
       " '352fb66a9917c28f7efff5e2228e9f5353b14cc14233e8e8db80203adaa4d800': 'abb\\n',\n",
       " '3586053fd8c982ee664a0751264777fcbc5711173514eb75c2aad8cbb7b24f77': 'aaronite\\n',\n",
       " '35c6577d306f10b0a9e1560fd7dbeb470065dbcdad4e34396f7ebae15270ad2f': 'aberrancy\\n',\n",
       " '375f5db05fc929a506d8956d74a2288267823bf8f4fa5f0376f3330ea7d87d85': 'abouchement\\n',\n",
       " '37ce44d223650cf990699de6dc16b6f0fd0135bb524d555543a7f4e24a33dbd5': 'abatised\\n',\n",
       " '385682c8b5d19d67bb111f788d2efefae071adce6bcaf1fd85b7b14bf7b17632': 'abdominocystic\\n',\n",
       " '386f4140f616ae0de7964595218bca3f4f1ede1d1a320f374dc6a41c5347165e': 'ablastous\\n',\n",
       " '38780209e91dc1b2049366768a8535989544a6f91ea2764166dfd22f8c22cef9': 'abearance\\n',\n",
       " '392dc2623fdb14eb03ff3b0e57b4c9541825b8570d0c31e5470ae11e81c3fee7': 'abridgeable\\n',\n",
       " '39a30f9d6cc1e853529fa2ec9cc17130981b052a0efc121e5ea0d3eb8018992e': 'abound\\n',\n",
       " '39aac0c342010efcee44d6e8ee61b4de309be10369e35d4c81a2693052658d12': 'abattoir\\n',\n",
       " '3a16058b790defbfac94f29bfe95051d3e0ecdc2b383d892505d2b86e6a5e167': 'abnaki\\n',\n",
       " '3aee770acf4c4d74d51a4168046d9b7c6ed299a1a75515f55611128a7396c1a9': 'abbatical\\n',\n",
       " '3bca116f39e2cd5f29536d3bb4ee5f70b10086746e677b58c37845ca121b01d4': 'abatis\\n',\n",
       " '3cb5c90ea8ab036c49c9901cce6cd911ada39f3febe3147e066fb784f84ef89d': 'abderite\\n',\n",
       " '3d89d41dfe6cf0ee3f40041c9b597f37eaf327812eba00a4d197f1066a080109': 'abrahamitic\\n',\n",
       " '3dec5a8c643fdcf2eda9535f042131aecda0382619c12e0c640fe2a6e9ee131f': 'abscisse\\n',\n",
       " '3f0fcc84e8f63784b820bb4628c99044b0446dedb323385a1a9d708375b0afcc': 'abody\\n',\n",
       " '3f919185aef5bafdbbfcbd6d5fcaeeb6f0e8a5147ea7e060afd2edeba06dda16': 'abo\\n',\n",
       " '3fbc7da5382c2d9f22488e506718c44bbe0e4ca061af29462763902f518e33a9': 'abhominable\\n',\n",
       " '3fc3baaabc746b27ba7698af5832e2c2379a558534f7c43e746d2f576ac6f68a': 'abrotanum\\n',\n",
       " '3fe3e545459804ab86c908f9ebe1ac59d6f54111eb97717e1bf4f0eb16eebc36': 'abietene\\n',\n",
       " '40855b723d638e48f37b15a096b58a6892fe296d5da55632620e8b8008cec241': 'abominator\\n',\n",
       " '40e27263d40a9406f29e738b8699e0e4b4ad8099c5e344a7edecd9aac193fc3b': 'abner\\n',\n",
       " '4131ae606e7289d4c7279d446c084775675d0d0d559cba240edc8e5d34eaaaeb': 'aborally\\n',\n",
       " '423e845562b03905db3ca1426a3b7e0b142b4eb2a73cb391d3f59dbe7458e393': 'ablactation\\n',\n",
       " '4367581b6ff23b3701787b1c2263c2b2a90f20aa6b94ce3f5f4fa03249d28ef5': 'aberia\\n',\n",
       " '43a2562d4b9c765b9e6243fae8886d16200102614b571a29c7e6eed46d77b894': 'abduct\\n',\n",
       " '4410212210c5eaf466f619cd1986d248a67eeb7ef0e9cdfd9676e350c6527226': 'abandoner\\n',\n",
       " '446f21d5fa45033ee0c9f572909d34d04e8e9be03b81e1b44d31df9280d4c0ed': 'abrastol\\n',\n",
       " '465a97355bf40563cae2fe61793ea14cc774f954642a879d7bd0dd48d2cab80d': 'abastardize\\n',\n",
       " '471ab683f40cd4951d0d01e619903337e47fe2dd5263aaf06ebbb6727aff1d96': 'abrogable\\n',\n",
       " '47982e411cf917fa78e8112b10bb470a6e152ca2785de932769c20b744e98304': 'abnegation\\n',\n",
       " '4811f46a4b345dc98ad9b65b8038fe79a9e53aea78617ec6c114454c73f145eb': 'abradant\\n',\n",
       " '48836aaa6bf3e0cb7b300e16c6e6045c8358536c73df08fff3afe48a3a6d7eba': 'abjurement\\n',\n",
       " '492d3474d4cfc67b8aca3561def506229474542876570ce2fd5fab5d338493cb': 'aaron\\n',\n",
       " '4942d532d768a6fc5a5e226291f3f734c1f263fc26ce1bf1f8f619f45358639f': 'abey\\n',\n",
       " '4956d1452376ef373853cacc0ecb0f26bbbc286e1dc1a0ce649ddbb46589b430': 'abide\\n',\n",
       " '49ed76cd770375e16a1daf26214ae666a7a2e1c3014a55463f57f2f669da4340': 'abnormal\\n',\n",
       " '4a01a7125b0d89e9c75a4831b1bde78b4493d03a2014e0d8bfb82379f4097517': 'ablach\\n',\n",
       " '4aac6e08bd1c8104c1732f518f24a913100355156fe3a0f7511749b3aae975a0': 'abbatial\\n',\n",
       " '4abcf0c7d7ec6a80a3145f7fcd973ca5f01f6b0e7b0f7dd5bfda238951cedd35': 'abfarad\\n',\n",
       " '4b6c757e61eeed04ed2a928f8664e07e4c3698bafac2fff839c5c46d52f139b7': 'aberroscope\\n',\n",
       " '4bc235d9326a13e24f0de4e1ff3eaddfbfe4f1c258fac83ce887a782397e2255': 'abnerval\\n',\n",
       " '4ccfbbfc2c545f02fa7ed01e0c473402967ad17524f22f8287aeff3bbc4b08f3': 'abortive\\n',\n",
       " '4ddedebd1176923f51ae76b975222ce1a8011102b95280b3a5d4e4390a7c611c': 'aboriginal\\n',\n",
       " '4e09065cfdfc34aba012893efeb6d2ba6a26938b95202da84ac455cb2d7ba94a': 'aboveproof\\n',\n",
       " '4e6e25e243bb0f67349476e442a22c7f8175c1479c9a32818624aaca9911e6e8': 'abactinally\\n',\n",
       " '4e6ee968d1b15455a1aaf7b964a3a18ce35223b28f253c1289a8bb1c79d52add': 'abilo\\n',\n",
       " '4ed990cbda8a71c3ae8f8a2b534b36e7ec94835c9fce499e4126802375e0a31b': 'ableptically\\n',\n",
       " '4f767bffb227e2b3738023c823f8a7a93a4760437ea11ca489d0ed955122b498': 'abraxas\\n',\n",
       " '4fbdef740cc6b7bdda412e8e8391933841bf6402b53ea637e4696ba7854ae5b3': 'abeam\\n',\n",
       " '5017e5c433921a02b58426c433e1ee4472f63377e95a11698b295056ad127941': 'abnormalize\\n',\n",
       " '50217b95dd089020a43f904b2900b8f36419d0ddc88a4f303f0c2a3fa6f5721b': 'abongo\\n',\n",
       " '50465ffd2f221643345676d1ba90c25870f94f5e760f7713f722a723071e23ca': 'abrogative\\n',\n",
       " '506e844d48c0cd846032cb61657de2a7657df3cd610497b073609beb2931662d': 'abscise\\n',\n",
       " '50a0c11a2ab8b819ccb02e76541db34bfa73e2ccab5dde1295674c0649b3de5a': 'abies\\n',\n",
       " '50b7ac5e178cd1fa69743a1a605e55a45e552d85c13ac851e6528395bfe30e49': 'abaris\\n',\n",
       " '50ed9dc888f9df4ac58f54e9ce1d991c297bedad41d7e992aaa8154c82e17560': 'ablude\\n',\n",
       " '5105198b30cb2c296f9e7fc96edde01b862c8f9e696ec7f2a708f43d2b69b61e': 'abbotcy\\n',\n",
       " '515760902bd251b21b104b8bbe0d31cee7bccf2da9fbd0fcf8ff5d8b0ffdf592': 'abandonee\\n',\n",
       " '52380d5d5e5acb8602d41fc53494c3dfbd3207583831e38bbfc0ba64c1d6bbb4': 'ableness\\n',\n",
       " '52713ef4feb7cd2c592b059d7f7f008459f7951dc729bfb47e6e05abcc2d5d10': 'abhor\\n',\n",
       " '52a9dc593f5fbcd1b7ec65b2b02f4215989943d99c157fafe62c43402633ee69': 'abortifacient\\n',\n",
       " '52b182785eb1ebc7e3d5e44603a2eb088acf16bbe532068bbba4bf886d61ce75': 'abirritant\\n',\n",
       " '52ce8104691b3f702ce80094a37eb14a5d8cc85001910eb65b932d310eeca702': 'aberuncator\\n',\n",
       " '536b226a2351dd1f6f96d67612639b8ffb582625af53028bb38c89d031b08059': 'abortin\\n',\n",
       " '53f5afc564a6ba9fc5de9a9f21ff55a6471fbde5da7ab6dde89012393d120f88': 'abranchiate\\n',\n",
       " '546792e19bc9ce094b3ef8c27d553d16352002e6c5176e1b6c22754824484232': 'aboriginary\\n',\n",
       " '54b705b60def0d90f9a12b0722c5fbc9454cd686803ec7f516d57503ab750231': 'ablewhackets\\n',\n",
       " '54cc2a41cff89fed8fee36db822fb4c8927fd2880f40d4ebf8fb86914609d8c9': 'abrotine\\n',\n",
       " '55204fdba2c4b155c7f02b202b43c49cb294c8c285c8fdb62d1b00ba9056864f': 'abominable\\n',\n",
       " '55dcc57cff90e3fe63bd32bbdcf2f8a60136f908c3f102606a9216c4cc4e5f09': 'abroad\\n',\n",
       " '571a50d7b254a9a2dd328ff453929f2bcaf5f187d9d63ae6da8fae90bd65aa1f': 'abridgment\\n',\n",
       " '5792a311aaca577a03fa1faeb92bc150bd3549558ea0006bf9c3b01f28d08834': 'abecedary\\n',\n",
       " '57e526797ace6987dbb5c8508bc02d2a112e45234b3e810ba9a5ca702d36d691': 'abacist\\n',\n",
       " '58719e292226c2dbea1503eb24b9daa2adbd4457e7b51e019a1badaca5880263': 'abduce\\n',\n",
       " '58e7b75140dfdaf0d99d6eb63e0897698e13c59a55a83362d219ca057c5f63bd': 'aboma\\n',\n",
       " '5c8fe027c4d689194075ca941250b5dfb0c508865e981ea13f1e1d459f32ab02': 'abaxile\\n',\n",
       " '5d23faaf78a3ea0d3bcf5da7c6ae62be69915210728405ffb5b6a868da16f3b6': 'abas\\n',\n",
       " '5d63957801ef38f6fd78e686043967619ac71bada586955fd72103d6aa9277b4': 'abactinal\\n',\n",
       " '5e86472bd3b6bedff57fe4007f1273da8cd1af9101e0e31667e7eadb17b94770': 'abscession\\n',\n",
       " '5f88676817d6437f08cde15b0d4070d3a12b03b2eec2ba8694c151c91b2ffb02': 'aberrance\\n',\n",
       " '5fd995bfb222399cb8a2cf822eb00030f5f196d65a237706881a90a0d7e0243d': 'abditive\\n',\n",
       " '60388badbf0ab7a7c2d5fed38a1ed09bb47af17017f62e32f1bdc407b0e327d5': 'abkari\\n',\n",
       " '6047dbd00b08d62a63338cd4f7339fdc6eaad923abe798e517ebcd1d912f58c8': 'abelian\\n',\n",
       " '611416081af1658155dcfac0504d7edb75e127121956db7196107d47297ec095': 'abomasum\\n',\n",
       " '61501e594193d480911b4b80a26f7b60957345f34a51d333d2f181ea294ef8dd': 'abjurer\\n',\n",
       " '64bc1c6b3331049cfca48334d79e50baab9e390abd206ae6184ce128080fc339': 'abhorrent\\n',\n",
       " '64bde96b3c00548a9d706aeda98c156ca70d387e080cc4e5c14bb076f5c12905': 'abdat\\n',\n",
       " '6504caa53896ae1b138bb10e23789603d019872ad15f8bfadbf79a866a580528': 'abreaction\\n',\n",
       " '656b3c084b87b9fe7afd96d413c8cb226c3c649f1b59cd72a056a067552c1985': 'abnormity\\n',\n",
       " '65feee7bad9bd1356f66c77f1d5d7f55229380db3ce537da50c44a918002f55b': 'abderian\\n',\n",
       " '660400c8373adcfac9e2a2336575b8cee22b213ddb2e50aa4232de6f444855c6': 'abjection\\n',\n",
       " '664485cc6018d6b3334a99118ef51c6f47cd8f3ac2c1f47e34fafe2ad0ab9ce2': 'ablatitious\\n',\n",
       " '669b1e36d13490997e8878e25a0f50506e25273be4c5861ca82bc4c589521b68': 'abdominous\\n',\n",
       " '669ede95c7b4162c3b441dee25eefd94b82e98330cf65fc392d66d18c5122df7': 'abacus\\n',\n",
       " '66e2c4a23155d0c3a3bf01b6ab4e39557ef70b4ab8524102aefd7e8fda24ff38': 'abasic\\n',\n",
       " '671f0dd3c416ad50da16915621467e6718718657a0ca04673733f18d5623f25d': 'ablare\\n',\n",
       " '672fe2a01ef8e01eddaa1a68416f81372aa531874625736d4bf24e44f29579a6': 'abjudication\\n',\n",
       " '6737911f434f6599bad447a415817ad186facbc92b0eb4968693ac0e6e78bf73': 'abomine\\n',\n",
       " '6788998635611974ad9b24433e3600211d306d00402b322caa710adfe566d401': 'aboil\\n',\n",
       " '68409c6ee188baf56e1a352337431d28c5b870669ec71ff0965c7e0ab38617a6': 'abret\\n',\n",
       " '69ea383b13d84a5f6d262990b91322711cb0177c7598a4b7f9eaeb1421da03ed': 'abarticulation\\n',\n",
       " '6a02bbd663ef311c765c4a87cdc0c612bce5e9353e3808645a35edb12b1fcbe1': 'abigail\\n',\n",
       " '6a19b7e5c8d8aea0fd914806447d5a2fe04bdb93b1bdb5afd2c3fd0e3336c884': 'aborad\\n',\n",
       " '6a1cd6b251e1b4667ffa3bee357d80736ea26ddb8e1916091611ba78b8ef334b': 'abdest\\n',\n",
       " '6a76248c60ab58cfecfc0dcb4db00826ee94e2c7bee0a691380d879227787f56': 'abdominocentesis\\n',\n",
       " '6af08a773272b6e595d38a4945e9d20f13d4c3d8ccd4a252e5885252a5dd61af': 'ablush\\n',\n",
       " '6baee8debdce87982380d8ba3fe87331a05d1fe44343c7ee5ded486be2e98622': 'abdominally\\n',\n",
       " '6c39fa6b4f5a16ce930633cc26064ed6be1394e3132c5fb5270f676039a27dcc': 'abave\\n',\n",
       " '6c3fef6e6fb8ffec1109274e93c58c5c85c5e684e855e15663c1b0fbb3f570a7': 'aa\\n',\n",
       " '6cc6c9f6c776535a75cd83e19d11354d05cdcfb19486517e81cc82fabb745fd3': 'abdominothoracic\\n',\n",
       " '6ddeef88d33653a475a0d14dd065143ffed85dcc6f3b336d6a6287cb6f7f8819': 'abettor\\n',\n",
       " '6f2b47cb6409c19964a4cd7649d9cf6e3b50902f230dfd004034a827d23e5f8d': 'abigeus\\n',\n",
       " '6f36f05513b87cf1bb6ce32cea3a5dd9cbf19d7fce3ad43a825c587d80760725': 'aam\\n',\n",
       " '6f70be22c46c814156b3e619c5f8913f234157866b129ba18bce562a52304fcc': 'abruptness\\n',\n",
       " '6f7e82db5edcecff55e555cfc0b7eda9548393d7aa1efda91d0a96632f70424a': 'abditory\\n',\n",
       " '6f903db99ccebbd13c5822d5d99129d03c4908e5280d3de6343733ede59bc6d3': 'aardwolf\\n',\n",
       " '6fbdc8849126372da82c8a66c87c9dcf1be3945feb2ff1f01aa8a1a2c2d17787': 'abelonian\\n',\n",
       " '705a232c8e820312af9862d2670b36c9591b77fffe846698d56558f39dc8087a': 'aaronic\\n',\n",
       " '719a00d37cdd0c2961f743acab261d098308de41d6f8baa74cdadff2189758ab': 'abetment\\n',\n",
       " '71d181f7573ff3dc9633f1b2ede807930a488671bdee52e66b9c9834d54f4ebc': 'abietin\\n',\n",
       " '71e3b0a3cbf9f5fe1e4d6d8515da251515590790ce4db59879222401b50fd150': 'abscissae\\n',\n",
       " '72d092c7461ece514fb7f6e508324cf6388b900b2f25283f4fb94cfa34b6fb05': 'abased\\n',\n",
       " '73b109d1673fda32f0b72c275f19f0612750af0018e312975962300612414171': 'ab\\n',\n",
       " '73e13a0c6ced8fe1e2db6e578ec26c16fe15e3ff76b5835c2174a9f8a3ffbf0f': 'abirritative\\n',\n",
       " '74031b9194910e7e842aa51cc2c989febc7cf46fb2d654e8a8dad5ae979acb85': 'abhiseka\\n',\n",
       " '75bb6d1cce1c505e1dd0d93fe27fa33c5495d69ce06b03f5a6a5d047e16a9803': 'abrash\\n',\n",
       " '760bcfffa6a82dd8e7fc412eda7f5e8149df6a713fb9f413cf42a1e300ae6f41': 'abecedarian\\n',\n",
       " '7673ffeb091ef8e18f072986ff61a3d4db5a4f8c78ddc7644b801d68c2249a71': 'abnumerable\\n',\n",
       " '770a3164740f63565e81bfa62a8052819b105a0f75b053829f62e0b0991d501a': 'abdominoposterior\\n',\n",
       " '780ed1fc821fd83eaf578236bba8fc555bd31a87c23f775ea0abe62d9cbd5dd0': 'aberrometer\\n',\n",
       " '784100c68bdf03a5cfac018cdff8154b25ba4112f105e1c938b3398f36ffe179': 'abiuret\\n',\n",
       " '79b4f39531c00cdc8d8ec2978e5720887633f7909a4486e08173f863f6c6283b': 'abigailship\\n',\n",
       " '7b108ab0c6d3c607169210e556128cdf469a95a0264eec1fae3d2e13c7bbe068': 'abluent\\n',\n",
       " '7b9d321982ff4f7a968ee311b9e8fbdc1b7d5cffc997938aad4499ab1eb56af4': 'aborticide\\n',\n",
       " '7bdfdd84a1e834d88c2d7c50cab6ee7c7ba32bacee66d5c0c22596324355e05f': 'abominate\\n',\n",
       " '7c6de3a00b4ca49fa8c95b83a48ae3d0e309c1b53e6d671de245284940a859bd': 'abraid\\n',\n",
       " '7d5296e237958970ac975bf8a287b140e699783b22e6e838777f8e2c8ecdd25c': 'abhorring\\n',\n",
       " '7da04588a83cb2a1859390313d0d859980464a57fc2a8aacf792878c09bc9e30': 'aberdeen\\n',\n",
       " '7de45346c8379a08fc85d47dbcac8fb0de2e0144f3a2983e869f4a93fd5a85fa': 'abiotic\\n',\n",
       " '7e4ac80cd05819244fcd10a21b8e06c392808ffc9f74458672d3c1863d985636': 'absaroka\\n',\n",
       " '803106b0515547428aa96097c0e232cfc91a23781d90df80e17a08d438cc10b9': 'abider\\n',\n",
       " '80ba3b0fb8cbede00ef02551b36a8ee689cbe6e5972664fb0aee570fdd0a7aaf': 'abjectness\\n',\n",
       " '8259669f98d68136f39e6fad59a64846cf1f17d862f0bc1ffe97e32aa2096ed0': 'abaction\\n',\n",
       " '8289791368e151779c9b0d8fd286c165d0078bbdfc91e4d4f1fa181e70d13755': 'abdiel\\n',\n",
       " '84c06a2d3af333d47c77a9ffc46d6c2c8c59af9b96b947e5125dbd2a49dfa7d0': 'abrogator\\n',\n",
       " '84e69f215dbc7c7cf6480997abf85884d56e087307359f180c99f7892b40a659': 'abandonment\\n',\n",
       " '85d091eeca3675bb9790d0641260c5ce4ca1ed79cc4392d0ce34b0873ce12afe': 'abaser\\n',\n",
       " '85ec39de38adfd71a5d31e50233898a0311bfcd50fd38328926a9960747ec0a0': 'abodement\\n',\n",
       " '87428fc522803d31065e7bce3cf03fe475096631e5e07bbd7a0fde60c4cf25c7': 'a\\n',\n",
       " '87e710ccee6d1152972a9851a720854ad69494bda5f3676c7230c5f33e374931': 'abirritate\\n',\n",
       " '87fd24dc98890309d0899b023aa763b0a28990d6341bd4ff16b174c68fc600ed': 'abolla\\n',\n",
       " '880fbc4586b4e684f530fa2bc5a4db2ad12fff69276969baa26ac8b5dd795dd5': 'abigeat\\n',\n",
       " '883ed21cbf336adc086a663875d973d920e5dbd08f7b33f85a45900fcb1440c2': 'abscissa\\n',\n",
       " '88db6a840ddc641ccbc546b3886dbfe942044a0921a0321fff6a8080509a9e8e': 'abscission\\n',\n",
       " '88e41fc756be0d8d27c0790e6af2d65d7bc5f7225e933a8c7c881f850bb08182': 'abdominoanterior\\n',\n",
       " '89b259b922224311847bda8adb67752a7fba41830e8f03f875edcf24a598a894': 'abelite\\n',\n",
       " '8a818654baccb795ee7d1aebf1baaf602d6441f6ee4f0610c59f6cb1b5c91745': 'abbreviatory\\n',\n",
       " '8abc77f7cccbd0d60e258142886f1696f0e67ce61b04699691595a9893600df1': 'abandoned\\n',\n",
       " '8ac1920a3ec3194ab0383c5f4cf4510b65364a6a791666cb5821fe22a85400de': 'absampere\\n',\n",
       " '8b59ef17959339de2c634754a05b55d1537baddc8a2fdb594056b5403c6b636c': 'abscind\\n',\n",
       " '8d6adc9ad79810696a0e2d384dcd7d51dc1d4aa5dd9b48e4fa07b559edc6dbb6': 'ablastemic\\n',\n",
       " '8e575c012ff72aa84828fd35776e36ffc5c71ee51689b4fa4563b0b894125f63': 'abeigh\\n',\n",
       " '8eae6ff960b09c4120f4f3e9d1c6a3a466179bf5b1c5aabff370888829eaaa6e': 'abdominovesical\\n',\n",
       " '8ecce8b9f846d13d18a96e66fb337be7c16b487ba2f1a2b62e7681f41fce5062': 'abbeystede\\n',\n",
       " '8ff0843b74985dfc3e0bf509a34dfcd1546c1fb6c3a701489a13d410aaa67fea': 'abridgedly\\n',\n",
       " '90ee008412f663c0b5b65e3a5776a19143ce37e4eb18882fb81bb37f9e7f612d': 'abbadide\\n',\n",
       " '90fe3b3463fe3a717462b5a928bfc838352f12449f19f0d6fd1c88d85e141ade': 'abrocoma\\n',\n",
       " '919b1ca7d34cc1148c0884dc1f1b1e565a39e50b7d748f049c4ad27c3a3ec05b': 'abidingness\\n',\n",
       " '92c91b7aed90d045e35a0ab4647b5954c5e3da0c9d8caae1f8cc8a6d13979ea8': 'abe\\n',\n",
       " '93d61aba4b748036a7374c378b39ceeafff1301c07b1b29b6fcd4058dda685d6': 'abaiser\\n',\n",
       " '953a4cfd9bd64f45945ae2fdb61a3c931d5ed9e6a1b44c8f32b7acc920807069': 'aboveground\\n',\n",
       " '959a84b0674fdabb5d17dba06ecdc2c21d50bf7a855a7ba86b59df744a175319': 'abepithymia\\n',\n",
       " '95d8e55da84632c337f425780f97aeec13dbc3b908b1863bc7ecd790d131df4f': 'abcoulomb\\n',\n",
       " '972956f2fffcc129b2e06929c7de230195ccb65885b7a92f3ff5699d78ad4c7e': 'abhorrer\\n',\n",
       " '979e016d80bd8a46793750bf35fb0e39b86b99e4ddfc9ec602a7fb4d62d286a8': 'abjunctive\\n',\n",
       " '98105a23055d9ce808a4ca0b7349ba2192bb3c4fddbae0bba91536ffbf49a54a': 'abranchious\\n',\n",
       " '98a96146ad497f5b0be77bab3996ae04008828df2360bbc4c41c8ebe78f90232': 'abiotrophy\\n',\n",
       " '99ac2ef910be45feb499e8c2ffc767a0528b300972e8ce8f1e30454bff1f0e42': 'abnormalist\\n',\n",
       " '99ec581a2d3ba6f4558d895a588f0e72f7863c19f5c3a51c2ce0c7e7f0baaf9a': 'abed\\n',\n",
       " '9a05066d2a586b7d4f603a52c2c4220e782f45c36333b6aba56ab1c1dddbf9f8': 'abiological\\n',\n",
       " '9a5a764eb0421dc82a1b0b21a6a729eb9adebc290aa08978bd4f54c4bf32aa3c': 'abiotrophic\\n',\n",
       " '9ab63a7af0f91454a5d58622858f212dd00be3f2e93365987b3d322295dc172b': 'abnegator\\n',\n",
       " '9b06eb651cee575c6b914f0d47a69c5b5e0b60d36bcb1811e66d084931a7ab00': 'abraham\\n',\n",
       " '9b97f45e6b2032e57694fed645b4b273c421256b72aae7db842ce79c4d3f1d69': 'abelite\\n',\n",
       " '9bdfdbb81835d2f1b5c1214e497c7d61c890c55c3da9cafd38b06dea45a915c3': 'abdominales\\n',\n",
       " '9c9dc8741c8ec5ea506587724dddc582bfe368e998b7d1a82ff9600a43a29a97': 'ably\\n',\n",
       " '9cef3f88d2299169bc8720fff9c8a7f02fa007a81db33f825f0005abf561c1aa': 'abash\\n',\n",
       " '9cf78979c28a6c5228e8ab15a71625a3d2aedf7d4b72764a002ab76b7a4535db': 'abiogenous\\n',\n",
       " '9da16eb6b99c5ac037d2eaa19e70d0414cdb0d5bfc4ba0cc13e47b11c122ad06': 'abortient\\n',\n",
       " '9ed191b42a8019dcdeef0827399085694690d03f137ceb8aac30220807c90f90': 'abolish\\n',\n",
       " '9f1b87bb9bdf9ee89d987f227b5b6a0063d0a2640b068e7a55d7f6fbf4eb0a54': 'abjective\\n',\n",
       " '9f6f32e6e6e78909c859ca8142f7a8c175c6d60988ffc5c45b686fe9978513f7': 'abietineous\\n',\n",
       " 'a011c0da1ebca41b36622f0f929c1d91ff71775a33f4e4daf75ba0cc92dde24e': 'abounding\\n',\n",
       " 'a01ef5eeb7a6636ece3911e432c5f1681071e2457db5efd0e1e6ad07459d48d6': 'abarthrosis\\n',\n",
       " 'a028d9e255d3a1b08b70a7b4ecab5d4c8b341b1b99e91dd55f5a3358fa4a6a08': 'abrogate\\n',\n",
       " 'a0e6fcfe1f8e002b82492152c97f6c6f22015c97a6e29b4bac9d902c2d3cdf37': 'abolition\\n',\n",
       " 'a12a76262c1ccb315b4f6ace9bf6f283452bbd3e8647d0947dc11dc4dcd59aa2': 'abaculus\\n',\n",
       " 'a1817e76d3a01d4524d93f6866e6ce555bbc0bc95c6e09534acbe57870460bf4': 'abba\\n',\n",
       " 'a20903319ec8d42131d49c2be7d430e28f32a05e392c18341e7f63401ba66928': 'abkhas\\n',\n",
       " 'a216dd78e336937a21fd1ef9f61ae7a4ac4df007e181218151fe3a3111e0da5a': 'abitibi\\n',\n",
       " 'a2b5365765955791dec333b9d295cfba487723e3855da05d0697fd912d138766': 'abintestate\\n',\n",
       " 'a2f6015df10b69c5a5ccc5aef976a53078c2e31476efa062942f74cba28397ff': 'abietate\\n',\n",
       " 'a47d280f82b3bc24d18db845ac4c35db0b707bd498e3709c7679b281c06ae3d4': 'abaxial\\n',\n",
       " 'a5cb2d08d2c4eb1e7bcf545a762997ff7f3971231b7ae9c8a77f75d378ad17d6': 'abele\\n',\n",
       " 'a668f0dbdfa68f395bb95f440d3264b58ae620cdd0b96173e3d84a670791f4f5': 'abaptiston\\n',\n",
       " 'a6ab672a6aec879f36bd52d89acbaccff233964fe85318a06e17b2dfe05d6cb0': 'abaton\\n',\n",
       " 'a6dd42d768384d8d067e203474ebd611723f53d5e10d527c105c1e164220865c': 'abator\\n',\n",
       " 'a72444c0b283c1f492b3d63afbf90af5ff8bff0e45c751427146a8bd689cd64d': 'abjuration\\n',\n",
       " 'a7b2d1fadae2f065647118d588119f90466ef503709470aee2fc95c05d962e3f': 'abruptedly\\n',\n",
       " 'a87f9590263d756ed743f1ede0526ecb6e3a39fcff09ad584d720dda18b71285': 'abnegate\\n',\n",
       " 'a940ab156bbd761e066e1d8496c5b9a71ec5d79528934f447ad3e6def02e7cbc': 'ablepsia\\n',\n",
       " 'a9825e538876ad88baaae15d186842acbc3b6836d2c8cda6e5e77423d63d5cca': 'abscond\\n',\n",
       " 'a9d0f27bf59bf35d379ad8ab0271dddbcb51e5bcd46b319876f013b20e7502f6': 'abase\\n',\n",
       " 'a9ed43a4f83a96c2326b79c0c4a813c2a786da017a55b24d17d7990c3ec08afa': 'aboard\\n',\n",
       " 'aa6d0f1fbda141eb08e7558a2d2942a4e0c0deabe98aa42bbc583df83dc6e58c': 'abnormous\\n',\n",
       " 'ab782908d13ce6c3d77c23eadd7b600ed3293f6ce604f1d060b509917969a1ef': 'ablins\\n',\n",
       " 'ac42fe26faf1ee1bf3d354baa3b4599fcfbca83470fb118addd93ed9240a839f': 'abiogenetically\\n',\n",
       " 'ac5a1676975ec2e5fb83cc41abf537ee74fc38f07daa599603287bf784103891': 'abohm\\n',\n",
       " 'acfec565a2086f1b7c55bed0c17170efa8d6914e7c42f757cf01bb064cdf5ea7': 'abandonedly\\n',\n",
       " 'ad8534bf2af46f223c4ff1f016443b9060f2d0afc0246c1ffa84e6f0abf31255': 'abram\\n',\n",
       " 'aec785da0450fb650b4b19e274484efd9110f90c4c371b0c4b3d563112efb1cb': 'abeyance\\n',\n",
       " 'aee7386fc2dff94832f06469f339946a2e528106dc6a0b83cee84bfb3a1c369f': 'abnormalness\\n',\n",
       " 'af86378f709bb1b6056074b8b32811d53427065d10e01de652f3d59f48857793': 'abencerrages\\n',\n",
       " 'b0ee05a1cc9d0ea2cb8ecb47193aea88e58a3e66b6fc1a95207e70044fccd103': 'abaze\\n',\n",
       " 'b1c96f8875372bbf249fd6665f90d8a564a5bb507550e829e3387ada54c70853': 'abashedness\\n',\n",
       " 'b2b797964690180f761c193499dd64fae06c2d49fa58337c8eb9324df0e92a08': 'abdominohysterotomy\\n',\n",
       " 'b31449c8a4eaac805555f96bf40c74485b9552b96ca45bd50e6febfa84c54e69': 'ablepharia\\n',\n",
       " 'b34d1b6f278bc1dc7343e9b71b5e19da042743efb0389692279b892514e379b3': 'abridge\\n',\n",
       " 'b3c5ec05918f99d373908cacbbdfa826e6d282fc1de45b650e0d8f238b0d3ddf': 'abort\\n',\n",
       " 'b41b3d358d5df7c9a87f541e1b3b2d683d465a3435604d4fae6d2584c4589110': 'abominableness\\n',\n",
       " 'b4dcd73311a803d0c81e5c501defe90d622684e5d6b6ca7daa5aaaa5480508ad': 'abashed\\n',\n",
       " 'b53779651a28146ccaf0125ad1c9e22c50c33ec58b763ed51fb32c6dca766eae': 'above\\n',\n",
       " 'b5480d1ab6bfd02af83917c3024f238867be5f102c66d844d85f25073f82c09e': 'abarticular\\n',\n",
       " 'b5844ac63624e931f96fb84f47a8f28075d21dab15ee06158b936e2a128d2c9a': 'abidal\\n',\n",
       " 'b5971c65a1b0194413c0e8d4267e1eabe4d998cb2972c33d23dfe2ef9f5bb328': 'abrim\\n',\n",
       " 'b6644ba1f5587a644205f8c0645bf146dd917229b365ddbff0ecc2f9746c0ac0': 'abbacy\\n',\n",
       " 'b6cc526ffe0b83b3defd00a730360af5bb73c488b69f2777188a1fe3fd586d50': 'abristle\\n',\n",
       " 'b6ea1a8923bede4ea43eb5f8c299c2a5561734a47a8501af853863e0f3bfdc0b': 'abelicea\\n',\n",
       " 'b7260ac01a889023819b86620a1ec2ec47e1f160737734ac5fe31452288d5ad2': 'abscondedly\\n',\n",
       " 'b82e5f408083fabdbf8a2f627e9ca322e6c7856570c7529634f8d95f965b270f': 'abortively\\n',\n",
       " 'b89561904528b6f0ee02fcd1ec03dd6499e61bc795817c3ef9854adf7fd8fc71': 'abbess\\n',\n",
       " 'b8b5cb86c71677850e813d83ec779126c64e89f67e8f34a6047180ee8d97c3f0': 'abidance\\n',\n",
       " 'b8f23fe3ee0d83eccc18711e9bed8b056693e73dd3887885106f0b33da3c8633': 'abasedness\\n',\n",
       " 'b8f936284533ef13c1a2ce58d85e08cb6c87d34900db20299c95c9e7b84d397d': 'aberrate\\n',\n",
       " 'b9ce311b128490d6f8685ea0d373f616b35715329b899475e754c403c989c041': 'abolitionize\\n',\n",
       " 'b9eac482a1773fffdbb600949edfe20d272759d1b6df5db20f817d1e6c58362a': 'abanic\\n',\n",
       " 'ba2ab079616dfd159ff0f2748849f0d3588e31c640900e83e2af5b2dab447fae': 'abjectedness\\n',\n",
       " 'ba9ec332eb4c7c67bccddd027d93d3c7a22adfd723e92405c04a75994020ab48': 'abashedly\\n',\n",
       " 'baba414a24a6a0d9ad6aa60d64c44aa0b44a1890d68f1d0521d7e67a49ec90fe': 'aaru\\n',\n",
       " 'bafa9919891b1e4781f0f0d35f24584ffe5fbcc394c29f11f12873fba7f87468': 'abiogenetical\\n',\n",
       " 'bb0dcb01a1d421437bda1e00ea2339fde2fdb3fc439e784ebcb2eef4c4fc5d88': 'abruptly\\n',\n",
       " 'bb378e6dc74bef5bcfaef95fc9a835a7a6be2f725bf85e1914ffd8ac5762430b': 'abdominoscopy\\n',\n",
       " 'bbc7a519ff3bc4a73e719994e3b47ebaebab9c2be915a54c97a977688e3e4930': 'abiogenesist\\n',\n",
       " 'bbd224d115c2a37ea699580297260b5234931c5017fedebb85ffe41f5d3caeb7': 'aaronitic\\n',\n",
       " 'bcfb645546120dd6628030cd906850ab291ec23e0bd2c5a7106a5cbd59781456': 'abask\\n',\n",
       " 'be52ade7562dab4fe2621b5b1031a179c52a38f0d40a541086d00b0d3b45c0bf': 'abjuratory\\n',\n",
       " 'be5bb53c4b490fd78f812e0a7273030219661f148facb0a9993745874177e64f': 'aback\\n',\n",
       " 'be8f6c83a9b848e7cf6f08e35800bc86eccc21391b6127439cfcb65cd1a3f3da': 'abrade\\n',\n",
       " 'be9a4695fd94bbcb20cbf8dd12197c94c2cf03d9f491b17ed5b46a0af198c1be': 'ablative\\n',\n",
       " 'beade4640e77a1e1cbe17f9ebbcb22b028f798152410d59df61b54e6c78ef5e2': 'abscision\\n',\n",
       " 'c095d493206843e93bbe07d4c8c253302482a76517fa7e4898aa25a24bc50bb3': 'abandon\\n',\n",
       " 'c0f22a9a144dbceedd5793fc2adb2984f4159cd03ad7f7f31f793463272f1651': 'abelmoschus\\n',\n",
       " 'c1b1bf0e581e84a8d9439aea73b2f80c63de4f97bed0600bc9a666d9a6c379fd': 'abounder\\n',\n",
       " 'c2a40bcf7938e080f0c1f0f3fd41fb24de1567f766ea28e0d7e6121410b0d1a3': 'abirritation\\n',\n",
       " 'c3093de59e69bb453f5742ef6651bcf3ce84c89862dde66e6ed3c3ad2e28f530': 'abhorrence\\n',\n",
       " 'c30bd494f2b6649d641d67c80bf2f5812eb5911cfd2db2ff4a1abd990b310447': 'aani\\n',\n",
       " 'c345fc050bac2d30ad81630175b2e3daa7a5581ae314218d9fc33984077832be': 'abox\\n',\n",
       " 'c36af518889b44c059882813665ae18740d01d13f8fc030b961ed721b81994f0': 'ablest\\n',\n",
       " 'c3c2ab26e96fcdb2b5f07f78ead7cfa837699e7a038bdb42fe3065596b44a7fa': 'abreast\\n',\n",
       " 'c3ddd11dd6b21cde1a983fd7c559fbec759adb07f6b164a400159c9fe10daf98': 'aboriginality\\n',\n",
       " 'c63b22d685b1d0e9d72f1f998021ecd79c6f1ecf6a33c18ce91a2447e1b2efc2': 'abecedarium\\n',\n",
       " 'c69a8bb0bcde381d0dd2aadbd8df29fb2a6995fd509029b9e9e8d9d7626293ce': 'aaronical\\n',\n",
       " 'c81f6a1b3c088b8a31c28f350bc1fe6fdbeefd0bfb276dca07018d19c74edc25': 'aberrator\\n',\n",
       " 'c833025f92bff8c0873a75e6f679ddc35e26218ce585d892721cf80b8049d1ab': 'abjudge\\n',\n",
       " 'c857b15e3cda8a0860b1164d37e899cc8c5458b2cc1148d1053e318e3ee3661d': 'aberrant\\n',\n",
       " 'c8efdbef68f514dadb9f07b025de87b8a9f7f7952e8e35c6663c1bc3c99fe222': 'abature\\n',\n",
       " 'c98fdf3d61f8829742d113ac1bd4ae802be4ac821106eaeef234e43a4efdeeef': 'abiology\\n',\n",
       " 'cae059064a0fffe21b5da8357d6e2a727fd27e1bb7f37c5a25f034ddbc633597': 'abnegative\\n',\n",
       " 'cae29fd001532f2fc93617aa94852e7e9b39c45f1b61531abd08c562d2ce5b4d': 'abiosis\\n',\n",
       " 'cd817f8d92e3bf5791010fc7480f710996505fb5567503add2de06142f2c6332': 'abietinic\\n',\n",
       " 'cdf2f5782232d292882dd065788c46eb0f6616b43a4e3c7e1d7655c954cb3ac9': 'abipon\\n',\n",
       " 'ce0bd79d291a15ede2d3a8bf330e24f62dd8067590b83ff7c16e0598fb32e3f7': 'abel\\n',\n",
       " 'ce12d59f57e3f04e7c16caa5c5ef8db17125b89837bee9222da221b6d8dacb19': 'abeyant\\n',\n",
       " 'ce141fb620e210223401570186be3f549f46a5e045ac23b20777314b02c6cc88': 'abode\\n',\n",
       " 'ce47eda3da8b0d00d640634fe1379f72dcc00bf6cfebb4ad15811f9a60efe151': 'abhorrible\\n',\n",
       " 'cf0119c843bfeaa3e0354f7123fea26b00e800498dbf213c508753e97eeaa7ad': 'abacinate\\n',\n",
       " 'cf686b424796c298b30eb74ce9d4f906e29663709df1cf3916088b4460a6f483': 'abranchialism\\n',\n",
       " 'd013c336631368bbf439de3c3f6cfbcf4cc2e62a88f747c77f7fb47afae3cb74': 'ababua\\n',\n",
       " 'd15b4135ef05d8f28e6f969e24762517b4bb05e844cdcea22e51d107eb5d2977': 'aba\\n',\n",
       " 'd1a8aef69f89fef94142e68db59fc8d67068773828c88220b703dc5b299c5279': 'abridger\\n',\n",
       " 'd1d452da32f9b869affb1d8fe9737c69287fc5abbc622b15245f0da99fcccdc8': 'abnormalism\\n',\n",
       " 'd2d5122e69f1f1786179aeb761a2fd9342d7e07832612709c6f533375b59f70f': 'aboon\\n',\n",
       " 'd2f72afac8f858851e5508d2de71f57f7a5466749747945b7d173f0f3173b3f0': 'abramis\\n',\n",
       " 'd303c7f322433976e1afd789fe028d99a13d926c1320469d3e2379b73a28e126': 'absalom\\n',\n",
       " 'd31bb84f84fa9c42f31951aec845abbcb40a5edb9bba71641051c7c1aa2eea8a': 'abdominogenital\\n',\n",
       " 'd3a0ca2752b9477ff390bfb31ae4899530e1122e24e807702cdd6bdc3a187fc9': 'abrocome\\n',\n",
       " 'd3a3041c0ac279c4ee0d22052e63de3b3029bc6dea26d33e4b0ae2abf16caaa4': 'aalii\\n',\n",
       " 'd4dccfc235c13e1a0f9e0e656c7e41d45eccbf2072e67e3c190fc5527ae2659f': 'abbreviately\\n',\n",
       " 'd51ad42c3529be51c0b0d61617f50bca0d0a1cda23d22d54a2ef24fd8561a53f': 'abdication\\n',\n",
       " 'd57cd859aa68da0c879e839f9a62ecd06af728f704aa625914aad7ff9fdf8049': 'abjunction\\n',\n",
       " 'd5b4d99612266af099c959fc2703ff3fff176f488b145446cdf88074dafd516b': 'abalienation\\n',\n",
       " 'd5bd76f135a0e5dda098fac9722e04a2f8858f6b73456a714b968274e6cff2dd': 'abby\\n',\n",
       " 'd7a02d9eb39b0833aba2ac8e4d718221b712afd1a649272c5df656e97bc8db7c': 'abdicator\\n',\n",
       " 'd83506ce76e56342f0dd7d931734ae84dec20222e702e42441d7b7da47bc9593': 'abiding\\n',\n",
       " 'd8d2cba4dba9380a318e96fd21ff222b1712239fa159a398dc565691cffff14d': 'abrico\\n',\n",
       " 'd8f1405cfe7cd0a574863bd2e7be7a0ada136a7ab22d65eb1bdacf2f483edffe': 'abdicable\\n',\n",
       " 'd90a2e567de9a9d86010ec9360101c7c122bc624311f43e965e09800fa8e860c': 'abeltree\\n',\n",
       " 'd93f785eff8167cabbc166fd18e6e54965affec6dbd3387566fff6dc04b3082c': 'abhenry\\n',\n",
       " 'd9699233b74edcff0c9187d4339b318672bf437b272fe867ab32db99154ca64d': 'abiogenetic\\n',\n",
       " 'd9dcef71ef45fa26712f9c4b7db5e6cbf0c9f98543801703eda6e9442f0d71bc': 'abietic\\n',\n",
       " 'da044adcad1e669277c814d1737f04ab874ce500dca80d258d963e93d5d85103': 'abrook\\n',\n",
       " 'da419531f6de558297a785ab38a692cdbd6d171df2f12009ff4804242ebd3678': 'abracadabra\\n',\n",
       " 'dc2160f57867db58faca22de25789a6c0a0ec9c2ce8d84d89ba4d5a877fe59ea': 'abdominocardiac\\n',\n",
       " 'dcf6c5dd5ecc1e27766ce32ab917d3a80ab2ee04c2cd08f865bcc68c39c651ee': 'abkar\\n',\n",
       " 'dd720a7fd78ed383d749541272dd7b979d75f99afcf8332019ce20b4b7435ea5': 'abantes\\n',\n",
       " 'de97cc7531de47ad56bc89c7a4a65c2ccd6387641998e58daf9f24ce235ed841': 'abie\\n',\n",
       " 'dea5ca266e7acd836e5bb8b8f5aae83a0f1533ac94f56f3e779c640d99ae8b6b': 'abatable\\n',\n",
       " 'df46e19e61f4975f57f8564ae1160a6d49d1d4a76826325b14c671b53532c359': 'abir\\n',\n",
       " 'df9a9ab2f339a9ebaaddf1cae33cc234c87a001bebc0c5ee3789134867ab5659': 'aboriginally\\n',\n",
       " 'e0328b5603e574c7c91152326b7107e6c59d4662acb26574c4c62871865f8534': 'aberdonian\\n',\n",
       " 'e0a0ad41339af524e76a238f46d2128c76f8b59b477d0aa334ac141a982c1160': 'abear\\n',\n",
       " 'e106cabf9ed235ce26b31a393d813f25c29b3fe34407846babbf6d9a03f20edd': 'ableptical\\n',\n",
       " 'e16ef7eb0609ad417192eb44fca8f617c639a400567000de418b706fd0604bc7': 'abarambo\\n',\n",
       " 'e19e145c4a41162d142d363dcff14f356eb014e962a49c66e5d9071da515dbef': 'abampere\\n',\n",
       " 'e1a00f7d37f67255a375dea4d2b2af8a182a3a531dededa2e6a0acf13e6d9a73': 'abacination\\n',\n",
       " 'e2cc52cc42ee185952435e9e6b022f4e7bcbe4ea6a3d2f75ce510d1263b9faa2': 'abronia\\n',\n",
       " 'e30612ed6db1c97643c5e71bcc723ddf390e86f644d2a1de20fe811942a4aaeb': 'absarokite\\n',\n",
       " 'e3c4737d5542f948505af3cba9aff8280aa237dddbc16fa62ed0a3055a976be3': 'abbasi\\n',\n",
       " 'e4b3d2ddb7905a003797583f2ea3a6b4b83317b9f6bfa374e97e7da45aa0c4b3': 'able\\n',\n",
       " 'e62b56c7c3e77d743b27ace1d89bd865fd31dd1c799d3e18ae082a5accaab332': 'abrasive\\n',\n",
       " 'e69edb81b7609aae08695dd869bf7e5860c3e068fc49855371778c0bc4ab0a4e': 'abdicant\\n',\n",
       " 'e924b77f8b02487c9f6e243348f4ee311f94d44fd2645ea7fc8c7cecabbe27c7': 'abaissed\\n',\n",
       " 'e9e2b884d0a5c42bce595278b37b59b2a17a09c30cb7c2150f3b621608719bd7': 'ablution\\n',\n",
       " 'ea6a6e3151d859396cf54b76bebf5ca9f56f1c0112e6a1441a8b30762ec4d598': 'abelmosk\\n',\n",
       " 'ea8a94ec015ba7fbc9bae9fe07c70d10dd69770046d22f1075713ee17efbe6dc': 'abate\\n',\n",
       " 'ebc54d5b9d156506e13ebca3e7226f5d5709dd2502f55e0e6482a0afe65b0cf0': 'abducent\\n',\n",
       " 'ec00152c433f5280a7818836ebebea2922d58715f48cfb1ba6338c92cd038b68': 'abbas\\n',\n",
       " 'eccf7014a89b7c37e43a52ddea2e8b2fe4ab928f3b8c55e947ba373006d0713c': 'abneural\\n',\n",
       " 'ed1f217a84ec4e5470505ff1df5d16c3037a30d4589bbf91b41198576d39ac08': 'ablepharon\\n',\n",
       " 'ed7489a3f6735bf89ac705bfad05470da72773d2734a49f7d3eab791db83f164': 'abiologically\\n',\n",
       " 'ed95f5b6b3c9ddf82a0c38605772260db13a52d8ddff612716449d3589e2bb5e': 'abridged\\n',\n",
       " 'edac1740af2dea6f2c597d65533009cc42eb76e4b79953e8a95558c1e2f2b598': 'abashment\\n',\n",
       " 'edb6d67667cafe9fc654527665bbe23056f7fa33ce27f8f03e9d0e4395cc4db0': 'abduction\\n',\n",
       " 'ee4e06d9664519fefb4d4e6684e2605e062f249ec0f1f409cdbd23abac2a7fb6': 'abaisance\\n',\n",
       " 'ee95c9128b1027cf9b8657ffed3d9ecf7faed0b2ddc57d3fbd49afc949b63486': 'aberration\\n',\n",
       " 'ef0b1ac8880e13f9a1e602a6cdffedfbd8636fe01605c096ed74e1d9d08a3345': 'abbreviature\\n',\n",
       " 'ef12a3b0d220b9ac8c57be59a3a9fd905695025c7e282dca9c13142985ea2455': 'abhorrency\\n',\n",
       " 'ef62597ac89c2629113a4112a6f58e85d1d1d7dff6d9ccb293bc9c4699873298': 'ablegate\\n',\n",
       " 'eff99aef30b6041ff94aa10722dc763a7352e2bee4018b8c514b4271838c7d65': 'ablepharus\\n',\n",
       " 'f178e94e7ee0e98f88a98a25048e9f74173fffcdd47c5d5d7befc7c36600aab9': 'abortional\\n',\n",
       " 'f17f03c90158a903476b1e8498f45c4401c0934de2d56b31a32cf5c438c206f6': 'abdal\\n',\n",
       " 'f1eaf965ffa9312f85eb1b11cb059678af559ad68f911ed6177965f8bc4e34eb': 'abscessroot\\n',\n",
       " 'f1fb7a8e6a5e04791605acfc92b82cf1a27a47e8228ef2f0fc0fffa823713d7c': 'ablator\\n',\n",
       " 'f24baaca11cde7a07e075dae9ebfcf5614c7430ce28b44477d9aef53ccac266c': 'abashlessly\\n',\n",
       " 'f35b4a7ad72444a2e1775a629257e437080e186bd281c3bdbede41821dedfc81': 'abord\\n',\n",
       " 'f39afde4b022bb04179fa0a23aaf2407643dd7fae9dac859e07d05a9ed1aef93': 'abelia\\n',\n",
       " 'f3d568369230296f7fffaf22b287cd6f7697bdf4c6ef239c2f6bccb64d099997': 'abeyancy\\n',\n",
       " 'f3ded130fff818e11145be32b11bf074e091a82a3de571faf5573bd3dc526380': 'abnet\\n',\n",
       " 'f5526a9177f4ab2bd62e497424fa8175db18238843a240da244d3ce2646fd891': 'abortionist\\n',\n",
       " 'f561956852f6e1efee1569b458ae3bf5e5ab8f46f9816ca7eb1c782b0c7971f5': 'abjectly\\n',\n",
       " 'f71593534860364e632655e9762a9e207849f871141497dc018a73cb0ee23a4b': 'aborted\\n',\n",
       " 'f78c9b0911d5645343688f7f549139b79bb091716024f80cef679d59c30e7870': 'abbey\\n',\n",
       " 'fabca360c21f0bbaef901c1f472fb81f49e875224974f80c58a0c8c86b060e54': 'ablate\\n',\n",
       " 'faef8b8a2af5d3715a7ecd567d47dd1d937aad485fca26a6c02490595754c4bc': 'ablow\\n',\n",
       " 'fb4b9de13dc6e85c114ee9fc590f7217723f16e400b4d9eabef53dceba914efd': 'aboveboard\\n',\n",
       " 'fd657ae10ecdfb8987eb9b57d9bd18cb38f36a8cfcafaf787deb3a460acac5a6': 'abaca\\n',\n",
       " 'fd86337377046a981b87c5e004e04aab09ccf58c7312f3c7f0a7be098468551e': 'abdicate\\n',\n",
       " 'fe1ed2ac23bbc957eee3a08b29c5b7f676e5ca3869e3400b29081a12a626540f': 'abiogeny\\n',\n",
       " 'fe65d48059325f34b3d4c705cb7f4a334b242dbd6146471f5b38fa5ba263e3db': 'abluvion\\n',\n",
       " 'ff23cb4a831bce65ba1231df7d25f3a2007a107cc8044b96200e69a151aef109': 'abdomen\\n',\n",
       " 'ff373db7dadf4f6b27e40d2953264b520225e35eeee3c5af439026d67e9b94d6': 'abbie\\n',\n",
       " 'ff5137f6f8098659f4061d164efdb809dea6e40e7e84c8b6edca586144ddf77a': 'abortiveness\\n',\n",
       " 'ff5c5a928901214c09dce2320100a7291beb6fe933fc07576397b279c49a0133': 'abominably\\n',\n",
       " 'ffd528921114f58674855b2931094782c59f31256db9021ac04a8af424f4b57f': 'abaft\\n'}"
      ]
     },
     "execution_count": 58,
     "metadata": {},
     "output_type": "execute_result"
    }
   ],
   "source": [
    "dictio"
   ]
  },
  {
   "cell_type": "code",
   "execution_count": 60,
   "metadata": {},
   "outputs": [
    {
     "data": {
      "text/plain": [
       "'abasedly\\n'"
      ]
     },
     "execution_count": 60,
     "metadata": {},
     "output_type": "execute_result"
    }
   ],
   "source": [
    "dictio['03b91fcfc0c3b91f2a869e1616499e5b99e0d6aec8e2df0370fcc94f12235b0c']"
   ]
  },
  {
   "cell_type": "markdown",
   "metadata": {},
   "source": [
    "playing with dictionaries"
   ]
  },
  {
   "cell_type": "code",
   "execution_count": 61,
   "metadata": {},
   "outputs": [
    {
     "name": "stdout",
     "output_type": "stream",
     "text": [
      "heelo\n"
     ]
    }
   ],
   "source": [
    "if \"xxx\"  not in dictio:\n",
    "    print('heelo')"
   ]
  },
  {
   "cell_type": "code",
   "execution_count": 62,
   "metadata": {},
   "outputs": [],
   "source": [
    "def getKeysByValue(dictOfElements, valueToFind):\n",
    "    listOfKeys = list()\n",
    "    listOfItems = dictOfElements.items()\n",
    "    for item  in listOfItems:\n",
    "        if item[1] == valueToFind:\n",
    "            listOfKeys.append(item[0])\n",
    "    return  listOfKeys"
   ]
  },
  {
   "cell_type": "code",
   "execution_count": 63,
   "metadata": {},
   "outputs": [
    {
     "data": {
      "text/plain": [
       "['03b91fcfc0c3b91f2a869e1616499e5b99e0d6aec8e2df0370fcc94f12235b0c']"
      ]
     },
     "execution_count": 63,
     "metadata": {},
     "output_type": "execute_result"
    }
   ],
   "source": [
    "getKeysByValue(dictio, 'abasedly\\n')"
   ]
  },
  {
   "cell_type": "markdown",
   "metadata": {},
   "source": [
    "## On veut maintenant rechercher les intersections avec un autre .txt file : grace à notre dictionnaire : structutre de hash on peut facilement en O(1) acceder aux valeurs"
   ]
  },
  {
   "cell_type": "markdown",
   "metadata": {},
   "source": [
    "---------------------------------"
   ]
  },
  {
   "cell_type": "markdown",
   "metadata": {},
   "source": [
    "#### Etant donné ma fonction de hashage je ne peux pas trier comme ca car je n'ai pas de relation d'odre dans mon hash simple... Et donc derriere je ne peux pas chercher de facon efficace dans ma table de hashage \n",
    "#### Je dois donc avoir une complexite en O(n^2) pour chercher les colisions ce qui n'est pas le but du tp....\n",
    "#### je suis donc obligé d'utilisé un dictionnaire python pour remédier à ce problème"
   ]
  },
  {
   "cell_type": "markdown",
   "metadata": {},
   "source": [
    "####  J'aurais pu abandonner mon idée de hashage utilisant celui du Bitcoin et revenir à un hashage plus simple pour ne pas utiliser les dictionnaire en python mais au final ca revient au meme... "
   ]
  },
  {
   "cell_type": "markdown",
   "metadata": {},
   "source": [
    "-------------------------------------"
   ]
  },
  {
   "cell_type": "markdown",
   "metadata": {},
   "source": [
    "## Taking a second .txt file  : hashing word by word and looking if it is in the dictionnary and checking the value et counting the intersection "
   ]
  },
  {
   "cell_type": "code",
   "execution_count": 70,
   "metadata": {},
   "outputs": [],
   "source": [
    "def count_intersection(file):\n",
    "\n",
    "\n",
    "    intersection = []\n",
    "    text = []\n",
    "    with open( file , \"r\") as f:\n",
    "        for word in f:\n",
    "            text.append(word)\n",
    "            \n",
    "    n = len(text)\n",
    "\n",
    "    for i in range(n):\n",
    "        \n",
    "        test_hash = double_btc_hash(text[i].encode('utf-8'))\n",
    "        if test_hash in dictio:\n",
    "            if dictio[test_hash] == text[i]: \n",
    "                intersection.append(text[i])\n",
    "                print('we added', text[i], 'to the intersection file')\n",
    "                \n",
    "    \n",
    "\n",
    "    \n",
    "    \n",
    "    \n",
    "    print(\"\\n\")\n",
    "    print(\"Les deux textes ont\", len(intersection), \"mots en commun\")\n",
    "    print(\"\\n\")\n",
    "\n",
    "    return(intersection)"
   ]
  },
  {
   "cell_type": "code",
   "execution_count": 71,
   "metadata": {},
   "outputs": [
    {
     "name": "stdout",
     "output_type": "stream",
     "text": [
      "we added a\n",
      " to the intersection file\n",
      "we added aaron\n",
      " to the intersection file\n",
      "we added abandon\n",
      " to the intersection file\n",
      "we added abandoned\n",
      " to the intersection file\n",
      "we added abase\n",
      " to the intersection file\n",
      "we added abash\n",
      " to the intersection file\n",
      "we added abate\n",
      " to the intersection file\n",
      "we added abatement\n",
      " to the intersection file\n",
      "we added abbess\n",
      " to the intersection file\n",
      "we added abbey\n",
      " to the intersection file\n",
      "we added abbot\n",
      " to the intersection file\n",
      "we added abed\n",
      " to the intersection file\n",
      "we added abel\n",
      " to the intersection file\n",
      "we added abet\n",
      " to the intersection file\n",
      "we added abhominable\n",
      " to the intersection file\n",
      "we added abhor\n",
      " to the intersection file\n",
      "we added abhorring\n",
      " to the intersection file\n",
      "we added abhorson\n",
      " to the intersection file\n",
      "we added abide\n",
      " to the intersection file\n",
      "we added ability\n",
      " to the intersection file\n",
      "we added abject\n",
      " to the intersection file\n",
      "we added abjectly\n",
      " to the intersection file\n",
      "we added abjure\n",
      " to the intersection file\n",
      "we added able\n",
      " to the intersection file\n",
      "we added abler\n",
      " to the intersection file\n",
      "we added aboard\n",
      " to the intersection file\n",
      "we added abode\n",
      " to the intersection file\n",
      "we added abominable\n",
      " to the intersection file\n",
      "we added abominably\n",
      " to the intersection file\n",
      "we added abortive\n",
      " to the intersection file\n",
      "we added abound\n",
      " to the intersection file\n",
      "we added abounding\n",
      " to the intersection file\n",
      "we added about\n",
      " to the intersection file\n",
      "we added above\n",
      " to the intersection file\n",
      "we added abraham\n",
      " to the intersection file\n",
      "we added abram\n",
      " to the intersection file\n",
      "we added abreast\n",
      " to the intersection file\n",
      "we added abridge\n",
      " to the intersection file\n",
      "we added abridged\n",
      " to the intersection file\n",
      "we added abridgment\n",
      " to the intersection file\n",
      "we added abroach\n",
      " to the intersection file\n",
      "we added abroad\n",
      " to the intersection file\n",
      "we added abrogate\n",
      " to the intersection file\n",
      "we added abrook\n",
      " to the intersection file\n",
      "we added abrupt\n",
      " to the intersection file\n",
      "we added abruption\n",
      " to the intersection file\n",
      "we added abruptly\n",
      " to the intersection file\n",
      "\n",
      "\n",
      "Les deux textes ont 47 mots en commun\n",
      "\n",
      "\n"
     ]
    },
    {
     "data": {
      "text/plain": [
       "['a\\n',\n",
       " 'aaron\\n',\n",
       " 'abandon\\n',\n",
       " 'abandoned\\n',\n",
       " 'abase\\n',\n",
       " 'abash\\n',\n",
       " 'abate\\n',\n",
       " 'abatement\\n',\n",
       " 'abbess\\n',\n",
       " 'abbey\\n',\n",
       " 'abbot\\n',\n",
       " 'abed\\n',\n",
       " 'abel\\n',\n",
       " 'abet\\n',\n",
       " 'abhominable\\n',\n",
       " 'abhor\\n',\n",
       " 'abhorring\\n',\n",
       " 'abhorson\\n',\n",
       " 'abide\\n',\n",
       " 'ability\\n',\n",
       " 'abject\\n',\n",
       " 'abjectly\\n',\n",
       " 'abjure\\n',\n",
       " 'able\\n',\n",
       " 'abler\\n',\n",
       " 'aboard\\n',\n",
       " 'abode\\n',\n",
       " 'abominable\\n',\n",
       " 'abominably\\n',\n",
       " 'abortive\\n',\n",
       " 'abound\\n',\n",
       " 'abounding\\n',\n",
       " 'about\\n',\n",
       " 'above\\n',\n",
       " 'abraham\\n',\n",
       " 'abram\\n',\n",
       " 'abreast\\n',\n",
       " 'abridge\\n',\n",
       " 'abridged\\n',\n",
       " 'abridgment\\n',\n",
       " 'abroach\\n',\n",
       " 'abroad\\n',\n",
       " 'abrogate\\n',\n",
       " 'abrook\\n',\n",
       " 'abrupt\\n',\n",
       " 'abruption\\n',\n",
       " 'abruptly\\n']"
      ]
     },
     "execution_count": 71,
     "metadata": {},
     "output_type": "execute_result"
    }
   ],
   "source": [
    "count_intersection('texte_Shakespeare.txt')"
   ]
  },
  {
   "cell_type": "code",
   "execution_count": null,
   "metadata": {},
   "outputs": [],
   "source": [
    "def intersection(hash1, hash2):\n",
    "    mot_intersection = []\n",
    "    n = len(hash1[1])\n",
    "    \n",
    "    for i in range(n):\n",
    "        for j in range(n):\n",
    "            if i != j and hash1[1][i] = hash2[1][2]:\n",
    "                print('prout')\n",
    "    "
   ]
  },
  {
   "cell_type": "markdown",
   "metadata": {},
   "source": [
    "### Comptage des mots commun entre deux .txt file "
   ]
  }
 ],
 "metadata": {
  "colab": {
   "name": "Bitcoin_Price_Prediction.ipynb",
   "provenance": [],
   "version": "0.3.2"
  },
  "kernelspec": {
   "display_name": "Python 3",
   "language": "python",
   "name": "python3"
  },
  "language_info": {
   "codemirror_mode": {
    "name": "ipython",
    "version": 3
   },
   "file_extension": ".py",
   "mimetype": "text/x-python",
   "name": "python",
   "nbconvert_exporter": "python",
   "pygments_lexer": "ipython3",
   "version": "3.7.3"
  }
 },
 "nbformat": 4,
 "nbformat_minor": 1
}
